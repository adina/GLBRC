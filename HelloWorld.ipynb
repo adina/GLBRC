{
 "cells": [
  {
   "cell_type": "code",
   "execution_count": 1,
   "metadata": {},
   "outputs": [
    {
     "data": {
      "application/vnd.jupyter.widget-view+json": {
       "model_id": "f59d1a293f094ec9b4f210f62af917e5",
       "version_major": 2,
       "version_minor": 0
      },
      "text/plain": [
       "interactive(children=(IntSlider(value=50, description='x', step=10), Output()), _dom_classes=('widget-interact…"
      ]
     },
     "metadata": {},
     "output_type": "display_data"
    }
   ],
   "source": [
    "from ipywidgets import interact\n",
    "def square(x): \n",
    "    print(\"Hello Freaking World!!!\")\n",
    "    return x * x\n",
    "interact(square, x=(0, 100, 10));"
   ]
  }
 ],
 "metadata": {
  "kernelspec": {
   "display_name": "Python 3",
   "language": "python",
   "name": "python3"
  },
  "language_info": {
   "codemirror_mode": {
    "name": "ipython",
    "version": 3
   },
   "file_extension": ".py",
   "mimetype": "text/x-python",
   "name": "python",
   "nbconvert_exporter": "python",
   "pygments_lexer": "ipython3",
   "version": "3.7.4"
  },
  "widgets": {
   "application/vnd.jupyter.widget-state+json": {
    "state": {
     "025b18d1ecde431386fd47d6be233119": {
      "model_module": "@jupyter-widgets/base",
      "model_module_version": "1.2.0",
      "model_name": "LayoutModel",
      "state": {}
     },
     "1827ef7f05ff427ebb7cbb4c4ef6d3d9": {
      "model_module": "@jupyter-widgets/controls",
      "model_module_version": "1.5.0",
      "model_name": "IntSliderModel",
      "state": {
       "description": "x",
       "layout": "IPY_MODEL_824d3472629b4066a93f3a23904603bb",
       "step": 10,
       "style": "IPY_MODEL_7be9bc88190c492c80c8a7a775766ed9",
       "value": 50
      }
     },
     "70e6a84450c84804bdb624bdc3bdee46": {
      "model_module": "@jupyter-widgets/output",
      "model_module_version": "1.0.0",
      "model_name": "OutputModel",
      "state": {
       "layout": "IPY_MODEL_025b18d1ecde431386fd47d6be233119",
       "outputs": [
        {
         "name": "stdout",
         "output_type": "stream",
         "text": "Hello Freaking World!!!\n"
        },
        {
         "data": {
          "text/plain": "2500"
         },
         "metadata": {},
         "output_type": "display_data"
        }
       ]
      }
     },
     "76f4b0608ca54c62b6777fc9add1adc2": {
      "model_module": "@jupyter-widgets/base",
      "model_module_version": "1.2.0",
      "model_name": "LayoutModel",
      "state": {}
     },
     "7be9bc88190c492c80c8a7a775766ed9": {
      "model_module": "@jupyter-widgets/controls",
      "model_module_version": "1.5.0",
      "model_name": "SliderStyleModel",
      "state": {
       "description_width": ""
      }
     },
     "824d3472629b4066a93f3a23904603bb": {
      "model_module": "@jupyter-widgets/base",
      "model_module_version": "1.2.0",
      "model_name": "LayoutModel",
      "state": {}
     },
     "f59d1a293f094ec9b4f210f62af917e5": {
      "model_module": "@jupyter-widgets/controls",
      "model_module_version": "1.5.0",
      "model_name": "VBoxModel",
      "state": {
       "_dom_classes": [
        "widget-interact"
       ],
       "children": [
        "IPY_MODEL_1827ef7f05ff427ebb7cbb4c4ef6d3d9",
        "IPY_MODEL_70e6a84450c84804bdb624bdc3bdee46"
       ],
       "layout": "IPY_MODEL_76f4b0608ca54c62b6777fc9add1adc2"
      }
     }
    },
    "version_major": 2,
    "version_minor": 0
   }
  }
 },
 "nbformat": 4,
 "nbformat_minor": 4
}
