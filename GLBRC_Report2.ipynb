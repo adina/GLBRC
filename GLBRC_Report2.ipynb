{
 "cells": [
  {
   "cell_type": "markdown",
   "metadata": {},
   "source": [
    "<a id=\"home\"></a>\n",
    "\n",
    "# GLBRC collaboration\n",
    "#### Adina, Ashley, Shane, Nejc\n",
    "\n",
    "0. [Sequencing and alignment Summaries](#seqSums)\n",
    "    *  <u>Inputs:<br/></u>\n",
    "        *  136 Phred-33 fastq files from samples obtained from washes of Switchgrass and Miscanthus transfered from JGI.\n",
    "        *  Illumina TruSeq version 3.2 sequencing adapters. \n",
    "    *  <u>Outputs:<br/></u>\n",
    "        *  [Adapter Trimming and QC (Trimmomatic) Report](#seqSums)\n",
    "        *  [Host Plant Alignment Report](#pAlign)\n",
    "        *  [Fungal Alignments](#fAlign)\n",
    "        *  [Alignment Conclusions](#aConc)\n",
    "1. Overarching analysis - changes in metagenome content over time\n",
    "    *  <u>Inputs:<br/></u>\n",
    "        *  Functional Gene Count table, mapped to KEGG/functions [Annotation Methodology](#annoMeth)\n",
    "    *  <u>Outputs:<br/></u>\n",
    "        *  [PCoA and analysis of changes over time – related time/season – use](#pcoa)\n",
    "            *  [How variable are metagenomes across replicate time points?  - PERMDISP](#pDisp)\n",
    "        *  [Synchrony – does the 16S change in concert with functional?](#synch)\n",
    "            *  [PROTEST – Procustes superimposition, Mantel](#proTest)\n",
    "                *  [Sanity check:  core metabolism changing over time?](#sCheck)\n",
    "            *  Assembly of functional genes - is it stable over time, does it accumulate/convergence faster than 16S -John G infant gut - consecutive v. end point –\n",
    "                *  Bray-Curtis distance of 16S t1 v t2, T1 v T3, T1 v TFinal, model of convergence for both\n",
    "                *  Hierarchical clustering – clusters can inform this question (e.g. T4, 5,6 grouped with final time\n",
    "        *  Core functional genes – Nejc is the point person\n",
    "             *  Omit core metabolism from the normalized table to focus only on non-housekeeping functions- -\n",
    "             *  Discovery/identify Occupancy 100% at a time point\n",
    "                *  All genes that are in all samples – Shane is using the median\n",
    "             *  Who are those core genes?\n",
    "                *  Levy paper – symbiosis genes?  How to search?\n",
    "                   *  Map pfams from the Levy paper to sequence level homology in KEGG?\n",
    "                *  Other genes that are not mentioned in Levy but are leaf-specific (e.g., irradiation/desiccation exposure)\n",
    "2.  Analysis of bins (MAGs)\n",
    "  - Annotate them – who has which core functional genes (identified above)\n",
    "  - How well do they overlap with our Core from the 16S paper?  %coverage – Jackson will be the point person for that\n",
    "    - Match 16S (but this is problematic because probably won&#39;t assemble well)\n",
    "    - Use Udeobacter paper as a guide for MAG recovery analysis as compared to 16S – use the most resolved taxonomy –\n",
    "    - Basic stats on MAGs – how abundant are those taxa in the dataset and how persistent are they over time?  Where are the gaps, given the core\n",
    "3.  metaT\n",
    "  - Map both to metaG and to MAGs\n",
    "  - Subset the core genes for this analysis?\n",
    "  - Do we see the same patterns in metaG and metaT, over time?\n",
    "  - Is everyone active?  What proportion of the community?  Only certain members? Can we &quot;get away&quot; with just metaG to understand who is active?"
   ]
  },
  {
   "cell_type": "code",
   "execution_count": 1,
   "metadata": {},
   "outputs": [],
   "source": [
    "#HIDDEN\n",
    "# import sys\n",
    "# !{sys.executable} -m pip install nodejs ipywidgets==7.5.0 jupyterlab matplotlib_venn cufflinks sklearn numpy pandas scipy matplotlib plotly==4.3.0 nbinteract jupyter_contrib_nbextensions \n",
    "# # nbextension\n",
    "# !{sys.executable} -m jupyter contrib nbextension install --user\n",
    "# !{sys.executable} -m jupyter labextension install @jupyter-widgets/jupyterlab-manager\n",
    "# !{sys.executable} -m jupyter nbextension enable --py --sys-prefix widgetsnbextension\n",
    "# !{sys.executable} -m jupyter nbextension enable --py --sys-prefix bqplot\n",
    "# !{sys.executable} -m jupyter labextension install @jupyterlab/celltags\n",
    "\n",
    "# !conda update jupyterlab && jupyter labextension update --all\n",
    "# !jupyter contrib nbextension install\n",
    "# !jupyter labextension install jupyter-matplotlib\n",
    "# !jupyter labextension install @jupyter-widgets/jupyterlab-manager\n",
    "# !jupyter labextension install @jupyterlab/plotly-extension\n",
    "# !jupyter labextension install @jupyterlab/celltags\n",
    "# !jupyter lab build\n",
    "# !jupyter nbextension enable --py --sys-prefix bqplot\n",
    "# !jupyter nbextension enable --py widgetsnbextension --sys-prefix\n",
    "# !jupyter nbextension enable --py plotlywidget --sys-prefix"
   ]
  },
  {
   "cell_type": "code",
   "execution_count": 1,
   "metadata": {},
   "outputs": [
    {
     "data": {
      "application/vnd.jupyter.widget-view+json": {
       "model_id": "ac3d55eb6be6475788dfa0b915fff133",
       "version_major": 2,
       "version_minor": 0
      },
      "text/plain": [
       "interactive(children=(Text(value='Sam', description='name'), Dropdown(description='number', options={'One': 1,…"
      ]
     },
     "metadata": {},
     "output_type": "display_data"
    }
   ],
   "source": [
    "#Hidden\n",
    "\n",
    "from ipywidgets import interact\n",
    "def friends(name, number):\n",
    "    return '{} has {} friends!'.format(name, number)\n",
    "interact(friends, name='Sam', number={'One': 1, 'Five': 5, 'Ten': 10});"
   ]
  },
  {
   "cell_type": "code",
   "execution_count": 2,
   "metadata": {},
   "outputs": [
    {
     "data": {
      "text/html": [
       "        <script type=\"text/javascript\">\n",
       "        window.PlotlyConfig = {MathJaxConfig: 'local'};\n",
       "        if (window.MathJax) {MathJax.Hub.Config({SVG: {font: \"STIX-Web\"}});}\n",
       "        if (typeof require !== 'undefined') {\n",
       "        require.undef(\"plotly\");\n",
       "        requirejs.config({\n",
       "            paths: {\n",
       "                'plotly': ['https://cdn.plot.ly/plotly-latest.min']\n",
       "            }\n",
       "        });\n",
       "        require(['plotly'], function(Plotly) {\n",
       "            window._Plotly = Plotly;\n",
       "        });\n",
       "        }\n",
       "        </script>\n",
       "        "
      ]
     },
     "metadata": {},
     "output_type": "display_data"
    }
   ],
   "source": [
    "#HIDDEN\n",
    "#%matplotlib inline\n",
    "\n",
    "from glob import glob\n",
    "from IPython.display import Audio\n",
    "from ipywidgets import Text, Dropdown, Output, interact\n",
    "from matplotlib.collections import LineCollection\n",
    "from matplotlib import pyplot as plt\n",
    "from pandas import DataFrame, merge, read_csv, Series, to_datetime\n",
    "from pickle import dump, load\n",
    "from random import randint \n",
    "from sklearn import manifold\n",
    "from sklearn.metrics import euclidean_distances\n",
    "import cufflinks as cf\n",
    "import numpy as np\n",
    "import warnings\n",
    "cf.go_offline()\n",
    "# cf.set_config_file(offline=False, world_readable=True)\n",
    "cf.set_config_file(offline=True, world_readable=True)\n",
    "\n",
    "done = Audio('done.wav',autoplay=True)\n",
    "warnings.simplefilter(action='ignore', category=FutureWarning)\n",
    "def comma(number): return \"{:,}\".format(number)\n",
    "def scolor(i,n,pickColor): \n",
    "    scalar = 255 - int((i/float(n))*120) \n",
    "    if pickColor: return '#%02X%02X%02X' % (128,scalar,128)\n",
    "    return '#%02X%02X%02X' % (75,scalar,200)\n",
    "\n",
    "#conda install -n base bedtools samtools khmer numpy scipy sra-tools trimmomatic jupyterlab \n",
    "#jupyter_contrib_nbextensions widgetsnbextension nodejs sra-tools r-essentials r-base r-rsqlite r-vegan bioconductor-biocinstaller \n",
    "\n",
    "# For metaG\n",
    "metadataG = read_csv(\"metadata/GLBRC_MetaG_Metadata.tsv\",sep='\\t')\n",
    "metadataG.set_index(\"nucleic_acid_name\",inplace=True)\n",
    "metadataG.drop([\"source\",\"sampling ID\",\"sequencing_type\",\"height_mean_cm\",\"air_temp_c\",\"rep\",\"Sampling Time\",\"reads_file_name\",\"treatment\"],axis=1,inplace=True) \n",
    "for id in metadataG.index: metadataG.loc[id,\"type\"] = metadataG[metadataG.index == id].plot_name[0][0:2]\n",
    "metadataG['Date'] = to_datetime(metadataG.sampling_date)\n",
    "metadataG=metadataG.sort_values(by=[\"type\",\"Date\"])\n",
    "metadataG.drop([\"sampling_date\"],axis=1,inplace=True)\n",
    "metaG_Reads = read_csv(\"mapping/metaG/hostRemovalFlagstats/multiqc_data/multiqc_bowtie2.txt\",sep=\"\\t\")\n",
    "for id in metaG_Reads.index: metaG_Reads.at[id,\"Sample\"] = metaG_Reads.at[id,\"Sample\"].replace(\".stat\",\"\")\n",
    "metaG_Reads.set_index(\"Sample\",inplace=True)\n",
    "metadataG = merge(metadataG,metaG_Reads,left_index=True,right_index=True)\n",
    "metadataG.sort_values(\"Date\",inplace=True)\n",
    "metadataG[\"aligned\"] = (metadataG['paired_total']-metadataG['paired_aligned_mate_none_halved'])\n",
    "metadataG[\"percPlantAligned\"]= metadataG[\"overall_alignment_rate\"]\n",
    "metadataG[\"Plant Reads\"] = metadataG[\"aligned\"]\n",
    "metadataG[\"Total\"] = metadataG[\"paired_total\"]\n",
    "metadataG.drop(['aligned','total_reads','paired_total','paired_aligned_none','paired_total','paired_aligned_one', 'paired_aligned_multi',\n",
    "       'paired_aligned_discord_one', 'paired_aligned_mate_none',\n",
    "       'paired_aligned_mate_one', 'paired_aligned_mate_multi',\n",
    "       'overall_alignment_rate', 'paired_aligned_mate_multi_halved',\n",
    "       'paired_aligned_mate_none_halved', 'paired_aligned_mate_one_halved'],axis=1,inplace=True)\n",
    "metaG_Reads = read_csv(\"mapping/metaG/fungalRemovalFlagstats/multiqc_data/multiqc_bowtie2.txt\",sep=\"\\t\")\n",
    "for id in metaG_Reads.index: metaG_Reads.at[id,\"Sample\"] = metaG_Reads.at[id,\"Sample\"].replace(\".fungal.stat\",\"\")\n",
    "metaG_Reads.set_index(\"Sample\",inplace=True)\n",
    "metadataG = merge(metadataG,metaG_Reads,left_index=True,right_index=True)\n",
    "metadataG.sort_values(\"Date\",inplace=True)\n",
    "metadataG[\"Fungal Reads\"] = (metadataG['paired_total']-metadataG['paired_aligned_mate_none_halved'])\n",
    "metadataG[\"percFungalAligned\"]= metadataG[\"overall_alignment_rate\"]\n",
    "metadataG['percFungalAligned'] = Series([float(\"{0:.2f}%\".format(val).replace(\"%\",\"\")) for val in metadataG['percFungalAligned']], index = metadataG.index)\n",
    "metadataG['percPlantAligned']  = Series([float(\"{0:.2f}%\".format(val).replace(\"%\",\"\")) for val in metadataG['percPlantAligned']], index = metadataG.index)\n",
    "metadataG['Remaining'] = metadataG['paired_aligned_mate_none_halved']\n",
    "metadataG['percRemaining'] = (metadataG[\"Remaining\"]/metadataG['Total'])*100\n",
    "metadataG.drop(['total_reads','paired_total','paired_aligned_none','paired_total','paired_aligned_one', 'paired_aligned_multi',\n",
    "       'paired_aligned_discord_one', 'paired_aligned_mate_none',\n",
    "       'paired_aligned_mate_one', 'paired_aligned_mate_multi',\n",
    "       'overall_alignment_rate', 'paired_aligned_mate_multi_halved',\n",
    "       'paired_aligned_mate_none_halved', 'paired_aligned_mate_one_halved'],axis=1,inplace=True)"
   ]
  },
  {
   "cell_type": "code",
   "execution_count": null,
   "metadata": {},
   "outputs": [],
   "source": [
    "# TEST #3"
   ]
  },
  {
   "cell_type": "code",
   "execution_count": 2,
   "metadata": {},
   "outputs": [
    {
     "data": {
      "application/vnd.jupyter.widget-view+json": {
       "model_id": "4e60029d684040e798e025a697dbfd44",
       "version_major": 2,
       "version_minor": 0
      },
      "text/plain": [
       "QgridWidget(grid_options={'fullWidthRows': True, 'syncColumnCellResize': True, 'forceFitColumns': True, 'defau…"
      ]
     },
     "metadata": {},
     "output_type": "display_data"
    }
   ],
   "source": [
    "# import qgrid\n",
    "# qgrid_widget = qgrid.show_grid(metadataG,show_toolbar=True)\n",
    "# qgrid_widget"
   ]
  },
  {
   "cell_type": "markdown",
   "metadata": {},
   "source": [
    "<a id=\"seqSums\"></a>\n",
    "<h2>Sequencing and alignment Summaries</h2>\n",
    "<p><b><a href=\"scripts/hpc_scripts/NGS_Mapping.sh\">Methodology</a></b></p>\n",
    "<h4>Adapter Trimming and QC (Trimmomatic) Report</h4>\n",
    "<h5 style=\"color:blue\">What is the abundance and quality of the reads in each sample?</h5>\n",
    "\n",
    "<div class=\"alert alert-block alert-info\">\n",
    "    <p>\n",
    "        <u>Step 1. Split JGI files in PE files<br/></u> \n",
    "        <div class=\"alert alert-block alert-warning\">\n",
    "              split-paired-reads.py --gzip -1 \\$sample.fastq.pe1.gz -2 \\$sample.fastq.pe2.gz \\$jgi_combined_fastq\n",
    "        </div>\n",
    "        <u><br/>Step 2. Use trimmomatic to QC reads <br/></u> \n",
    "        <div class=\"alert alert-block alert-warning\">\n",
    "    trimmomatic PE -phred33 \\$sample.fastq.pe1.gz \\$sample.fastq.pe2.gz \\$sample.fastq.pe1.gz \\$sample.fastq.se1.gz \\$sample.fastq.pe2.gz \\$sample.fastq.se2.gz \\<br> \n",
    "        &nbsp;&nbsp; ILLUMINACLIP:<b>TruSeq3-PE-2.fa</b>:2:30:10:8:TRUE \\<br/>\n",
    "        &nbsp;&nbsp; LEADING:3 \\<br/>\n",
    "        &nbsp;&nbsp; TRAILING:3 \\<br/>\n",
    "        &nbsp;&nbsp; SLIDINGWINDOW:4:15 \\<br/>\n",
    "        &nbsp;&nbsp; MINLEN:36 <br/>\n",
    "        </div>\n",
    "    </p>\n",
    "</div>"
   ]
  },
  {
   "cell_type": "markdown",
   "metadata": {},
   "source": [
    "<div class=\"alert alert-block alert-success\">\n",
    "\n",
    "[Outline](#home)\n",
    "\n",
    "Skip to:   \n",
    "*  Adapter Trimming and QC (Trimmomatic) Report\n",
    "*  [Host Plant Alignment Report](#pAlign)\n",
    "*  [Fungal Alignments](#swAlign)\n",
    "*  [Alignment Conclusions](#aConc)\n",
    "\n",
    "</div>"
   ]
  },
  {
   "cell_type": "markdown",
   "metadata": {},
   "source": [
    "![alt text](images/TrimReport.png \"Title\")"
   ]
  },
  {
   "cell_type": "markdown",
   "metadata": {},
   "source": [
    "<a id=\"pAlign\"></a>\n",
    "  \n",
    "<h2>Sequencing and alignment Summaries</h2>\n",
    "<h4>Host Plant Alignment Report</h4>\n",
    "<h5 style=\"color:blue\">When the reads are aligned to plant reference genomes, how many of the reads are plant-aligned reads?</h5>\n",
    "\n",
    "\n",
    "<div class=\"alert alert-block alert-info\">\n",
    "    <p>\n",
    "        <u>Step 1. Align reads to respective host reference assembly<br/></u> \n",
    "        <div class=\"alert alert-block alert-warning\">\n",
    "            if [[ \\$sample == *\"G5\"* ]]; then <br/>\n",
    "            &nbsp;&nbsp;&nbsp;&nbsp;&nbsp;&nbsp; SAMFILE=\\$sample.SWGRASS.sam <br/>\n",
    "            &nbsp;&nbsp;&nbsp;&nbsp;&nbsp;&nbsp; BAMFILE=\\$sample.SWGRASS.bam <br/>\n",
    "            &nbsp;&nbsp;&nbsp;&nbsp;&nbsp;&nbsp; bowtie2 --threads \\$THREADS -x \\$SWITCHGRASS <br/>\n",
    "            &nbsp;&nbsp;&nbsp;&nbsp;&nbsp;&nbsp;&nbsp;&nbsp;&nbsp;&nbsp;&nbsp;&nbsp; -1 \\$sample.fastq.pe1.gz -2 \\$sample.fastq.pe2.gz <br/>\n",
    "            &nbsp;&nbsp;&nbsp;&nbsp;&nbsp;&nbsp;&nbsp;&nbsp;&nbsp;&nbsp;&nbsp;&nbsp; -U \\$sample.fastq.se12.gz -S \\$sample.SWGRASS.sam 2>\\$sample.stat  <br/>\n",
    "            else <br/>\n",
    "            &nbsp;&nbsp;&nbsp;&nbsp;&nbsp;&nbsp; SAMFILE=\\$sample.MISCANTS.sam <br/>\n",
    "            &nbsp;&nbsp;&nbsp;&nbsp;&nbsp;&nbsp; BAMFILE=\\$sample.MISCANTS.bam <br/>\n",
    "            &nbsp;&nbsp;&nbsp;&nbsp;&nbsp;&nbsp; bowtie2 --threads \\$THREADS -x \\$MISCANTHUS  <br/>\n",
    "            &nbsp;&nbsp;&nbsp;&nbsp;&nbsp;&nbsp;&nbsp;&nbsp;&nbsp;&nbsp;&nbsp;&nbsp; -1 \\$sample.fastq.pe1.gz -2 \\$sample.fastq.pe2.gz <br/>\n",
    "            &nbsp;&nbsp;&nbsp;&nbsp;&nbsp;&nbsp;&nbsp;&nbsp;&nbsp;&nbsp;&nbsp;&nbsp; -U \\$sample.fastq.se12.gz -S \\$sample.MISCANTS.sam 2>\\$sample.stat  <br/>\n",
    "            fi\n",
    "        </div>\n",
    "    </p>\n",
    "</div>"
   ]
  },
  {
   "cell_type": "markdown",
   "metadata": {},
   "source": [
    "<div class=\"alert alert-block alert-success\">\n",
    "\n",
    "[Outline](#home)\n",
    "\n",
    "Skip to:   \n",
    "*  [Adapter Trimming and QC (Trimmomatic) Report](#seqSums)\n",
    "*  Host Plant Alignment Report\n",
    "*  [Fungal Alignments](#fAlign)\n",
    "*  [Alignment Conclusions](#aConc)\n",
    "    \n",
    "</div>"
   ]
  },
  {
   "cell_type": "code",
   "execution_count": null,
   "metadata": {},
   "outputs": [],
   "source": [
    "!jupyter trust GLBRC_Report2.ipynb"
   ]
  },
  {
   "cell_type": "code",
   "execution_count": 19,
   "metadata": {},
   "outputs": [
    {
     "data": {
      "text/html": [
       "        <script type=\"text/javascript\">\n",
       "        window.PlotlyConfig = {MathJaxConfig: 'local'};\n",
       "        if (window.MathJax) {MathJax.Hub.Config({SVG: {font: \"STIX-Web\"}});}\n",
       "        if (typeof require !== 'undefined') {\n",
       "        require.undef(\"plotly\");\n",
       "        requirejs.config({\n",
       "            paths: {\n",
       "                'plotly': ['https://cdn.plot.ly/plotly-latest.min']\n",
       "            }\n",
       "        });\n",
       "        require(['plotly'], function(Plotly) {\n",
       "            window._Plotly = Plotly;\n",
       "        });\n",
       "        }\n",
       "        </script>\n",
       "        "
      ]
     },
     "metadata": {},
     "output_type": "display_data"
    }
   ],
   "source": [
    "from plotly.offline import download_plotlyjs, init_notebook_mode\n",
    "init_notebook_mode(connected=True)"
   ]
  },
  {
   "cell_type": "code",
   "execution_count": 14,
   "metadata": {},
   "outputs": [
    {
     "data": {
      "text/plain": [
       "Renderers configuration\n",
       "-----------------------\n",
       "    Default renderer: 'jupyterlab'\n",
       "    Available renderers:\n",
       "        ['plotly_mimetype', 'jupyterlab', 'nteract', 'vscode',\n",
       "         'notebook', 'notebook_connected', 'kaggle', 'azure', 'colab',\n",
       "         'cocalc', 'databricks', 'json', 'png', 'jpeg', 'jpg', 'svg',\n",
       "         'pdf', 'browser', 'firefox', 'chrome', 'chromium', 'iframe',\n",
       "         'iframe_connected', 'sphinx_gallery']"
      ]
     },
     "execution_count": 14,
     "metadata": {},
     "output_type": "execute_result"
    }
   ],
   "source": [
    "import plotly.io as pio\n",
    "import plotly.graph_objects as go\n",
    "print(pio.renderers)\n",
    "fig = go.Figure(\n",
    "    data=[go.Bar(y=[2, 1, 3])],\n",
    "    layout_title_text=\"Testing dif options for rendeerers; jupLab\"\n",
    ")\n",
    "fig.show(renderer=\"jupyterlab\")"
   ]
  },
  {
   "cell_type": "code",
   "execution_count": 23,
   "metadata": {},
   "outputs": [
    {
     "data": {
      "application/vnd.plotly.v1+json": {
       "config": {
        "plotlyServerURL": "https://plot.ly"
       },
       "data": [
        {
         "type": "bar",
         "y": [
          2,
          1,
          3
         ]
        }
       ],
       "layout": {
        "autosize": true,
        "template": {
         "data": {
          "bar": [
           {
            "error_x": {
             "color": "#2a3f5f"
            },
            "error_y": {
             "color": "#2a3f5f"
            },
            "marker": {
             "line": {
              "color": "#E5ECF6",
              "width": 0.5
             }
            },
            "type": "bar"
           }
          ],
          "barpolar": [
           {
            "marker": {
             "line": {
              "color": "#E5ECF6",
              "width": 0.5
             }
            },
            "type": "barpolar"
           }
          ],
          "carpet": [
           {
            "aaxis": {
             "endlinecolor": "#2a3f5f",
             "gridcolor": "white",
             "linecolor": "white",
             "minorgridcolor": "white",
             "startlinecolor": "#2a3f5f"
            },
            "baxis": {
             "endlinecolor": "#2a3f5f",
             "gridcolor": "white",
             "linecolor": "white",
             "minorgridcolor": "white",
             "startlinecolor": "#2a3f5f"
            },
            "type": "carpet"
           }
          ],
          "choropleth": [
           {
            "colorbar": {
             "outlinewidth": 0,
             "ticks": ""
            },
            "type": "choropleth"
           }
          ],
          "contour": [
           {
            "colorbar": {
             "outlinewidth": 0,
             "ticks": ""
            },
            "colorscale": [
             [
              0,
              "#0d0887"
             ],
             [
              0.1111111111111111,
              "#46039f"
             ],
             [
              0.2222222222222222,
              "#7201a8"
             ],
             [
              0.3333333333333333,
              "#9c179e"
             ],
             [
              0.4444444444444444,
              "#bd3786"
             ],
             [
              0.5555555555555556,
              "#d8576b"
             ],
             [
              0.6666666666666666,
              "#ed7953"
             ],
             [
              0.7777777777777778,
              "#fb9f3a"
             ],
             [
              0.8888888888888888,
              "#fdca26"
             ],
             [
              1,
              "#f0f921"
             ]
            ],
            "type": "contour"
           }
          ],
          "contourcarpet": [
           {
            "colorbar": {
             "outlinewidth": 0,
             "ticks": ""
            },
            "type": "contourcarpet"
           }
          ],
          "heatmap": [
           {
            "colorbar": {
             "outlinewidth": 0,
             "ticks": ""
            },
            "colorscale": [
             [
              0,
              "#0d0887"
             ],
             [
              0.1111111111111111,
              "#46039f"
             ],
             [
              0.2222222222222222,
              "#7201a8"
             ],
             [
              0.3333333333333333,
              "#9c179e"
             ],
             [
              0.4444444444444444,
              "#bd3786"
             ],
             [
              0.5555555555555556,
              "#d8576b"
             ],
             [
              0.6666666666666666,
              "#ed7953"
             ],
             [
              0.7777777777777778,
              "#fb9f3a"
             ],
             [
              0.8888888888888888,
              "#fdca26"
             ],
             [
              1,
              "#f0f921"
             ]
            ],
            "type": "heatmap"
           }
          ],
          "heatmapgl": [
           {
            "colorbar": {
             "outlinewidth": 0,
             "ticks": ""
            },
            "colorscale": [
             [
              0,
              "#0d0887"
             ],
             [
              0.1111111111111111,
              "#46039f"
             ],
             [
              0.2222222222222222,
              "#7201a8"
             ],
             [
              0.3333333333333333,
              "#9c179e"
             ],
             [
              0.4444444444444444,
              "#bd3786"
             ],
             [
              0.5555555555555556,
              "#d8576b"
             ],
             [
              0.6666666666666666,
              "#ed7953"
             ],
             [
              0.7777777777777778,
              "#fb9f3a"
             ],
             [
              0.8888888888888888,
              "#fdca26"
             ],
             [
              1,
              "#f0f921"
             ]
            ],
            "type": "heatmapgl"
           }
          ],
          "histogram": [
           {
            "marker": {
             "colorbar": {
              "outlinewidth": 0,
              "ticks": ""
             }
            },
            "type": "histogram"
           }
          ],
          "histogram2d": [
           {
            "colorbar": {
             "outlinewidth": 0,
             "ticks": ""
            },
            "colorscale": [
             [
              0,
              "#0d0887"
             ],
             [
              0.1111111111111111,
              "#46039f"
             ],
             [
              0.2222222222222222,
              "#7201a8"
             ],
             [
              0.3333333333333333,
              "#9c179e"
             ],
             [
              0.4444444444444444,
              "#bd3786"
             ],
             [
              0.5555555555555556,
              "#d8576b"
             ],
             [
              0.6666666666666666,
              "#ed7953"
             ],
             [
              0.7777777777777778,
              "#fb9f3a"
             ],
             [
              0.8888888888888888,
              "#fdca26"
             ],
             [
              1,
              "#f0f921"
             ]
            ],
            "type": "histogram2d"
           }
          ],
          "histogram2dcontour": [
           {
            "colorbar": {
             "outlinewidth": 0,
             "ticks": ""
            },
            "colorscale": [
             [
              0,
              "#0d0887"
             ],
             [
              0.1111111111111111,
              "#46039f"
             ],
             [
              0.2222222222222222,
              "#7201a8"
             ],
             [
              0.3333333333333333,
              "#9c179e"
             ],
             [
              0.4444444444444444,
              "#bd3786"
             ],
             [
              0.5555555555555556,
              "#d8576b"
             ],
             [
              0.6666666666666666,
              "#ed7953"
             ],
             [
              0.7777777777777778,
              "#fb9f3a"
             ],
             [
              0.8888888888888888,
              "#fdca26"
             ],
             [
              1,
              "#f0f921"
             ]
            ],
            "type": "histogram2dcontour"
           }
          ],
          "mesh3d": [
           {
            "colorbar": {
             "outlinewidth": 0,
             "ticks": ""
            },
            "type": "mesh3d"
           }
          ],
          "parcoords": [
           {
            "line": {
             "colorbar": {
              "outlinewidth": 0,
              "ticks": ""
             }
            },
            "type": "parcoords"
           }
          ],
          "pie": [
           {
            "automargin": true,
            "type": "pie"
           }
          ],
          "scatter": [
           {
            "marker": {
             "colorbar": {
              "outlinewidth": 0,
              "ticks": ""
             }
            },
            "type": "scatter"
           }
          ],
          "scatter3d": [
           {
            "line": {
             "colorbar": {
              "outlinewidth": 0,
              "ticks": ""
             }
            },
            "marker": {
             "colorbar": {
              "outlinewidth": 0,
              "ticks": ""
             }
            },
            "type": "scatter3d"
           }
          ],
          "scattercarpet": [
           {
            "marker": {
             "colorbar": {
              "outlinewidth": 0,
              "ticks": ""
             }
            },
            "type": "scattercarpet"
           }
          ],
          "scattergeo": [
           {
            "marker": {
             "colorbar": {
              "outlinewidth": 0,
              "ticks": ""
             }
            },
            "type": "scattergeo"
           }
          ],
          "scattergl": [
           {
            "marker": {
             "colorbar": {
              "outlinewidth": 0,
              "ticks": ""
             }
            },
            "type": "scattergl"
           }
          ],
          "scattermapbox": [
           {
            "marker": {
             "colorbar": {
              "outlinewidth": 0,
              "ticks": ""
             }
            },
            "type": "scattermapbox"
           }
          ],
          "scatterpolar": [
           {
            "marker": {
             "colorbar": {
              "outlinewidth": 0,
              "ticks": ""
             }
            },
            "type": "scatterpolar"
           }
          ],
          "scatterpolargl": [
           {
            "marker": {
             "colorbar": {
              "outlinewidth": 0,
              "ticks": ""
             }
            },
            "type": "scatterpolargl"
           }
          ],
          "scatterternary": [
           {
            "marker": {
             "colorbar": {
              "outlinewidth": 0,
              "ticks": ""
             }
            },
            "type": "scatterternary"
           }
          ],
          "surface": [
           {
            "colorbar": {
             "outlinewidth": 0,
             "ticks": ""
            },
            "colorscale": [
             [
              0,
              "#0d0887"
             ],
             [
              0.1111111111111111,
              "#46039f"
             ],
             [
              0.2222222222222222,
              "#7201a8"
             ],
             [
              0.3333333333333333,
              "#9c179e"
             ],
             [
              0.4444444444444444,
              "#bd3786"
             ],
             [
              0.5555555555555556,
              "#d8576b"
             ],
             [
              0.6666666666666666,
              "#ed7953"
             ],
             [
              0.7777777777777778,
              "#fb9f3a"
             ],
             [
              0.8888888888888888,
              "#fdca26"
             ],
             [
              1,
              "#f0f921"
             ]
            ],
            "type": "surface"
           }
          ],
          "table": [
           {
            "cells": {
             "fill": {
              "color": "#EBF0F8"
             },
             "line": {
              "color": "white"
             }
            },
            "header": {
             "fill": {
              "color": "#C8D4E3"
             },
             "line": {
              "color": "white"
             }
            },
            "type": "table"
           }
          ]
         },
         "layout": {
          "annotationdefaults": {
           "arrowcolor": "#2a3f5f",
           "arrowhead": 0,
           "arrowwidth": 1
          },
          "coloraxis": {
           "colorbar": {
            "outlinewidth": 0,
            "ticks": ""
           }
          },
          "colorscale": {
           "diverging": [
            [
             0,
             "#8e0152"
            ],
            [
             0.1,
             "#c51b7d"
            ],
            [
             0.2,
             "#de77ae"
            ],
            [
             0.3,
             "#f1b6da"
            ],
            [
             0.4,
             "#fde0ef"
            ],
            [
             0.5,
             "#f7f7f7"
            ],
            [
             0.6,
             "#e6f5d0"
            ],
            [
             0.7,
             "#b8e186"
            ],
            [
             0.8,
             "#7fbc41"
            ],
            [
             0.9,
             "#4d9221"
            ],
            [
             1,
             "#276419"
            ]
           ],
           "sequential": [
            [
             0,
             "#0d0887"
            ],
            [
             0.1111111111111111,
             "#46039f"
            ],
            [
             0.2222222222222222,
             "#7201a8"
            ],
            [
             0.3333333333333333,
             "#9c179e"
            ],
            [
             0.4444444444444444,
             "#bd3786"
            ],
            [
             0.5555555555555556,
             "#d8576b"
            ],
            [
             0.6666666666666666,
             "#ed7953"
            ],
            [
             0.7777777777777778,
             "#fb9f3a"
            ],
            [
             0.8888888888888888,
             "#fdca26"
            ],
            [
             1,
             "#f0f921"
            ]
           ],
           "sequentialminus": [
            [
             0,
             "#0d0887"
            ],
            [
             0.1111111111111111,
             "#46039f"
            ],
            [
             0.2222222222222222,
             "#7201a8"
            ],
            [
             0.3333333333333333,
             "#9c179e"
            ],
            [
             0.4444444444444444,
             "#bd3786"
            ],
            [
             0.5555555555555556,
             "#d8576b"
            ],
            [
             0.6666666666666666,
             "#ed7953"
            ],
            [
             0.7777777777777778,
             "#fb9f3a"
            ],
            [
             0.8888888888888888,
             "#fdca26"
            ],
            [
             1,
             "#f0f921"
            ]
           ]
          },
          "colorway": [
           "#636efa",
           "#EF553B",
           "#00cc96",
           "#ab63fa",
           "#FFA15A",
           "#19d3f3",
           "#FF6692",
           "#B6E880",
           "#FF97FF",
           "#FECB52"
          ],
          "font": {
           "color": "#2a3f5f"
          },
          "geo": {
           "bgcolor": "white",
           "lakecolor": "white",
           "landcolor": "#E5ECF6",
           "showlakes": true,
           "showland": true,
           "subunitcolor": "white"
          },
          "hoverlabel": {
           "align": "left"
          },
          "hovermode": "closest",
          "mapbox": {
           "style": "light"
          },
          "paper_bgcolor": "white",
          "plot_bgcolor": "#E5ECF6",
          "polar": {
           "angularaxis": {
            "gridcolor": "white",
            "linecolor": "white",
            "ticks": ""
           },
           "bgcolor": "#E5ECF6",
           "radialaxis": {
            "gridcolor": "white",
            "linecolor": "white",
            "ticks": ""
           }
          },
          "scene": {
           "xaxis": {
            "backgroundcolor": "#E5ECF6",
            "gridcolor": "white",
            "gridwidth": 2,
            "linecolor": "white",
            "showbackground": true,
            "ticks": "",
            "zerolinecolor": "white"
           },
           "yaxis": {
            "backgroundcolor": "#E5ECF6",
            "gridcolor": "white",
            "gridwidth": 2,
            "linecolor": "white",
            "showbackground": true,
            "ticks": "",
            "zerolinecolor": "white"
           },
           "zaxis": {
            "backgroundcolor": "#E5ECF6",
            "gridcolor": "white",
            "gridwidth": 2,
            "linecolor": "white",
            "showbackground": true,
            "ticks": "",
            "zerolinecolor": "white"
           }
          },
          "shapedefaults": {
           "line": {
            "color": "#2a3f5f"
           }
          },
          "ternary": {
           "aaxis": {
            "gridcolor": "white",
            "linecolor": "white",
            "ticks": ""
           },
           "baxis": {
            "gridcolor": "white",
            "linecolor": "white",
            "ticks": ""
           },
           "bgcolor": "#E5ECF6",
           "caxis": {
            "gridcolor": "white",
            "linecolor": "white",
            "ticks": ""
           }
          },
          "title": {
           "x": 0.05
          },
          "xaxis": {
           "automargin": true,
           "gridcolor": "white",
           "linecolor": "white",
           "ticks": "",
           "title": {
            "standoff": 15
           },
           "zerolinecolor": "white",
           "zerolinewidth": 2
          },
          "yaxis": {
           "automargin": true,
           "gridcolor": "white",
           "linecolor": "white",
           "ticks": "",
           "title": {
            "standoff": 15
           },
           "zerolinecolor": "white",
           "zerolinewidth": 2
          }
         }
        },
        "title": {
         "text": "Testing dif options for rendeerers; nteract"
        },
        "xaxis": {
         "autorange": true,
         "range": [
          -0.5,
          2.5
         ]
        },
        "yaxis": {
         "autorange": true,
         "range": [
          0,
          3.1578947368421053
         ],
         "type": "linear"
        }
       }
      },
      "image/png": "[encoded data removed]"
     },
     "metadata": {},
     "output_type": "display_data"
    }
   ],
   "source": [
    "fig = go.Figure(\n",
    "    data=[go.Bar(y=[2, 1, 3])],\n",
    "    layout_title_text=\"Testing dif options for rendeerers; nteract\"\n",
    ")\n",
    "fig.offline.show(renderer=\"nteract\")"
   ]
  },
  {
   "cell_type": "code",
   "execution_count": 31,
   "metadata": {},
   "outputs": [
    {
     "data": {
      "text/html": [
       "        <script type=\"text/javascript\">\n",
       "        window.PlotlyConfig = {MathJaxConfig: 'local'};\n",
       "        if (window.MathJax) {MathJax.Hub.Config({SVG: {font: \"STIX-Web\"}});}\n",
       "        if (typeof require !== 'undefined') {\n",
       "        require.undef(\"plotly\");\n",
       "        requirejs.config({\n",
       "            paths: {\n",
       "                'plotly': ['https://cdn.plot.ly/plotly-latest.min']\n",
       "            }\n",
       "        });\n",
       "        require(['plotly'], function(Plotly) {\n",
       "            window._Plotly = Plotly;\n",
       "        });\n",
       "        }\n",
       "        </script>\n",
       "        "
      ]
     },
     "metadata": {},
     "output_type": "display_data"
    },
    {
     "data": {
      "application/vnd.plotly.v1+json": {
       "config": {
        "linkText": "Export to plot.ly",
        "plotlyServerURL": "https://plot.ly",
        "showLink": false
       },
       "data": [
        {
         "type": "scatter",
         "x": [
          1,
          2,
          3,
          4
         ],
         "y": [
          4,
          3,
          2,
          1
         ]
        }
       ],
       "layout": {
        "autosize": true,
        "template": {
         "data": {
          "bar": [
           {
            "error_x": {
             "color": "#2a3f5f"
            },
            "error_y": {
             "color": "#2a3f5f"
            },
            "marker": {
             "line": {
              "color": "#E5ECF6",
              "width": 0.5
             }
            },
            "type": "bar"
           }
          ],
          "barpolar": [
           {
            "marker": {
             "line": {
              "color": "#E5ECF6",
              "width": 0.5
             }
            },
            "type": "barpolar"
           }
          ],
          "carpet": [
           {
            "aaxis": {
             "endlinecolor": "#2a3f5f",
             "gridcolor": "white",
             "linecolor": "white",
             "minorgridcolor": "white",
             "startlinecolor": "#2a3f5f"
            },
            "baxis": {
             "endlinecolor": "#2a3f5f",
             "gridcolor": "white",
             "linecolor": "white",
             "minorgridcolor": "white",
             "startlinecolor": "#2a3f5f"
            },
            "type": "carpet"
           }
          ],
          "choropleth": [
           {
            "colorbar": {
             "outlinewidth": 0,
             "ticks": ""
            },
            "type": "choropleth"
           }
          ],
          "contour": [
           {
            "colorbar": {
             "outlinewidth": 0,
             "ticks": ""
            },
            "colorscale": [
             [
              0,
              "#0d0887"
             ],
             [
              0.1111111111111111,
              "#46039f"
             ],
             [
              0.2222222222222222,
              "#7201a8"
             ],
             [
              0.3333333333333333,
              "#9c179e"
             ],
             [
              0.4444444444444444,
              "#bd3786"
             ],
             [
              0.5555555555555556,
              "#d8576b"
             ],
             [
              0.6666666666666666,
              "#ed7953"
             ],
             [
              0.7777777777777778,
              "#fb9f3a"
             ],
             [
              0.8888888888888888,
              "#fdca26"
             ],
             [
              1,
              "#f0f921"
             ]
            ],
            "type": "contour"
           }
          ],
          "contourcarpet": [
           {
            "colorbar": {
             "outlinewidth": 0,
             "ticks": ""
            },
            "type": "contourcarpet"
           }
          ],
          "heatmap": [
           {
            "colorbar": {
             "outlinewidth": 0,
             "ticks": ""
            },
            "colorscale": [
             [
              0,
              "#0d0887"
             ],
             [
              0.1111111111111111,
              "#46039f"
             ],
             [
              0.2222222222222222,
              "#7201a8"
             ],
             [
              0.3333333333333333,
              "#9c179e"
             ],
             [
              0.4444444444444444,
              "#bd3786"
             ],
             [
              0.5555555555555556,
              "#d8576b"
             ],
             [
              0.6666666666666666,
              "#ed7953"
             ],
             [
              0.7777777777777778,
              "#fb9f3a"
             ],
             [
              0.8888888888888888,
              "#fdca26"
             ],
             [
              1,
              "#f0f921"
             ]
            ],
            "type": "heatmap"
           }
          ],
          "heatmapgl": [
           {
            "colorbar": {
             "outlinewidth": 0,
             "ticks": ""
            },
            "colorscale": [
             [
              0,
              "#0d0887"
             ],
             [
              0.1111111111111111,
              "#46039f"
             ],
             [
              0.2222222222222222,
              "#7201a8"
             ],
             [
              0.3333333333333333,
              "#9c179e"
             ],
             [
              0.4444444444444444,
              "#bd3786"
             ],
             [
              0.5555555555555556,
              "#d8576b"
             ],
             [
              0.6666666666666666,
              "#ed7953"
             ],
             [
              0.7777777777777778,
              "#fb9f3a"
             ],
             [
              0.8888888888888888,
              "#fdca26"
             ],
             [
              1,
              "#f0f921"
             ]
            ],
            "type": "heatmapgl"
           }
          ],
          "histogram": [
           {
            "marker": {
             "colorbar": {
              "outlinewidth": 0,
              "ticks": ""
             }
            },
            "type": "histogram"
           }
          ],
          "histogram2d": [
           {
            "colorbar": {
             "outlinewidth": 0,
             "ticks": ""
            },
            "colorscale": [
             [
              0,
              "#0d0887"
             ],
             [
              0.1111111111111111,
              "#46039f"
             ],
             [
              0.2222222222222222,
              "#7201a8"
             ],
             [
              0.3333333333333333,
              "#9c179e"
             ],
             [
              0.4444444444444444,
              "#bd3786"
             ],
             [
              0.5555555555555556,
              "#d8576b"
             ],
             [
              0.6666666666666666,
              "#ed7953"
             ],
             [
              0.7777777777777778,
              "#fb9f3a"
             ],
             [
              0.8888888888888888,
              "#fdca26"
             ],
             [
              1,
              "#f0f921"
             ]
            ],
            "type": "histogram2d"
           }
          ],
          "histogram2dcontour": [
           {
            "colorbar": {
             "outlinewidth": 0,
             "ticks": ""
            },
            "colorscale": [
             [
              0,
              "#0d0887"
             ],
             [
              0.1111111111111111,
              "#46039f"
             ],
             [
              0.2222222222222222,
              "#7201a8"
             ],
             [
              0.3333333333333333,
              "#9c179e"
             ],
             [
              0.4444444444444444,
              "#bd3786"
             ],
             [
              0.5555555555555556,
              "#d8576b"
             ],
             [
              0.6666666666666666,
              "#ed7953"
             ],
             [
              0.7777777777777778,
              "#fb9f3a"
             ],
             [
              0.8888888888888888,
              "#fdca26"
             ],
             [
              1,
              "#f0f921"
             ]
            ],
            "type": "histogram2dcontour"
           }
          ],
          "mesh3d": [
           {
            "colorbar": {
             "outlinewidth": 0,
             "ticks": ""
            },
            "type": "mesh3d"
           }
          ],
          "parcoords": [
           {
            "line": {
             "colorbar": {
              "outlinewidth": 0,
              "ticks": ""
             }
            },
            "type": "parcoords"
           }
          ],
          "pie": [
           {
            "automargin": true,
            "type": "pie"
           }
          ],
          "scatter": [
           {
            "marker": {
             "colorbar": {
              "outlinewidth": 0,
              "ticks": ""
             }
            },
            "type": "scatter"
           }
          ],
          "scatter3d": [
           {
            "line": {
             "colorbar": {
              "outlinewidth": 0,
              "ticks": ""
             }
            },
            "marker": {
             "colorbar": {
              "outlinewidth": 0,
              "ticks": ""
             }
            },
            "type": "scatter3d"
           }
          ],
          "scattercarpet": [
           {
            "marker": {
             "colorbar": {
              "outlinewidth": 0,
              "ticks": ""
             }
            },
            "type": "scattercarpet"
           }
          ],
          "scattergeo": [
           {
            "marker": {
             "colorbar": {
              "outlinewidth": 0,
              "ticks": ""
             }
            },
            "type": "scattergeo"
           }
          ],
          "scattergl": [
           {
            "marker": {
             "colorbar": {
              "outlinewidth": 0,
              "ticks": ""
             }
            },
            "type": "scattergl"
           }
          ],
          "scattermapbox": [
           {
            "marker": {
             "colorbar": {
              "outlinewidth": 0,
              "ticks": ""
             }
            },
            "type": "scattermapbox"
           }
          ],
          "scatterpolar": [
           {
            "marker": {
             "colorbar": {
              "outlinewidth": 0,
              "ticks": ""
             }
            },
            "type": "scatterpolar"
           }
          ],
          "scatterpolargl": [
           {
            "marker": {
             "colorbar": {
              "outlinewidth": 0,
              "ticks": ""
             }
            },
            "type": "scatterpolargl"
           }
          ],
          "scatterternary": [
           {
            "marker": {
             "colorbar": {
              "outlinewidth": 0,
              "ticks": ""
             }
            },
            "type": "scatterternary"
           }
          ],
          "surface": [
           {
            "colorbar": {
             "outlinewidth": 0,
             "ticks": ""
            },
            "colorscale": [
             [
              0,
              "#0d0887"
             ],
             [
              0.1111111111111111,
              "#46039f"
             ],
             [
              0.2222222222222222,
              "#7201a8"
             ],
             [
              0.3333333333333333,
              "#9c179e"
             ],
             [
              0.4444444444444444,
              "#bd3786"
             ],
             [
              0.5555555555555556,
              "#d8576b"
             ],
             [
              0.6666666666666666,
              "#ed7953"
             ],
             [
              0.7777777777777778,
              "#fb9f3a"
             ],
             [
              0.8888888888888888,
              "#fdca26"
             ],
             [
              1,
              "#f0f921"
             ]
            ],
            "type": "surface"
           }
          ],
          "table": [
           {
            "cells": {
             "fill": {
              "color": "#EBF0F8"
             },
             "line": {
              "color": "white"
             }
            },
            "header": {
             "fill": {
              "color": "#C8D4E3"
             },
             "line": {
              "color": "white"
             }
            },
            "type": "table"
           }
          ]
         },
         "layout": {
          "annotationdefaults": {
           "arrowcolor": "#2a3f5f",
           "arrowhead": 0,
           "arrowwidth": 1
          },
          "coloraxis": {
           "colorbar": {
            "outlinewidth": 0,
            "ticks": ""
           }
          },
          "colorscale": {
           "diverging": [
            [
             0,
             "#8e0152"
            ],
            [
             0.1,
             "#c51b7d"
            ],
            [
             0.2,
             "#de77ae"
            ],
            [
             0.3,
             "#f1b6da"
            ],
            [
             0.4,
             "#fde0ef"
            ],
            [
             0.5,
             "#f7f7f7"
            ],
            [
             0.6,
             "#e6f5d0"
            ],
            [
             0.7,
             "#b8e186"
            ],
            [
             0.8,
             "#7fbc41"
            ],
            [
             0.9,
             "#4d9221"
            ],
            [
             1,
             "#276419"
            ]
           ],
           "sequential": [
            [
             0,
             "#0d0887"
            ],
            [
             0.1111111111111111,
             "#46039f"
            ],
            [
             0.2222222222222222,
             "#7201a8"
            ],
            [
             0.3333333333333333,
             "#9c179e"
            ],
            [
             0.4444444444444444,
             "#bd3786"
            ],
            [
             0.5555555555555556,
             "#d8576b"
            ],
            [
             0.6666666666666666,
             "#ed7953"
            ],
            [
             0.7777777777777778,
             "#fb9f3a"
            ],
            [
             0.8888888888888888,
             "#fdca26"
            ],
            [
             1,
             "#f0f921"
            ]
           ],
           "sequentialminus": [
            [
             0,
             "#0d0887"
            ],
            [
             0.1111111111111111,
             "#46039f"
            ],
            [
             0.2222222222222222,
             "#7201a8"
            ],
            [
             0.3333333333333333,
             "#9c179e"
            ],
            [
             0.4444444444444444,
             "#bd3786"
            ],
            [
             0.5555555555555556,
             "#d8576b"
            ],
            [
             0.6666666666666666,
             "#ed7953"
            ],
            [
             0.7777777777777778,
             "#fb9f3a"
            ],
            [
             0.8888888888888888,
             "#fdca26"
            ],
            [
             1,
             "#f0f921"
            ]
           ]
          },
          "colorway": [
           "#636efa",
           "#EF553B",
           "#00cc96",
           "#ab63fa",
           "#FFA15A",
           "#19d3f3",
           "#FF6692",
           "#B6E880",
           "#FF97FF",
           "#FECB52"
          ],
          "font": {
           "color": "#2a3f5f"
          },
          "geo": {
           "bgcolor": "white",
           "lakecolor": "white",
           "landcolor": "#E5ECF6",
           "showlakes": true,
           "showland": true,
           "subunitcolor": "white"
          },
          "hoverlabel": {
           "align": "left"
          },
          "hovermode": "closest",
          "mapbox": {
           "style": "light"
          },
          "paper_bgcolor": "white",
          "plot_bgcolor": "#E5ECF6",
          "polar": {
           "angularaxis": {
            "gridcolor": "white",
            "linecolor": "white",
            "ticks": ""
           },
           "bgcolor": "#E5ECF6",
           "radialaxis": {
            "gridcolor": "white",
            "linecolor": "white",
            "ticks": ""
           }
          },
          "scene": {
           "xaxis": {
            "backgroundcolor": "#E5ECF6",
            "gridcolor": "white",
            "gridwidth": 2,
            "linecolor": "white",
            "showbackground": true,
            "ticks": "",
            "zerolinecolor": "white"
           },
           "yaxis": {
            "backgroundcolor": "#E5ECF6",
            "gridcolor": "white",
            "gridwidth": 2,
            "linecolor": "white",
            "showbackground": true,
            "ticks": "",
            "zerolinecolor": "white"
           },
           "zaxis": {
            "backgroundcolor": "#E5ECF6",
            "gridcolor": "white",
            "gridwidth": 2,
            "linecolor": "white",
            "showbackground": true,
            "ticks": "",
            "zerolinecolor": "white"
           }
          },
          "shapedefaults": {
           "line": {
            "color": "#2a3f5f"
           }
          },
          "ternary": {
           "aaxis": {
            "gridcolor": "white",
            "linecolor": "white",
            "ticks": ""
           },
           "baxis": {
            "gridcolor": "white",
            "linecolor": "white",
            "ticks": ""
           },
           "bgcolor": "#E5ECF6",
           "caxis": {
            "gridcolor": "white",
            "linecolor": "white",
            "ticks": ""
           }
          },
          "title": {
           "x": 0.05
          },
          "xaxis": {
           "automargin": true,
           "gridcolor": "white",
           "linecolor": "white",
           "ticks": "",
           "title": {
            "standoff": 15
           },
           "zerolinecolor": "white",
           "zerolinewidth": 2
          },
          "yaxis": {
           "automargin": true,
           "gridcolor": "white",
           "linecolor": "white",
           "ticks": "",
           "title": {
            "standoff": 15
           },
           "zerolinecolor": "white",
           "zerolinewidth": 2
          }
         }
        },
        "title": {
         "text": "hello world"
        },
        "xaxis": {
         "autorange": true,
         "range": [
          0.8218422504136791,
          4.178157749586321
         ],
         "type": "linear"
        },
        "yaxis": {
         "autorange": true,
         "range": [
          0.7802547770700636,
          4.219745222929936
         ],
         "type": "linear"
        }
       }
      },
      "image/png": "[encoded data removed]",
      "text/html": [
       "<div>\n",
       "        \n",
       "        \n",
       "            <div id=\"115404e5-5981-4eae-98be-eb956f93618c\" class=\"plotly-graph-div\" style=\"height:525px; width:100%;\"></div>\n",
       "            <script type=\"text/javascript\">\n",
       "                require([\"plotly\"], function(Plotly) {\n",
       "                    window.PLOTLYENV=window.PLOTLYENV || {};\n",
       "                    \n",
       "                if (document.getElementById(\"115404e5-5981-4eae-98be-eb956f93618c\")) {\n",
       "                    Plotly.newPlot(\n",
       "                        '115404e5-5981-4eae-98be-eb956f93618c',\n",
       "                        [{\"type\": \"scatter\", \"x\": [1, 2, 3, 4], \"y\": [4, 3, 2, 1]}],\n",
       "                        {\"template\": {\"data\": {\"bar\": [{\"error_x\": {\"color\": \"#2a3f5f\"}, \"error_y\": {\"color\": \"#2a3f5f\"}, \"marker\": {\"line\": {\"color\": \"#E5ECF6\", \"width\": 0.5}}, \"type\": \"bar\"}], \"barpolar\": [{\"marker\": {\"line\": {\"color\": \"#E5ECF6\", \"width\": 0.5}}, \"type\": \"barpolar\"}], \"carpet\": [{\"aaxis\": {\"endlinecolor\": \"#2a3f5f\", \"gridcolor\": \"white\", \"linecolor\": \"white\", \"minorgridcolor\": \"white\", \"startlinecolor\": \"#2a3f5f\"}, \"baxis\": {\"endlinecolor\": \"#2a3f5f\", \"gridcolor\": \"white\", \"linecolor\": \"white\", \"minorgridcolor\": \"white\", \"startlinecolor\": \"#2a3f5f\"}, \"type\": \"carpet\"}], \"choropleth\": [{\"colorbar\": {\"outlinewidth\": 0, \"ticks\": \"\"}, \"type\": \"choropleth\"}], \"contour\": [{\"colorbar\": {\"outlinewidth\": 0, \"ticks\": \"\"}, \"colorscale\": [[0.0, \"#0d0887\"], [0.1111111111111111, \"#46039f\"], [0.2222222222222222, \"#7201a8\"], [0.3333333333333333, \"#9c179e\"], [0.4444444444444444, \"#bd3786\"], [0.5555555555555556, \"#d8576b\"], [0.6666666666666666, \"#ed7953\"], [0.7777777777777778, \"#fb9f3a\"], [0.8888888888888888, \"#fdca26\"], [1.0, \"#f0f921\"]], \"type\": \"contour\"}], \"contourcarpet\": [{\"colorbar\": {\"outlinewidth\": 0, \"ticks\": \"\"}, \"type\": \"contourcarpet\"}], \"heatmap\": [{\"colorbar\": {\"outlinewidth\": 0, \"ticks\": \"\"}, \"colorscale\": [[0.0, \"#0d0887\"], [0.1111111111111111, \"#46039f\"], [0.2222222222222222, \"#7201a8\"], [0.3333333333333333, \"#9c179e\"], [0.4444444444444444, \"#bd3786\"], [0.5555555555555556, \"#d8576b\"], [0.6666666666666666, \"#ed7953\"], [0.7777777777777778, \"#fb9f3a\"], [0.8888888888888888, \"#fdca26\"], [1.0, \"#f0f921\"]], \"type\": \"heatmap\"}], \"heatmapgl\": [{\"colorbar\": {\"outlinewidth\": 0, \"ticks\": \"\"}, \"colorscale\": [[0.0, \"#0d0887\"], [0.1111111111111111, \"#46039f\"], [0.2222222222222222, \"#7201a8\"], [0.3333333333333333, \"#9c179e\"], [0.4444444444444444, \"#bd3786\"], [0.5555555555555556, \"#d8576b\"], [0.6666666666666666, \"#ed7953\"], [0.7777777777777778, \"#fb9f3a\"], [0.8888888888888888, \"#fdca26\"], [1.0, \"#f0f921\"]], \"type\": \"heatmapgl\"}], \"histogram\": [{\"marker\": {\"colorbar\": {\"outlinewidth\": 0, \"ticks\": \"\"}}, \"type\": \"histogram\"}], \"histogram2d\": [{\"colorbar\": {\"outlinewidth\": 0, \"ticks\": \"\"}, \"colorscale\": [[0.0, \"#0d0887\"], [0.1111111111111111, \"#46039f\"], [0.2222222222222222, \"#7201a8\"], [0.3333333333333333, \"#9c179e\"], [0.4444444444444444, \"#bd3786\"], [0.5555555555555556, \"#d8576b\"], [0.6666666666666666, \"#ed7953\"], [0.7777777777777778, \"#fb9f3a\"], [0.8888888888888888, \"#fdca26\"], [1.0, \"#f0f921\"]], \"type\": \"histogram2d\"}], \"histogram2dcontour\": [{\"colorbar\": {\"outlinewidth\": 0, \"ticks\": \"\"}, \"colorscale\": [[0.0, \"#0d0887\"], [0.1111111111111111, \"#46039f\"], [0.2222222222222222, \"#7201a8\"], [0.3333333333333333, \"#9c179e\"], [0.4444444444444444, \"#bd3786\"], [0.5555555555555556, \"#d8576b\"], [0.6666666666666666, \"#ed7953\"], [0.7777777777777778, \"#fb9f3a\"], [0.8888888888888888, \"#fdca26\"], [1.0, \"#f0f921\"]], \"type\": \"histogram2dcontour\"}], \"mesh3d\": [{\"colorbar\": {\"outlinewidth\": 0, \"ticks\": \"\"}, \"type\": \"mesh3d\"}], \"parcoords\": [{\"line\": {\"colorbar\": {\"outlinewidth\": 0, \"ticks\": \"\"}}, \"type\": \"parcoords\"}], \"pie\": [{\"automargin\": true, \"type\": \"pie\"}], \"scatter\": [{\"marker\": {\"colorbar\": {\"outlinewidth\": 0, \"ticks\": \"\"}}, \"type\": \"scatter\"}], \"scatter3d\": [{\"line\": {\"colorbar\": {\"outlinewidth\": 0, \"ticks\": \"\"}}, \"marker\": {\"colorbar\": {\"outlinewidth\": 0, \"ticks\": \"\"}}, \"type\": \"scatter3d\"}], \"scattercarpet\": [{\"marker\": {\"colorbar\": {\"outlinewidth\": 0, \"ticks\": \"\"}}, \"type\": \"scattercarpet\"}], \"scattergeo\": [{\"marker\": {\"colorbar\": {\"outlinewidth\": 0, \"ticks\": \"\"}}, \"type\": \"scattergeo\"}], \"scattergl\": [{\"marker\": {\"colorbar\": {\"outlinewidth\": 0, \"ticks\": \"\"}}, \"type\": \"scattergl\"}], \"scattermapbox\": [{\"marker\": {\"colorbar\": {\"outlinewidth\": 0, \"ticks\": \"\"}}, \"type\": \"scattermapbox\"}], \"scatterpolar\": [{\"marker\": {\"colorbar\": {\"outlinewidth\": 0, \"ticks\": \"\"}}, \"type\": \"scatterpolar\"}], \"scatterpolargl\": [{\"marker\": {\"colorbar\": {\"outlinewidth\": 0, \"ticks\": \"\"}}, \"type\": \"scatterpolargl\"}], \"scatterternary\": [{\"marker\": {\"colorbar\": {\"outlinewidth\": 0, \"ticks\": \"\"}}, \"type\": \"scatterternary\"}], \"surface\": [{\"colorbar\": {\"outlinewidth\": 0, \"ticks\": \"\"}, \"colorscale\": [[0.0, \"#0d0887\"], [0.1111111111111111, \"#46039f\"], [0.2222222222222222, \"#7201a8\"], [0.3333333333333333, \"#9c179e\"], [0.4444444444444444, \"#bd3786\"], [0.5555555555555556, \"#d8576b\"], [0.6666666666666666, \"#ed7953\"], [0.7777777777777778, \"#fb9f3a\"], [0.8888888888888888, \"#fdca26\"], [1.0, \"#f0f921\"]], \"type\": \"surface\"}], \"table\": [{\"cells\": {\"fill\": {\"color\": \"#EBF0F8\"}, \"line\": {\"color\": \"white\"}}, \"header\": {\"fill\": {\"color\": \"#C8D4E3\"}, \"line\": {\"color\": \"white\"}}, \"type\": \"table\"}]}, \"layout\": {\"annotationdefaults\": {\"arrowcolor\": \"#2a3f5f\", \"arrowhead\": 0, \"arrowwidth\": 1}, \"coloraxis\": {\"colorbar\": {\"outlinewidth\": 0, \"ticks\": \"\"}}, \"colorscale\": {\"diverging\": [[0, \"#8e0152\"], [0.1, \"#c51b7d\"], [0.2, \"#de77ae\"], [0.3, \"#f1b6da\"], [0.4, \"#fde0ef\"], [0.5, \"#f7f7f7\"], [0.6, \"#e6f5d0\"], [0.7, \"#b8e186\"], [0.8, \"#7fbc41\"], [0.9, \"#4d9221\"], [1, \"#276419\"]], \"sequential\": [[0.0, \"#0d0887\"], [0.1111111111111111, \"#46039f\"], [0.2222222222222222, \"#7201a8\"], [0.3333333333333333, \"#9c179e\"], [0.4444444444444444, \"#bd3786\"], [0.5555555555555556, \"#d8576b\"], [0.6666666666666666, \"#ed7953\"], [0.7777777777777778, \"#fb9f3a\"], [0.8888888888888888, \"#fdca26\"], [1.0, \"#f0f921\"]], \"sequentialminus\": [[0.0, \"#0d0887\"], [0.1111111111111111, \"#46039f\"], [0.2222222222222222, \"#7201a8\"], [0.3333333333333333, \"#9c179e\"], [0.4444444444444444, \"#bd3786\"], [0.5555555555555556, \"#d8576b\"], [0.6666666666666666, \"#ed7953\"], [0.7777777777777778, \"#fb9f3a\"], [0.8888888888888888, \"#fdca26\"], [1.0, \"#f0f921\"]]}, \"colorway\": [\"#636efa\", \"#EF553B\", \"#00cc96\", \"#ab63fa\", \"#FFA15A\", \"#19d3f3\", \"#FF6692\", \"#B6E880\", \"#FF97FF\", \"#FECB52\"], \"font\": {\"color\": \"#2a3f5f\"}, \"geo\": {\"bgcolor\": \"white\", \"lakecolor\": \"white\", \"landcolor\": \"#E5ECF6\", \"showlakes\": true, \"showland\": true, \"subunitcolor\": \"white\"}, \"hoverlabel\": {\"align\": \"left\"}, \"hovermode\": \"closest\", \"mapbox\": {\"style\": \"light\"}, \"paper_bgcolor\": \"white\", \"plot_bgcolor\": \"#E5ECF6\", \"polar\": {\"angularaxis\": {\"gridcolor\": \"white\", \"linecolor\": \"white\", \"ticks\": \"\"}, \"bgcolor\": \"#E5ECF6\", \"radialaxis\": {\"gridcolor\": \"white\", \"linecolor\": \"white\", \"ticks\": \"\"}}, \"scene\": {\"xaxis\": {\"backgroundcolor\": \"#E5ECF6\", \"gridcolor\": \"white\", \"gridwidth\": 2, \"linecolor\": \"white\", \"showbackground\": true, \"ticks\": \"\", \"zerolinecolor\": \"white\"}, \"yaxis\": {\"backgroundcolor\": \"#E5ECF6\", \"gridcolor\": \"white\", \"gridwidth\": 2, \"linecolor\": \"white\", \"showbackground\": true, \"ticks\": \"\", \"zerolinecolor\": \"white\"}, \"zaxis\": {\"backgroundcolor\": \"#E5ECF6\", \"gridcolor\": \"white\", \"gridwidth\": 2, \"linecolor\": \"white\", \"showbackground\": true, \"ticks\": \"\", \"zerolinecolor\": \"white\"}}, \"shapedefaults\": {\"line\": {\"color\": \"#2a3f5f\"}}, \"ternary\": {\"aaxis\": {\"gridcolor\": \"white\", \"linecolor\": \"white\", \"ticks\": \"\"}, \"baxis\": {\"gridcolor\": \"white\", \"linecolor\": \"white\", \"ticks\": \"\"}, \"bgcolor\": \"#E5ECF6\", \"caxis\": {\"gridcolor\": \"white\", \"linecolor\": \"white\", \"ticks\": \"\"}}, \"title\": {\"x\": 0.05}, \"xaxis\": {\"automargin\": true, \"gridcolor\": \"white\", \"linecolor\": \"white\", \"ticks\": \"\", \"title\": {\"standoff\": 15}, \"zerolinecolor\": \"white\", \"zerolinewidth\": 2}, \"yaxis\": {\"automargin\": true, \"gridcolor\": \"white\", \"linecolor\": \"white\", \"ticks\": \"\", \"title\": {\"standoff\": 15}, \"zerolinecolor\": \"white\", \"zerolinewidth\": 2}}}, \"title\": {\"text\": \"hello world\"}},\n",
       "                        {\"responsive\": true}\n",
       "                    ).then(function(){\n",
       "                            \n",
       "var gd = document.getElementById('115404e5-5981-4eae-98be-eb956f93618c');\n",
       "var x = new MutationObserver(function (mutations, observer) {{\n",
       "        var display = window.getComputedStyle(gd).display;\n",
       "        if (!display || display === 'none') {{\n",
       "            console.log([gd, 'removed!']);\n",
       "            Plotly.purge(gd);\n",
       "            observer.disconnect();\n",
       "        }}\n",
       "}});\n",
       "\n",
       "// Listen for the removal of the full notebook cells\n",
       "var notebookContainer = gd.closest('#notebook-container');\n",
       "if (notebookContainer) {{\n",
       "    x.observe(notebookContainer, {childList: true});\n",
       "}}\n",
       "\n",
       "// Listen for the clearing of the current output cell\n",
       "var outputEl = gd.closest('.output');\n",
       "if (outputEl) {{\n",
       "    x.observe(outputEl, {childList: true});\n",
       "}}\n",
       "\n",
       "                        })\n",
       "                };\n",
       "                });\n",
       "            </script>\n",
       "        </div>"
      ]
     },
     "metadata": {},
     "output_type": "display_data"
    }
   ],
   "source": [
    "import plotly\n",
    "import plotly.graph_objs as go\n",
    "\n",
    "plotly.offline.init_notebook_mode(connected=True)\n",
    "\n",
    "plotly.offline.iplot({\n",
    "    \"data\": [go.Scatter(x=[1, 2, 3, 4], y=[4, 3, 2, 1])],\n",
    "    \"layout\": go.Layout(title=\"hello world\")\n",
    "})"
   ]
  },
  {
   "cell_type": "code",
   "execution_count": 15,
   "metadata": {},
   "outputs": [
    {
     "data": {
      "application/vnd.plotly.v1+json": {
       "config": {
        "plotlyServerURL": "https://plot.ly"
       },
       "data": [
        {
         "type": "bar",
         "y": [
          2,
          1,
          3
         ]
        }
       ],
       "layout": {
        "autosize": true,
        "template": {
         "data": {
          "bar": [
           {
            "error_x": {
             "color": "#2a3f5f"
            },
            "error_y": {
             "color": "#2a3f5f"
            },
            "marker": {
             "line": {
              "color": "#E5ECF6",
              "width": 0.5
             }
            },
            "type": "bar"
           }
          ],
          "barpolar": [
           {
            "marker": {
             "line": {
              "color": "#E5ECF6",
              "width": 0.5
             }
            },
            "type": "barpolar"
           }
          ],
          "carpet": [
           {
            "aaxis": {
             "endlinecolor": "#2a3f5f",
             "gridcolor": "white",
             "linecolor": "white",
             "minorgridcolor": "white",
             "startlinecolor": "#2a3f5f"
            },
            "baxis": {
             "endlinecolor": "#2a3f5f",
             "gridcolor": "white",
             "linecolor": "white",
             "minorgridcolor": "white",
             "startlinecolor": "#2a3f5f"
            },
            "type": "carpet"
           }
          ],
          "choropleth": [
           {
            "colorbar": {
             "outlinewidth": 0,
             "ticks": ""
            },
            "type": "choropleth"
           }
          ],
          "contour": [
           {
            "colorbar": {
             "outlinewidth": 0,
             "ticks": ""
            },
            "colorscale": [
             [
              0,
              "#0d0887"
             ],
             [
              0.1111111111111111,
              "#46039f"
             ],
             [
              0.2222222222222222,
              "#7201a8"
             ],
             [
              0.3333333333333333,
              "#9c179e"
             ],
             [
              0.4444444444444444,
              "#bd3786"
             ],
             [
              0.5555555555555556,
              "#d8576b"
             ],
             [
              0.6666666666666666,
              "#ed7953"
             ],
             [
              0.7777777777777778,
              "#fb9f3a"
             ],
             [
              0.8888888888888888,
              "#fdca26"
             ],
             [
              1,
              "#f0f921"
             ]
            ],
            "type": "contour"
           }
          ],
          "contourcarpet": [
           {
            "colorbar": {
             "outlinewidth": 0,
             "ticks": ""
            },
            "type": "contourcarpet"
           }
          ],
          "heatmap": [
           {
            "colorbar": {
             "outlinewidth": 0,
             "ticks": ""
            },
            "colorscale": [
             [
              0,
              "#0d0887"
             ],
             [
              0.1111111111111111,
              "#46039f"
             ],
             [
              0.2222222222222222,
              "#7201a8"
             ],
             [
              0.3333333333333333,
              "#9c179e"
             ],
             [
              0.4444444444444444,
              "#bd3786"
             ],
             [
              0.5555555555555556,
              "#d8576b"
             ],
             [
              0.6666666666666666,
              "#ed7953"
             ],
             [
              0.7777777777777778,
              "#fb9f3a"
             ],
             [
              0.8888888888888888,
              "#fdca26"
             ],
             [
              1,
              "#f0f921"
             ]
            ],
            "type": "heatmap"
           }
          ],
          "heatmapgl": [
           {
            "colorbar": {
             "outlinewidth": 0,
             "ticks": ""
            },
            "colorscale": [
             [
              0,
              "#0d0887"
             ],
             [
              0.1111111111111111,
              "#46039f"
             ],
             [
              0.2222222222222222,
              "#7201a8"
             ],
             [
              0.3333333333333333,
              "#9c179e"
             ],
             [
              0.4444444444444444,
              "#bd3786"
             ],
             [
              0.5555555555555556,
              "#d8576b"
             ],
             [
              0.6666666666666666,
              "#ed7953"
             ],
             [
              0.7777777777777778,
              "#fb9f3a"
             ],
             [
              0.8888888888888888,
              "#fdca26"
             ],
             [
              1,
              "#f0f921"
             ]
            ],
            "type": "heatmapgl"
           }
          ],
          "histogram": [
           {
            "marker": {
             "colorbar": {
              "outlinewidth": 0,
              "ticks": ""
             }
            },
            "type": "histogram"
           }
          ],
          "histogram2d": [
           {
            "colorbar": {
             "outlinewidth": 0,
             "ticks": ""
            },
            "colorscale": [
             [
              0,
              "#0d0887"
             ],
             [
              0.1111111111111111,
              "#46039f"
             ],
             [
              0.2222222222222222,
              "#7201a8"
             ],
             [
              0.3333333333333333,
              "#9c179e"
             ],
             [
              0.4444444444444444,
              "#bd3786"
             ],
             [
              0.5555555555555556,
              "#d8576b"
             ],
             [
              0.6666666666666666,
              "#ed7953"
             ],
             [
              0.7777777777777778,
              "#fb9f3a"
             ],
             [
              0.8888888888888888,
              "#fdca26"
             ],
             [
              1,
              "#f0f921"
             ]
            ],
            "type": "histogram2d"
           }
          ],
          "histogram2dcontour": [
           {
            "colorbar": {
             "outlinewidth": 0,
             "ticks": ""
            },
            "colorscale": [
             [
              0,
              "#0d0887"
             ],
             [
              0.1111111111111111,
              "#46039f"
             ],
             [
              0.2222222222222222,
              "#7201a8"
             ],
             [
              0.3333333333333333,
              "#9c179e"
             ],
             [
              0.4444444444444444,
              "#bd3786"
             ],
             [
              0.5555555555555556,
              "#d8576b"
             ],
             [
              0.6666666666666666,
              "#ed7953"
             ],
             [
              0.7777777777777778,
              "#fb9f3a"
             ],
             [
              0.8888888888888888,
              "#fdca26"
             ],
             [
              1,
              "#f0f921"
             ]
            ],
            "type": "histogram2dcontour"
           }
          ],
          "mesh3d": [
           {
            "colorbar": {
             "outlinewidth": 0,
             "ticks": ""
            },
            "type": "mesh3d"
           }
          ],
          "parcoords": [
           {
            "line": {
             "colorbar": {
              "outlinewidth": 0,
              "ticks": ""
             }
            },
            "type": "parcoords"
           }
          ],
          "pie": [
           {
            "automargin": true,
            "type": "pie"
           }
          ],
          "scatter": [
           {
            "marker": {
             "colorbar": {
              "outlinewidth": 0,
              "ticks": ""
             }
            },
            "type": "scatter"
           }
          ],
          "scatter3d": [
           {
            "line": {
             "colorbar": {
              "outlinewidth": 0,
              "ticks": ""
             }
            },
            "marker": {
             "colorbar": {
              "outlinewidth": 0,
              "ticks": ""
             }
            },
            "type": "scatter3d"
           }
          ],
          "scattercarpet": [
           {
            "marker": {
             "colorbar": {
              "outlinewidth": 0,
              "ticks": ""
             }
            },
            "type": "scattercarpet"
           }
          ],
          "scattergeo": [
           {
            "marker": {
             "colorbar": {
              "outlinewidth": 0,
              "ticks": ""
             }
            },
            "type": "scattergeo"
           }
          ],
          "scattergl": [
           {
            "marker": {
             "colorbar": {
              "outlinewidth": 0,
              "ticks": ""
             }
            },
            "type": "scattergl"
           }
          ],
          "scattermapbox": [
           {
            "marker": {
             "colorbar": {
              "outlinewidth": 0,
              "ticks": ""
             }
            },
            "type": "scattermapbox"
           }
          ],
          "scatterpolar": [
           {
            "marker": {
             "colorbar": {
              "outlinewidth": 0,
              "ticks": ""
             }
            },
            "type": "scatterpolar"
           }
          ],
          "scatterpolargl": [
           {
            "marker": {
             "colorbar": {
              "outlinewidth": 0,
              "ticks": ""
             }
            },
            "type": "scatterpolargl"
           }
          ],
          "scatterternary": [
           {
            "marker": {
             "colorbar": {
              "outlinewidth": 0,
              "ticks": ""
             }
            },
            "type": "scatterternary"
           }
          ],
          "surface": [
           {
            "colorbar": {
             "outlinewidth": 0,
             "ticks": ""
            },
            "colorscale": [
             [
              0,
              "#0d0887"
             ],
             [
              0.1111111111111111,
              "#46039f"
             ],
             [
              0.2222222222222222,
              "#7201a8"
             ],
             [
              0.3333333333333333,
              "#9c179e"
             ],
             [
              0.4444444444444444,
              "#bd3786"
             ],
             [
              0.5555555555555556,
              "#d8576b"
             ],
             [
              0.6666666666666666,
              "#ed7953"
             ],
             [
              0.7777777777777778,
              "#fb9f3a"
             ],
             [
              0.8888888888888888,
              "#fdca26"
             ],
             [
              1,
              "#f0f921"
             ]
            ],
            "type": "surface"
           }
          ],
          "table": [
           {
            "cells": {
             "fill": {
              "color": "#EBF0F8"
             },
             "line": {
              "color": "white"
             }
            },
            "header": {
             "fill": {
              "color": "#C8D4E3"
             },
             "line": {
              "color": "white"
             }
            },
            "type": "table"
           }
          ]
         },
         "layout": {
          "annotationdefaults": {
           "arrowcolor": "#2a3f5f",
           "arrowhead": 0,
           "arrowwidth": 1
          },
          "coloraxis": {
           "colorbar": {
            "outlinewidth": 0,
            "ticks": ""
           }
          },
          "colorscale": {
           "diverging": [
            [
             0,
             "#8e0152"
            ],
            [
             0.1,
             "#c51b7d"
            ],
            [
             0.2,
             "#de77ae"
            ],
            [
             0.3,
             "#f1b6da"
            ],
            [
             0.4,
             "#fde0ef"
            ],
            [
             0.5,
             "#f7f7f7"
            ],
            [
             0.6,
             "#e6f5d0"
            ],
            [
             0.7,
             "#b8e186"
            ],
            [
             0.8,
             "#7fbc41"
            ],
            [
             0.9,
             "#4d9221"
            ],
            [
             1,
             "#276419"
            ]
           ],
           "sequential": [
            [
             0,
             "#0d0887"
            ],
            [
             0.1111111111111111,
             "#46039f"
            ],
            [
             0.2222222222222222,
             "#7201a8"
            ],
            [
             0.3333333333333333,
             "#9c179e"
            ],
            [
             0.4444444444444444,
             "#bd3786"
            ],
            [
             0.5555555555555556,
             "#d8576b"
            ],
            [
             0.6666666666666666,
             "#ed7953"
            ],
            [
             0.7777777777777778,
             "#fb9f3a"
            ],
            [
             0.8888888888888888,
             "#fdca26"
            ],
            [
             1,
             "#f0f921"
            ]
           ],
           "sequentialminus": [
            [
             0,
             "#0d0887"
            ],
            [
             0.1111111111111111,
             "#46039f"
            ],
            [
             0.2222222222222222,
             "#7201a8"
            ],
            [
             0.3333333333333333,
             "#9c179e"
            ],
            [
             0.4444444444444444,
             "#bd3786"
            ],
            [
             0.5555555555555556,
             "#d8576b"
            ],
            [
             0.6666666666666666,
             "#ed7953"
            ],
            [
             0.7777777777777778,
             "#fb9f3a"
            ],
            [
             0.8888888888888888,
             "#fdca26"
            ],
            [
             1,
             "#f0f921"
            ]
           ]
          },
          "colorway": [
           "#636efa",
           "#EF553B",
           "#00cc96",
           "#ab63fa",
           "#FFA15A",
           "#19d3f3",
           "#FF6692",
           "#B6E880",
           "#FF97FF",
           "#FECB52"
          ],
          "font": {
           "color": "#2a3f5f"
          },
          "geo": {
           "bgcolor": "white",
           "lakecolor": "white",
           "landcolor": "#E5ECF6",
           "showlakes": true,
           "showland": true,
           "subunitcolor": "white"
          },
          "hoverlabel": {
           "align": "left"
          },
          "hovermode": "closest",
          "mapbox": {
           "style": "light"
          },
          "paper_bgcolor": "white",
          "plot_bgcolor": "#E5ECF6",
          "polar": {
           "angularaxis": {
            "gridcolor": "white",
            "linecolor": "white",
            "ticks": ""
           },
           "bgcolor": "#E5ECF6",
           "radialaxis": {
            "gridcolor": "white",
            "linecolor": "white",
            "ticks": ""
           }
          },
          "scene": {
           "xaxis": {
            "backgroundcolor": "#E5ECF6",
            "gridcolor": "white",
            "gridwidth": 2,
            "linecolor": "white",
            "showbackground": true,
            "ticks": "",
            "zerolinecolor": "white"
           },
           "yaxis": {
            "backgroundcolor": "#E5ECF6",
            "gridcolor": "white",
            "gridwidth": 2,
            "linecolor": "white",
            "showbackground": true,
            "ticks": "",
            "zerolinecolor": "white"
           },
           "zaxis": {
            "backgroundcolor": "#E5ECF6",
            "gridcolor": "white",
            "gridwidth": 2,
            "linecolor": "white",
            "showbackground": true,
            "ticks": "",
            "zerolinecolor": "white"
           }
          },
          "shapedefaults": {
           "line": {
            "color": "#2a3f5f"
           }
          },
          "ternary": {
           "aaxis": {
            "gridcolor": "white",
            "linecolor": "white",
            "ticks": ""
           },
           "baxis": {
            "gridcolor": "white",
            "linecolor": "white",
            "ticks": ""
           },
           "bgcolor": "#E5ECF6",
           "caxis": {
            "gridcolor": "white",
            "linecolor": "white",
            "ticks": ""
           }
          },
          "title": {
           "x": 0.05
          },
          "xaxis": {
           "automargin": true,
           "gridcolor": "white",
           "linecolor": "white",
           "ticks": "",
           "title": {
            "standoff": 15
           },
           "zerolinecolor": "white",
           "zerolinewidth": 2
          },
          "yaxis": {
           "automargin": true,
           "gridcolor": "white",
           "linecolor": "white",
           "ticks": "",
           "title": {
            "standoff": 15
           },
           "zerolinecolor": "white",
           "zerolinewidth": 2
          }
         }
        },
        "title": {
         "text": "A Figure Displayed with fig.show()"
        },
        "xaxis": {
         "autorange": true,
         "range": [
          -0.5,
          2.5
         ]
        },
        "yaxis": {
         "autorange": true,
         "range": [
          0,
          3.1578947368421053
         ],
         "type": "linear"
        }
       }
      },
      "image/png": "[encoded data removed]"
     },
     "metadata": {},
     "output_type": "display_data"
    }
   ],
   "source": [
    "fig = go.Figure(\n",
    "    data=[go.Bar(y=[2, 1, 3])],\n",
    "    layout_title_text=\"Testing dif options for rendeerers; plotly_mimetype\"\n",
    ")\n",
    "fig.show(renderer=\"plotly_mimetype\",auto_open=True)"
   ]
  },
  {
   "cell_type": "code",
   "execution_count": 16,
   "metadata": {},
   "outputs": [],
   "source": [
    "# import numpy as np\n",
    "# import chart_studio.plotly as py\n",
    "\n",
    "# import plotly.graph_objs as go\n",
    "\n",
    "# # py.offline.init_notebook_mode()\n",
    "# a = np.linspace(start=0, stop=36, num=36)\n",
    "# np.random.seed(25)\n",
    "# b = np.random.uniform(low=0.0, high=1.0, size=36)\n",
    "\n",
    "# trace = go.Scatter(x=a, y=b)\n",
    "# data = [trace]\n",
    "# py.iplot(data, filename = 'basic-file')\n"
   ]
  },
  {
   "cell_type": "code",
   "execution_count": null,
   "metadata": {},
   "outputs": [],
   "source": [
    "# done I"
   ]
  },
  {
   "cell_type": "code",
   "execution_count": 4,
   "metadata": {
    "tags": [
     "interactive"
    ]
   },
   "outputs": [
    {
     "data": {
      "application/vnd.jupyter.widget-view+json": {
       "model_id": "2d4a3e7bf750499aa0d94b8effab641f",
       "version_major": 2,
       "version_minor": 0
      },
      "text/plain": [
       "interactive(children=(Dropdown(description='Host_Plant', options=('Switchgrass & Miscanthus', 'Switchgrass', '…"
      ]
     },
     "metadata": {},
     "output_type": "display_data"
    }
   ],
   "source": [
    "#HIDDEN\n",
    "%matplotlib widget\n",
    "\n",
    "@interact\n",
    "def graph(Host_Plant=[\"Switchgrass & Miscanthus\",\"Switchgrass\",\"Miscanthus\"],By=[\"Percentage\",\"Count\"]):\n",
    "    G5Data = metadataG[metadataG['type'] == 'G5']\n",
    "    G6Data = metadataG[metadataG['type'] == 'G6']\n",
    "    ax = None\n",
    "    if By == \"Percentage\":\n",
    "        if (Host_Plant == \"Switchgrass & Miscanthus\"):\n",
    "            ax = metadataG.groupby(['Date','plot_name']).sum()['percPlantAligned'].unstack().iplot(title=\"% Reads Aligning to Respective Plant Host Assembly G5=Switchgrass G6=Miscanthus\");\n",
    "#             print(dir(ax))\n",
    "#             f = ax.get_figure()\n",
    "#             f.savefig(\"images/CombinedPlantLineGraph.png\")\n",
    "        elif Host_Plant == \"Switchgrass\":\n",
    "            ax = G5Data.groupby(['Date','plot_name']).sum()['percPlantAligned'].unstack().iplot(title=\"% Reads Aligning to Switchgrass Assembly\",fontsize=12);\n",
    "        else: # \"Miscanthus\":\n",
    "            ax = G6Data.groupby(['Date','plot_name']).sum()['percPlantAligned'].unstack().iplot(title=\"% Reads Aligning to Micanthus Assembly\",fontsize=12);\n",
    "        ylim = 100\n",
    "        ylab = \"% Reads\"\n",
    "    else:\n",
    "        colors = [\"#74C476\", \"#f26d07\",\"#794955\"]\n",
    "        if (Host_Plant == \"Switchgrass & Miscanthus\"):\n",
    "            ax = metadataG.loc[:,['Plant Reads','Fungal Reads', 'Remaining']].iplot(kind='bar', barmode = 'stack', color=colors, title=\"Reads Counts By Source\")\n",
    "        elif Host_Plant == \"Switchgrass\":\n",
    "            ax = G5Data.loc[:,['Plant Reads','Fungal Reads', 'Remaining']].iplot(kind='bar', barmode = 'stack', color=colors, title=\"Switchgrass Reads Counts\")\n",
    "        else:\n",
    "            ax = G5Data.loc[:,['Plant Reads','Fungal Reads', 'Remaining']].iplot(kind='bar', barmode = 'stack', color=colors, title=\"Miscanthus Reads Counts By Source\")\n",
    "    \n",
    "    return ax"
   ]
  },
  {
   "cell_type": "markdown",
   "metadata": {},
   "source": [
    "![alt text](images/CombinedPlantLineGraph.png \"Title\")"
   ]
  },
  {
   "cell_type": "markdown",
   "metadata": {},
   "source": [
    "<a id=\"fAlign\"></a>\n",
    "  \n",
    "<h2>Sequencing and alignment Summaries</h2>\n",
    "<h4>Fungal Alignment Report</h4>\n",
    "<h5 style=\"color:blue\">What reads are fungal reads?</h5>\n",
    "\n",
    "<div class=\"alert alert-block alert-info\">\n",
    "    <p>\n",
    "        <u><br/>Step 1. Extract reads that don't align the plant assembly <br/></u> \n",
    "        <div class=\"alert alert-block alert-warning\">\n",
    "            # A. Convert sam > bam <br/>\n",
    "            samtools view -bS \\$SAMFILE > \\$BAMFILE <br/><br/>\n",
    "            # B. Extract all unmapped reads (-f 4) that don't have a mate mapped (-F 256 i.e. both unmapped) <br/>\n",
    "            samtools view -b -f 4 -F 256 \\$BAMFILE > \\$sample.unmapped.bam <br/><br/>\n",
    "            # C. Sort the reads <br/>\n",
    "            samtools sort -n \\$sample.unmapped.bam -o \\$sample.unmapped_sorted.bam <br/><br/>\n",
    "            # D. Split the unmapped reads in R1 & R2 (back into paired end) <br/>\n",
    "            bedtools bamtofastq -i \\$sample.unmapped_sorted.bam -fq \\$sample.R1.fastq -fq2 \\$sample.R2.fastq\n",
    "        </div>\n",
    "        <u><br/>Step 2. Align the reads to the combined fungal assemblies <br/></u> \n",
    "        <div class=\"alert alert-block alert-warning\">\n",
    "            bowtie2 -x \\$FUNGAL -1 \\$sample.R1.fastq -2 \\$sample.R2.fastq -S \\$sample.fungal.sam 2>\\$sample.fungal.stat\n",
    "        </div>\n",
    "    </p>\n",
    "</div>\n",
    "<div class=\"alert alert-block alert-success\">\n",
    "\n",
    "[Outline](#home)\n",
    "\n",
    "Skip to:   \n",
    "*  [Adapter Trimming and QC (Trimmomatic) Report](#seqSums)\n",
    "*  [Host Plant Alignment Report](#pAlign)\n",
    "*  Fungal Alignments\n",
    "*  [Alignment Conclusions](#aConc)\n",
    "    \n",
    "</div>"
   ]
  },
  {
   "cell_type": "code",
   "execution_count": 4,
   "metadata": {},
   "outputs": [
    {
     "data": {
      "application/vnd.jupyter.widget-view+json": {
       "model_id": "aa418b162d1d49f595b4cd88df22b6c8",
       "version_major": 2,
       "version_minor": 0
      },
      "text/plain": [
       "interactive(children=(Dropdown(description='Samples', options=('Switchgrass', 'Miscanthus', 'Switchgrass & Mis…"
      ]
     },
     "metadata": {},
     "output_type": "display_data"
    }
   ],
   "source": [
    "#HIDDEN\n",
    "\n",
    "@interact\n",
    "def fungalAlign(Samples=[\"Switchgrass\", \"Miscanthus\", \"Switchgrass & Miscanthus\"]):\n",
    "    if Samples == \"Switchgrass\":\n",
    "        G5Data = metadataG[metadataG['type'] == 'G5']\n",
    "        return G5Data.groupby(['Date','plot_name']).sum()['percFungalAligned'].unstack().iplot(yTitle=\"Percentage of Reads\",title=\"Switchgrass Samples Perctages of Reads Aligning to Combined Fungal Assemblies\");\n",
    "    elif Samples == \"Miscanthus\":\n",
    "        G6Data = metadataG[metadataG['type'] == 'G6']\n",
    "        return G6Data.groupby(['Date','plot_name']).sum()['percFungalAligned'].unstack().iplot(yTitle=\"Percentage of Reads\",title=\"Miscanthus Samples Perctages of Reads Aligning to Combined Fungal Assemblies\");\n",
    "    else:\n",
    "        return metadataG.groupby(['Date','plot_name']).sum()['percFungalAligned'].unstack().iplot(yTitle=\"Percentage of Reads\",title=\"All Samples Perctages of Reads Aligning to Combined Fungal Assemblies\");"
   ]
  },
  {
   "cell_type": "markdown",
   "metadata": {},
   "source": [
    "![text](images/SwitchgrassMicanFungal.png)"
   ]
  },
  {
   "cell_type": "markdown",
   "metadata": {},
   "source": [
    "<a id=\"aConc\"></a>\n",
    "  \n",
    "<h2 style=\"text-decoration: underline;\">Sequencing and alignment Summaries</h2>\n",
    "<h4>Sequencing Observations</h4>\n",
    "<h5 style=\"color:blue\">What patterns are there over the season?</h5>\n",
    "\n",
    "<ol>\n",
    "    <li>The percentage of plant reads sequenced is high thoughout the season and tapers off towards the end of the season. This may be do to senescence of plant cells.</li>\n",
    "    <li>Alignment to the 6 selected fungal assemblies is low, but picks up during the warmer months. Overall, reads aligning to the combined fungal assembly were &lt;10% of the non-plant reads.</li>\n",
    "</ol>\n",
    "\n",
    "<div class=\"alert alert-block alert-success\">\n",
    "\n",
    "[Outline](#home)\n",
    "\n",
    "Skip to:   \n",
    "*  [PCoA](#readbd)\n",
    "*  [Host Plant Alignment Report](#pAlign)\n",
    "*  [Fungal Alignments](#fAlign)\n",
    "*  Alignment Conclusions\n",
    "    \n",
    "</div>"
   ]
  },
  {
   "cell_type": "markdown",
   "metadata": {},
   "source": [
    "<a id=\"accum\"></a>\n",
    "<h2 style=\"text-decoration: underline;\">Overarching analysis - changes in metagenome content over time</h2>\n",
    "\n",
    "<div class=\"alert alert-block alert-success\">\n",
    "\n",
    "[Outline](#home)\n",
    "\n",
    "Skip to: \n",
    "*  Functional annotation accumulation over time\n",
    "*  [Is time a factor that affects the functional richness of phylosphere communities (Alpha Diversity)?](#alphaD)\n",
    "*  [Do we see changes over time in functional richness?](#funcRich)\n",
    "*  [Is there a difference between treatment (Fertilized vs. Unfertilized)?](#treatComp)\n",
    "*  [Is there a difference between host plant?](#plantDif)    \n",
    "*  [PCoA of functional counts](#pcoa)\n",
    "*  [Is there similarity between the WGS communities and the 16S data?](#comp16S)\n",
    "*  [How variable are metagenomes across replicate time points?](#permdisp)\n",
    "\n",
    "    \n",
    "</div>\n",
    "\n",
    "\n",
    "<h4>COG accumulation over time</h4>\n",
    "\n",
    "![pcoa](ShadeLabCode/R/Figures/Figure1B_COG_GenesAccumulation2.png)"
   ]
  },
  {
   "cell_type": "markdown",
   "metadata": {},
   "source": [
    "<a id=\"alphaD\"></a>\n",
    "<h4 style=\"color:blue\">Is time a factor that affects the functional richness of phylosphere communities (Alpha Diversity)?</h4>\n",
    "\n",
    "\n",
    "<table>\n",
    "    <tr>\n",
    "        <td>\n",
    "            <table style=\"border: 1px solid black;\">\n",
    "                <tr style=\"border: 1px solid black;\">\n",
    "                    <th colspan=\"3\">Switchgrass Pearson's product-moment correlation</th>\n",
    "                </tr>\n",
    "                <tr style=\"border: 1px solid black;\">\n",
    "                    <td style=\"text-align: right\">Data:</td>\n",
    "                    <td colspan=\"2\">Time and Richness</td>\n",
    "                </tr>    \n",
    "                <tr style=\"border: 1px solid black;\">\n",
    "                    <td style=\"border: 1px solid black;\">t = 10.223</td>\n",
    "                    <td style=\"border: 1px solid black;\">df = 62</td>\n",
    "                    <td style=\"border: 1px solid black;\">p-value = 6.316e-15</td>\n",
    "                </tr>    \n",
    "                <tr>\n",
    "                    <td colspan=\"3\" style=\"text-align: center\">sample estimates: cor 0.7922484 </td>\n",
    "                </tr>    \n",
    "            </table>\n",
    "        </td>\n",
    "        <td>\n",
    "            <table style=\"border: 1px solid black;\">\n",
    "                <tr style=\"border: 1px solid black;\">\n",
    "                    <th colspan=\"3\">Switchgrass Pearson's product-moment correlation</th>\n",
    "                </tr>\n",
    "                <tr style=\"border: 1px solid black;\">\n",
    "                    <td style=\"text-align: right\">Data:</td>\n",
    "                    <td colspan=\"2\">Time and Shannon</td>\n",
    "                </tr>    \n",
    "                <tr style=\"border: 1px solid black;\">\n",
    "                    <td style=\"border: 1px solid black;\">t = 7.1534</td>\n",
    "                    <td style=\"border: 1px solid black;\">df = 62</td>\n",
    "                    <td style=\"border: 1px solid black;\">p-value = 1.166e-09</td>\n",
    "                </tr>    \n",
    "                <tr>\n",
    "                    <td colspan=\"3\" style=\"text-align: center\">sample estimates: cor 0.6724267 </td>\n",
    "                </tr>    \n",
    "            </table>\n",
    "        </td>\n",
    "        <td>\n",
    "            <table style=\"border: 1px solid black;\">\n",
    "                <tr style=\"border: 1px solid black;\">\n",
    "                    <th colspan=\"3\">Switchgrass Pearson's product-moment correlation</th>\n",
    "                </tr>\n",
    "                <tr style=\"border: 1px solid black;\">\n",
    "                    <td style=\"text-align: right\">Data:</td>\n",
    "                    <td colspan=\"2\">Time and Pielou</td>\n",
    "                </tr>    \n",
    "                <tr style=\"border: 1px solid black;\">\n",
    "                    <td style=\"border: 1px solid black;\">t = 5.6951</td>\n",
    "                    <td style=\"border: 1px solid black;\">df = 62</td>\n",
    "                    <td style=\"border: 1px solid black;\">p-value = 3.622e-07</td>\n",
    "                </tr>    \n",
    "                <tr>\n",
    "                    <td colspan=\"3\" style=\"text-align: center\">sample estimates: cor 0.586056 </td>\n",
    "                </tr>    \n",
    "            </table>\n",
    "        </td>\n",
    "    </tr>\n",
    "    <tr>\n",
    "        <td>\n",
    "            <table style=\"border: 1px solid black;\">\n",
    "                <tr style=\"border: 1px solid black;\">\n",
    "                    <th colspan=\"3\">Miscanthus Pearson's product-moment correlation</th>\n",
    "                </tr>\n",
    "                <tr style=\"border: 1px solid black;\">\n",
    "                    <td style=\"text-align: right\">Data:</td>\n",
    "                    <td colspan=\"2\">Time and Richness</td>\n",
    "                </tr>    \n",
    "                <tr style=\"border: 1px solid black;\">\n",
    "                    <td style=\"border: 1px solid black;\">t = 8.5659</td>\n",
    "                    <td style=\"border: 1px solid black;\">df = 70</td>\n",
    "                    <td style=\"border: 1px solid black;\">p-value = 1.658e-12</td>\n",
    "                </tr>    \n",
    "                <tr>\n",
    "                    <td colspan=\"3\" style=\"text-align: center\">sample estimates: cor 0.7153784 </td>\n",
    "                </tr>    \n",
    "            </table>\n",
    "        </td>\n",
    "        <td>\n",
    "            <table style=\"border: 1px solid black;\">\n",
    "                <tr style=\"border: 1px solid black;\">\n",
    "                    <th colspan=\"3\">Miscanthus Pearson's product-moment correlation</th>\n",
    "                </tr>\n",
    "                <tr style=\"border: 1px solid black;\">\n",
    "                    <td style=\"text-align: right\">Data:</td>\n",
    "                    <td colspan=\"2\">Time and Shannon</td>\n",
    "                </tr>    \n",
    "                <tr style=\"border: 1px solid black;\">\n",
    "                    <td style=\"border: 1px solid black;\">t = 6.1267</td>\n",
    "                    <td style=\"border: 1px solid black;\">df = 70</td>\n",
    "                    <td style=\"border: 1px solid black;\">p-value = 4.675e-08</td>\n",
    "                </tr>    \n",
    "                <tr>\n",
    "                    <td colspan=\"3\" style=\"text-align: center\">sample estimates: cor 0.5908107 </td>\n",
    "                </tr>    \n",
    "            </table>\n",
    "        </td>\n",
    "        <td>\n",
    "            <table style=\"border: 1px solid black;\">\n",
    "                <tr style=\"border: 1px solid black;\">\n",
    "                    <th colspan=\"3\">Miscanthus Pearson's product-moment correlation</th>\n",
    "                </tr>\n",
    "                <tr style=\"border: 1px solid black;\">\n",
    "                    <td style=\"text-align: right\">Data:</td>\n",
    "                    <td colspan=\"2\">Time and Pielou</td>\n",
    "                </tr>    \n",
    "                <tr style=\"border: 1px solid black;\">\n",
    "                    <td style=\"border: 1px solid black;\">t = 7.1602</td>\n",
    "                    <td style=\"border: 1px solid black;\">df = 70</td>\n",
    "                    <td style=\"border: 1px solid black;\">p-value = 6.369e-10</td>\n",
    "                </tr>    \n",
    "                <tr>\n",
    "                    <td colspan=\"3\" style=\"text-align: center\">sample estimates: cor 0.6502079 </td>\n",
    "                </tr>    \n",
    "            </table>\n",
    "        </td>\n",
    "    </tr>\n",
    "</table>"
   ]
  },
  {
   "cell_type": "markdown",
   "metadata": {},
   "source": [
    "<a id=\"funcRich\"></a>\n",
    "<h4 style=\"color:blue\">Do we see changes over time in functional richness?</h4>"
   ]
  },
  {
   "cell_type": "markdown",
   "metadata": {},
   "source": [
    "Call:\n",
    "adonis(formula = dist.otu ~ map_16S\\$time_numeric) \n",
    "\n",
    "Permutation: free\n",
    "Number of permutations: 999\n",
    "\n",
    "Terms added sequentially (first to last)\n",
    "\n",
    "                      Df SumsOfSqs MeanSqs F.Model      R2 Pr(>F)    \n",
    "map_16S$time_numeric   1    1.9356 1.93562  47.814 0.26298  0.001 ***\n",
    "Residuals            134    5.4246 0.04048         0.73702           \n",
    "Total                135    7.3603                 1.00000           \n",
    "---\n",
    "Signif. codes:  0 ‘***’ 0.001 ‘**’ 0.01 ‘*’ 0.05 ‘.’ 0.1 ‘ ’ 1"
   ]
  },
  {
   "cell_type": "markdown",
   "metadata": {},
   "source": [
    "<a id=\"treatComp\"></a>\n",
    "<h4 style=\"color:blue\">Is there a difference between treatment (Fertilized vs. Unfertilized)?</h4>"
   ]
  },
  {
   "cell_type": "markdown",
   "metadata": {},
   "source": [
    "Call:\n",
    "adonis(formula = dist.otu ~ map_16S\\$treatment) \n",
    "\n",
    "Permutation: free\n",
    "Number of permutations: 999\n",
    "\n",
    "Terms added sequentially (first to last)\n",
    "\n",
    "                   Df SumsOfSqs  MeanSqs F.Model      R2 Pr(>F)\n",
    "map_16S$treatment   1    0.0289 0.028930 0.52878 0.00393  0.755\n",
    "Residuals         134    7.3313 0.054711         0.99607       \n",
    "Total             135    7.3603                  1.00000  "
   ]
  },
  {
   "cell_type": "markdown",
   "metadata": {},
   "source": [
    "<a id=\"plantDif\"></a>\n",
    "<h4 style=\"color:blue\">Is there a difference between host plant?</h4>"
   ]
  },
  {
   "cell_type": "markdown",
   "metadata": {},
   "source": [
    "Call:\n",
    "adonis(formula = dist.otu ~ map_16S\\$plant) \n",
    "\n",
    "Permutation: free\n",
    "Number of permutations: 999\n",
    "\n",
    "Terms added sequentially (first to last)\n",
    "\n",
    "               Df SumsOfSqs  MeanSqs F.Model      R2 Pr(>F)  \n",
    "map_16S$plant   1    0.1617 0.161704  3.0101 0.02197  0.027 *\n",
    "Residuals     134    7.1986 0.053721         0.97803         \n",
    "Total         135    7.3603                  1.00000         \n",
    "---\n",
    "Signif. codes:  0 '***' 0.001 '**' 0.01 '*' 0.05 '.' 0.1 ' ' 1"
   ]
  },
  {
   "cell_type": "markdown",
   "metadata": {},
   "source": [
    "<a id=\"pcoa\"></a>\n",
    "<h4 style=\"color:blue\">PCoA</h4>"
   ]
  },
  {
   "cell_type": "code",
   "execution_count": 4,
   "metadata": {},
   "outputs": [
    {
     "data": {
      "application/vnd.jupyter.widget-view+json": {
       "model_id": "32814bed1e4e4515bd147fba78591d6a",
       "version_major": 2,
       "version_minor": 0
      },
      "text/plain": [
       "interactive(children=(Dropdown(description='Normalized_By', options=('Total Reads', 'Non Plant Reads'), value=…"
      ]
     },
     "metadata": {},
     "output_type": "display_data"
    }
   ],
   "source": [
    "#HIDDEN\n",
    "from IPython.display import Image\n",
    "\n",
    "@interact\n",
    "def dataSet(Normalized_By=[\"Total Reads\",\"Non Plant Reads\"]):\n",
    "    if \"Total Reads\" == Normalized_By:\n",
    "        return Image(filename='ShadeLabCode/R/Figures/Figure2B_PhyllospherePCoAGenes.png') \n",
    "    else:\n",
    "        return Image(filename='ShadeLabCode/R/Figures/Figure2B_PhyllospherePCoAGenes2.png') "
   ]
  },
  {
   "cell_type": "markdown",
   "metadata": {},
   "source": [
    "![text](ShadeLabCode/R/Figures/Figure2B_PhyllospherePCoAGenes2.png)"
   ]
  },
  {
   "cell_type": "markdown",
   "metadata": {},
   "source": [
    "<a id=\"comp16S\"></a>\n",
    "<h4 style=\"color:blue\">Is there similarity between the WGS communities and the 16S data (mantel/procrustes)?</h4>"
   ]
  },
  {
   "cell_type": "markdown",
   "metadata": {},
   "source": [
    "Mantel statistic based on Pearson's product-moment correlation \n",
    "\n",
    "Call:\n",
    "mantel(xdis = genes.dist, ydis = otu.dist) \n",
    "\n",
    "Mantel statistic r: 0.6526 \n",
    "      Significance: 0.001 \n",
    "\n",
    "Upper quantiles of permutations (null model):\n",
    "   90%    95%  97.5%    99% \n",
    "0.0833 0.1194 0.1458 0.1849 \n",
    "Permutation: free\n",
    "Number of permutations: 999\n",
    "\n",
    "Call:\n",
    "protest(X = genes.pcoa, Y = otu.pcoa) \n",
    "\n",
    "Procrustes Sum of Squares (m12 squared):        0.5402 \n",
    "Correlation in a symmetric Procrustes rotation: 0.6781 \n",
    "Significance:  0.001 \n",
    "\n",
    "Permutation: free\n",
    "Number of permutations: 999"
   ]
  },
  {
   "cell_type": "markdown",
   "metadata": {},
   "source": [
    "[Home](#home)"
   ]
  },
  {
   "cell_type": "markdown",
   "metadata": {},
   "source": [
    "<h1><a id=\"annoMeth\">Annotation Methodology</a></h1>\n",
    "\n",
    "  - Decide how to normalize the data\n",
    "    - Coverage is good, community is simple\n",
    "      - [x] Option 1:  Relative abundances\n",
    "      - Option 2:  counts per single copy gene/cell\n",
    "        - To decide:  use MicrobeCensus to ask whether there are changes in average genome size over time – Jackson will work together with Shane to run it\n",
    "          - If yes, use option 2\n",
    "          - If no, use option 1\n",
    "  - [x] Mapping to KEGG/Functions – Shane will write a script to do that"
   ]
  },
  {
   "cell_type": "code",
   "execution_count": null,
   "metadata": {},
   "outputs": [],
   "source": []
  },
  {
   "cell_type": "markdown",
   "metadata": {},
   "source": [
    "<li>The overlap between which contigs have both a prokaryotic and a eukaryotic annotation suggest either shared gene similarity or eukarotic contamination.</li>"
   ]
  },
  {
   "cell_type": "markdown",
   "metadata": {},
   "source": [
    "<h2 id=\"anno\">Assembly and MAGs</h2>\n",
    "<p>The fittered reads (All-(plant+fungal)) were used to generate a metagenomic assembly. The assembly was then annotated with a set of prokaryotic peptides and a set of eukaryotic peptides. The diagram below shows numbers for contigs that had only prokayotic, both, and only eukarotic respectively.</p>"
   ]
  },
  {
   "cell_type": "code",
   "execution_count": null,
   "metadata": {},
   "outputs": [],
   "source": [
    "#HIDDEN\n",
    "EukaryoticAnnotations, ProkaryoticAnnotations = set(), set()\n",
    "for line in open(\"annotations/EukAnnotatedContigIDs2.txt\"):  EukaryoticAnnotations.add(line.strip())\n",
    "for line in open(\"annotations/ProkAnnotatedContigIDs.txt\"): ProkaryoticAnnotations.add(line.strip())\n",
    "import matplotlib.pyplot as plt\n",
    "from matplotlib_venn import venn2\n",
    "# First way to call the 2 group Venn diagram:\n",
    "venn2(subsets = (len(ProkaryoticAnnotations.difference(EukaryoticAnnotations)), len(ProkaryoticAnnotations.intersection(EukaryoticAnnotations)), len(EukaryoticAnnotations.difference(ProkaryoticAnnotations))), set_labels = ('Prokaryotic Contigs','Eukaryotic Contigs'))\n",
    "plt.title('Contigs with an Annotation')\n",
    "plt.show()"
   ]
  },
  {
   "cell_type": "code",
   "execution_count": 18,
   "metadata": {},
   "outputs": [
    {
     "data": {
      "application/javascript": [
       "IPython.notebook.save_checkpoint();"
      ],
      "text/plain": [
       "<IPython.core.display.Javascript object>"
      ]
     },
     "metadata": {},
     "output_type": "display_data"
    },
    {
     "data": {
      "application/javascript": [
       "IPython.notebook.save_notebook();"
      ],
      "text/plain": [
       "<IPython.core.display.Javascript object>"
      ]
     },
     "metadata": {},
     "output_type": "display_data"
    },
    {
     "name": "stdout",
     "output_type": "stream",
     "text": [
      "Saving notebook... "
     ]
    },
    {
     "name": "stderr",
     "output_type": "stream",
     "text": [
      "WARNING:root:Could not save your notebook (timed out waiting for IPython save). Make sure your notebook is saved and export again.\n"
     ]
    },
    {
     "name": "stdout",
     "output_type": "stream",
     "text": [
      "Converting notebook...\n"
     ]
    },
    {
     "data": {
      "text/markdown": [
       "\n",
       "Successfully converted!\n",
       "\n",
       "<a href=\"GLBRC_Report2.html\" target=\"_blank\" download>Click to download your webpage.</a>\n",
       "\n",
       "To host your webpage, see the documentation:\n",
       "<a href=\"https://www.nbinteract.com/tutorial/tutorial_publishing.html\"\n",
       "        target=\"_blank\">\n",
       "    https://www.nbinteract.com/tutorial/tutorial_publishing.html\n",
       "</a>\n"
      ],
      "text/plain": [
       "<IPython.core.display.Markdown object>"
      ]
     },
     "metadata": {},
     "output_type": "display_data"
    }
   ],
   "source": [
    "#HIDDEN\n",
    "import nbinteract as nbi\n",
    "\n",
    "nbi.publish(\"skdooley/GLBRC/master\", \"GLBRC_Report2.ipynb\")"
   ]
  },
  {
   "cell_type": "markdown",
   "metadata": {},
   "source": [
    "<h2 id=\"magsReport\">MAGs Report</h2>"
   ]
  },
  {
   "cell_type": "code",
   "execution_count": null,
   "metadata": {},
   "outputs": [],
   "source": [
    "\n",
    "\n",
    "\n",
    "\n",
    "\n",
    "\n",
    "\n",
    "\n",
    "\n",
    "\n",
    "\n",
    "\n",
    "\n",
    "\n",
    "\n",
    "\n",
    "\n",
    "\n",
    "\n",
    "\n",
    "\n",
    "\n",
    "\n",
    "\n",
    "\n",
    "\n",
    "\n",
    "\n",
    "\n",
    "\n",
    "\n",
    "\n",
    "\n",
    "\n",
    "\n",
    "\n"
   ]
  },
  {
   "cell_type": "markdown",
   "metadata": {},
   "source": [
    "<!-- ### Remove Human Disease Pathway related rows\n",
    "\n",
    "# allSampleCounts = allSampleCounts[allSampleCounts.Level1 != \"Human Diseases\"]\n",
    "# allSampleCounts.shape\n",
    "\n",
    "### Normalize by total reads and log transform\n",
    "\n",
    "# from numpy import log, nan\n",
    "# for sample in metadataG.index:\n",
    "#     allSampleCounts[sample]= -log(allSampleCounts[sample].replace(0, nan)/metadataG.loc[sample,\"total_reads\"])\n",
    "# for sample in metadataG.index: allSampleCounts[sample]= allSampleCounts[sample].replace(nan, 0)\n",
    "# allSampleCounts.head()\n",
    "\n",
    "# for level in [\"Level1\",\"Level2\",\"Level3\"]:\n",
    "#     outfile = \"annotations/%s_CountTable_logged2.tsv\" % (level)\n",
    "#     levelDF = allSampleCounts.groupby([level]).sum()\n",
    "#     levelDF.to_csv(outfile,sep='\\t')\n",
    "\n",
    "# colors = [\"#74C476\", \"#f26d07\",\"#794955\"]\n",
    "# G5_metadata = metadataG[metadataG.type == \"G5\"]\n",
    "# G6_metadata = metadataG[metadataG.type == \"G6\"]\n",
    "\n",
    "# ax = G5_metadata.loc[:,['Plant Reads','Fungal Reads', 'Remaining']].plot.bar(stacked=True, color=colors, figsize=(14,7))\n",
    "# ax.set_ylabel(\"Read Count\",fontsize=12)\n",
    "# ax.set_ylim(0,16000000)\n",
    "\n",
    "# fig = ax.get_figure()\n",
    "# fig.savefig('images/MiscanthusBarCombined.png')\n",
    "# ax = G6_metadata.loc[:,['Plant Reads','Fungal Reads', 'Remaining']].plot.bar(stacked=True, color=colors, figsize=(14,7))\n",
    "# ax.set_ylabel(\"Read Count (Millions)\",fontsize=12)\n",
    "# fig = ax.get_figure()\n",
    "# fig.savefig('images/SwitchgrassBarCombined.png')\n",
    "\n",
    "# metaG_Reads = read_csv(\"mapping/metaG/fullAssembly/multiqc_data/multiqc_bowtie2.txt\",sep=\"\\t\")\n",
    "# for id in metaG_Reads.index: metaG_Reads.at[id,\"Sample\"] = metaG_Reads.at[id,\"Sample\"].replace(\".fungal.stat\",\"\")\n",
    "# metaG_Reads.set_index(\"Sample\",inplace=True)\n",
    "\n",
    "# metadataG = merge(metadataG,metaG_Reads,left_index=True,right_index=True)\n",
    "# metadataG.sort_values(\"Date\",inplace=True)\n",
    "\n",
    "# metadataG = metadataG[metadataG['type']==\"G5\"] # SWITCHGRASS Only\n",
    "\n",
    "# metadataG[\"total_reads\"].plot(kind='bar',ax=plt.subplot(121),figsize=(30,10),title=\"SG MetaG after host removal\",color='orange')\n",
    "# metadataT[\"total_reads\"].plot(kind='bar',ax=plt.subplot(122),figsize=(30,10),title=\"SG MetaT after host removal\")\n",
    "# plt.show()\n",
    "\n",
    "#HIDDEN\n",
    "\n",
    "dataStr = \"\"\"G5R2_MAIN_09MAY2016_LD1,G5R2_MAIN,G5,2016-05-09,43.02,2444885.5,5682372,230.5,0.01,3101297.5,54.57751622033897\n",
    "G5R4_NF_09MAY2016_LD1,G5R4_NF,G5,2016-05-09,79.73,4575140.5,5737475,245.0,0.03,938323.0,16.354284768125353\n",
    "G5R1_NF_09MAY2016_LD1,G5R1_NF,G5,2016-05-09,37.16,2034146.5,5473795,487.0,0.01,3333201.0,60.89378575558639\n",
    "G5R2_NF_09MAY2016_LD1,G5R2_NF,G5,2016-05-09,61.07,4093313.5,6700488,383.5,0.02,2401160.5,35.83560630210815\n",
    "G5R4_MAIN_09MAY2016_LD1,G5R4_MAIN,G5,2016-05-09,85.16,4535606.0,5324879,283.5,0.05,569866.5,10.701961490580349\n",
    "G5R1_MAIN_09MAY2016_LD1,G5R1_MAIN,G5,2016-05-09,73.46,5016843.5,6828883,240.0,0.02,1572579.0,23.028348852952966\n",
    "G5R3_NF_09MAY2016_LD1,G5R3_NF,G5,2016-05-09,80.7,5001844.0,6196018,199.5,0.02,949029.5,15.316764735028206\n",
    "G6R1_MAIN_09MAY2016_LD1,G6R1_MAIN,G6,2016-05-09,85.88,5766456.0,6713739,39.0,0.01,559512.0,8.33383603384046\n",
    "G5R3_MAIN_09MAY2016_LD1,G5R3_MAIN,G5,2016-05-09,84.41,4590265.0,5436507,272.5,0.04,625518.5,11.505889719262754\n",
    "G6R3_MAIN_09MAY2016_LD1,G6R3_MAIN,G6,2016-05-09,86.34,6169902.0,7145090,63.0,0.01,564880.0,7.905848631717725\n",
    "G6R1_NF_09MAY2016_LD1,G6R1_NF,G6,2016-05-09,86.57,6516872.5,7527497,52.5,0.01,571074.5,7.586512488812683\n",
    "G6R2_MAIN_09MAY2016_LD1,G6R2_MAIN,G6,2016-05-09,86.06,5759999.0,6692593,115.5,0.02,549879.5,8.216239953632321\n",
    "G6R4_NF_09MAY2016_LD1,G6R4_NF,G6,2016-05-09,86.98,5748471.0,6607949,88.5,0.02,480675.5,7.274201117472305\n",
    "G6R2_NF_09MAY2016_LD1,G6R2_NF,G6,2016-05-09,86.22,11483052.5,13316083,228.5,0.02,1075775.5,8.078768358533061\n",
    "G6R4_MAIN_09MAY2016_LD1,G6R4_MAIN,G6,2016-05-09,86.36,10680511.5,12361687,570.5,0.06,985639.5,7.973341340870384\n",
    "G6R3_NF_09MAY2016_LD1,G6R3_NF,G6,2016-05-09,86.58,5920682.5,6837832,62.5,0.01,523727.5,7.65926246798693\n",
    "G6R1_MAIN_31MAY2016_LD1,G6R1_MAIN,G6,2016-05-31,86.0,4589765.0,5336461,204.0,0.05,447497.0,8.385651089739062\n",
    "G5R1_MAIN_31MAY2016_LD1,G5R1_MAIN,G5,2016-05-31,87.81,5542677.0,6310890,394.5,0.08,491297.5,7.784916232100385\n",
    "G5R4_MAIN_31MAY2016_LD1,G5R4_MAIN,G5,2016-05-31,88.47,5921339.0,6691560,427.5,0.09,475789.5,7.1102926671807465\n",
    "G5R4_NF_31MAY2016_LD1,G5R4_NF,G5,2016-05-31,87.97,5218316.5,5931777,626.5,0.14,456660.5,7.698544635106816\n",
    "G5R2_MAIN_31MAY2016_LD1,G5R2_MAIN,G5,2016-05-31,88.29,10553216.5,11950005,619.0,0.07,879644.0,7.36103457697298\n",
    "G5R1_NF_31MAY2016_LD1,G5R1_NF,G5,2016-05-31,87.65,6821004.0,7776723,938.0,0.16,601802.0,7.738503737371126\n",
    "G5R2_NF_31MAY2016_LD1,G5R2_NF,G5,2016-05-31,88.12,8249743.5,9358299,439.0,0.06,674956.0,7.212379087267889\n",
    "G5R3_NF_31MAY2016_LD1,G5R3_NF,G5,2016-05-31,87.5,5036978.0,5755740,714.0,0.15,474196.0,8.238662622008638\n",
    "G6R2_NF_31MAY2016_LD1,G6R2_NF,G6,2016-05-31,86.3,6707432.0,7771064,210.0,0.03,628542.0,8.088236051073572\n",
    "G6R3_MAIN_31MAY2016_LD1,G6R3_MAIN,G6,2016-05-31,85.16,5393305.5,6331750,557.0,0.09,589557.0,9.311122517471473\n",
    "G6R1_NF_31MAY2016_LD1,G6R1_NF,G6,2016-05-31,85.65,5390104.5,6292542,689.5,0.13,545324.5,8.66620357877627\n",
    "G6R4_MAIN_31MAY2016_LD1,G6R4_MAIN,G6,2016-05-31,84.24,5567014.5,6607123,572.0,0.08,676111.0,10.233062105851518\n",
    "G6R2_MAIN_31MAY2016_LD1,G6R2_MAIN,G6,2016-05-31,85.91,5781888.5,6729977,440.5,0.07,603103.5,8.961449645370259\n",
    "G6R4_NF_31MAY2016_LD1,G6R4_NF,G6,2016-05-31,85.77,6503491.5,7581116,545.5,0.08,699856.5,9.231576195378095\n",
    "G5R3_MAIN_31MAY2016_LD1,G5R3_MAIN,G5,2016-05-31,88.3,5812968.5,6582349,242.0,0.05,471430.0,7.162032885220762\n",
    "G6R3_NF_31MAY2016_LD1,G6R3_NF,G6,2016-05-31,85.55,4907993.0,5736908,393.5,0.08,502712.5,8.762777789011084\n",
    "G6R3_NF_20JUN2016_LD1,G6R3_NF,G6,2016-06-20,84.6,5671552.0,6703466,2010.5,0.31,646680.5,9.64695726061712\n",
    "G6R3_MAIN_20JUN2016_LD1,G6R3_MAIN,G6,2016-06-20,85.86,6135909.0,7145612,849.0,0.14,592992.0,8.298687362258123\n",
    "G6R4_NF_20JUN2016_LD1,G6R4_NF,G6,2016-06-20,83.87,10446119.5,12452913,2776.5,0.19,1446949.5,11.619365685763643\n",
    "G6R2_MAIN_20JUN2016_LD1,G6R2_MAIN,G6,2016-06-20,85.41,11384326.0,13325217,3304.0,0.28,1180202.0,8.856906420360735\n",
    "G6R4_MAIN_20JUN2016_LD1,G6R4_MAIN,G6,2016-06-20,81.91,5485149.0,6695207,1731.5,0.2,851777.5,12.722198133679811\n",
    "G6R2_NF_20JUN2016_LD1,G6R2_NF,G6,2016-06-20,85.47,5712932.0,6682956,2443.0,0.41,593585.0,8.882072543946123\n",
    "G6R1_MAIN_20JUN2016_LD1,G6R1_MAIN,G6,2016-06-20,86.14,5177962.0,6010405,647.5,0.13,482787.5,8.032528590003503\n",
    "G5R4_NF_20JUN2016_LD1,G5R4_NF,G5,2016-06-20,87.94,6100780.5,6936916,2196.0,0.41,537134.0,7.7431238896362595\n",
    "G5R4_MAIN_20JUN2016_LD1,G5R4_MAIN,G5,2016-06-20,86.83,6715795.5,7732527,5536.0,0.81,680666.0,8.802633343536984\n",
    "G5R3_NF_20JUN2016_LD1,G5R3_NF,G5,2016-06-20,81.38,5141417.0,6317596,1620.0,0.18,911401.0,14.426389405083833\n",
    "G5R1_MAIN_20JUN2016_LD1,G5R1_MAIN,G5,2016-06-20,77.82,5013160.5,6441413,2211.5,0.19,1180776.5,18.33101681261549\n",
    "G5R3_MAIN_20JUN2016_LD1,G5R3_MAIN,G5,2016-06-20,88.48,5700839.5,6442699,994.5,0.22,456179.5,7.080565148239891\n",
    "G5R2_NF_20JUN2016_LD1,G5R2_NF,G5,2016-06-20,87.78,5487295.0,6249934,3378.0,0.68,493303.0,7.89293134935505\n",
    "G5R2_MAIN_20JUN2016_LD1,G5R2_MAIN,G5,2016-06-20,88.04,5589304.5,6347927,2927.5,0.6,482960.5,7.608160900401028\n",
    "G6R1_NF_20JUN2016_LD1,G6R1_NF,G6,2016-06-20,85.51,6103073.5,7136929,1316.0,0.21,616980.0,8.644894743943789\n",
    "G5R1_NF_20JUN2016_LD1,G5R1_NF,G5,2016-06-20,86.61,5298116.5,6116500,3308.0,0.6,552031.0,9.025275893076106\n",
    "G5R4_NF_12JUL2016_LD1,G5R4_NF,G5,2016-07-12,84.76,5476482.0,6460341,9528.5,1.35,695774.5,10.769934590140057\n",
    "G5R2_NF_12JUL2016_LD1,G5R2_NF,G5,2016-07-12,87.96,5869056.5,6671812,4146.0,0.8,513375.0,7.694686241159074\n",
    "G5R2_MAIN_12JUL2016_LD1,G5R2_MAIN,G5,2016-07-12,88.65,5987816.0,6753075,6761.5,1.44,464321.5,6.875704771530007\n",
    "G5R1_MAIN_12JUL2016_LD1,G5R1_MAIN,G5,2016-07-12,88.09,8850117.0,10042351,8072.0,1.11,721231.0,7.18189396088625\n",
    "G5R4_MAIN_12JUL2016_LD1,G5R4_MAIN,G5,2016-07-12,86.08,6006044.5,6976158,27967.0,4.09,655552.0,9.397034872203296\n",
    "G5R3_NF_12JUL2016_LD1,G5R3_NF,G5,2016-07-12,87.92,5650799.0,6426349,3666.5,0.74,489209.5,7.6125573011985495\n",
    "G5R1_NF_12JUL2016_LD1,G5R1_NF,G5,2016-07-12,87.65,5863094.0,6688179,15945.5,2.99,517994.5,7.744925786226714\n",
    "G6R2_NF_12JUL2016_LD1,G6R2_NF,G6,2016-07-12,85.86,15344005.5,17866546,4512.5,0.3,1492239.5,8.352143161862399\n",
    "G6R4_NF_12JUL2016_LD1,G6R4_NF,G6,2016-07-12,85.0,11963642.5,14071595,10343.0,0.8,1286317.0,9.141230969197165\n",
    "G6R4_MAIN_12JUL2016_LD1,G6R4_MAIN,G6,2016-07-12,85.15,5534405.0,6499072,4525.5,0.76,588370.5,9.053146356895262\n",
    "G6R1_NF_12JUL2016_LD1,G6R1_NF,G6,2016-07-12,85.63,5643997.5,6590819,2754.0,0.49,559495.0,8.48900569109848\n",
    "G6R1_MAIN_12JUL2016_LD1,G6R1_MAIN,G6,2016-07-12,83.61,4497926.5,5378728,2752.0,0.49,562593.0,10.459591933260057\n",
    "G6R3_MAIN_12JUL2016_LD1,G6R3_MAIN,G6,2016-07-12,86.07,5089800.0,5912717,2432.0,0.51,475522.0,8.042360221197802\n",
    "G6R3_NF_12JUL2016_LD1,G6R3_NF,G6,2016-07-12,84.78,4832968.0,5700114,4311.0,0.8,533441.0,9.358426866550388\n",
    "G5R3_MAIN_12JUL2016_LD1,G5R3_MAIN,G5,2016-07-12,88.14,5450573.0,6182923,4988.5,1.07,461855.5,7.46985689454648\n",
    "G6R2_MAIN_12JUL2016_LD1,G6R2_MAIN,G6,2016-07-12,85.62,10251109.0,11970111,2263.0,0.22,1018829.0,8.511441539681629\n",
    "G6R1_MAIN_01AUG2016_LD1,G6R1_MAIN,G6,2016-08-01,82.98,4695413.5,5657378,10126.5,1.59,627861.5,11.098100568850093\n",
    "G5R3_NF_01AUG2016_LD1,G5R3_NF,G5,2016-08-01,82.23,4856813.5,5905510,24475.5,3.06,775344.5,13.12917089294574\n",
    "G5R4_NF_01AUG2016_LD1,G5R4_NF,G5,2016-08-01,84.25,11083140.5,13151939,105331.5,6.98,1403094.5,10.668347077947974\n",
    "G5R2_MAIN_01AUG2016_LD1,G5R2_MAIN,G5,2016-08-01,78.43,10000184.5,12746203,205100.5,9.13,2041289.5,16.01488302045715\n",
    "G6R4_NF_01AUG2016_LD1,G6R4_NF,G6,2016-08-01,81.26,10655178.0,13108055,21298.5,1.23,1704468.5,13.003214435703846\n",
    "G6R2_NF_01AUG2016_LD1,G6R2_NF,G6,2016-08-01,83.35,5351872.5,6419666,3630.5,0.52,701156.5,10.922009026637834\n",
    "G6R2_MAIN_01AUG2016_LD1,G6R2_MAIN,G6,2016-08-01,82.29,5006352.5,6082749,8431.5,1.15,723326.5,11.89144086004535\n",
    "G6R4_MAIN_01AUG2016_LD1,G6R4_MAIN,G6,2016-08-01,80.62,4765084.5,5908281,6744.0,0.83,809106.0,13.694440057945789\n",
    "G5R1_MAIN_01AUG2016_LD1,G5R1_MAIN,G5,2016-08-01,82.4,4881644.5,5924069,65453.5,8.16,736542.5,12.433050661631388\n",
    "G6R3_MAIN_01AUG2016_LD1,G6R3_MAIN,G6,2016-08-01,84.67,4607519.5,5440967,3466.5,0.67,510451.5,9.381631978286213\n",
    "G5R2_NF_01AUG2016_LD1,G5R2_NF,G5,2016-08-01,84.58,13356404.5,15787307,140160.0,7.88,1639224.0,10.383176814133025\n",
    "G5R4_MAIN_01AUG2016_LD1,G5R4_MAIN,G5,2016-08-01,80.67,5088918.0,6306715,71330.0,7.39,893281.0,14.163966502370887\n",
    "G5R1_NF_01AUG2016_LD1,G5R1_NF,G5,2016-08-01,82.15,5200676.5,6329412,57607.5,6.64,809665.5,12.792112442672398\n",
    "G6R1_NF_01AUG2016_LD1,G6R1_NF,G6,2016-08-01,84.32,4999734.5,5928912,5400.5,0.93,577330.5,9.737545438353614\n",
    "G5R3_MAIN_01AUG2016_LD1,G5R3_MAIN,G5,2016-08-01,81.65,4948744.5,6060102,47449.0,5.51,814192.0,13.435285412687772\n",
    "G6R3_NF_01AUG2016_LD1,G6R3_NF,G6,2016-08-01,77.96,4453617.0,5711239,7273.0,0.77,939309.0,16.44667645671981\n",
    "G5R3_MAIN_22AUG2016_LD1,G5R3_MAIN,G5,2016-08-22,52.0,2735946.5,5255407,147876.0,6.21,2234480.0,42.5177345922019\n",
    "G5R1_NF_22AUG2016_LD1,G5R1_NF,G5,2016-08-22,75.96,4626496.0,6088961,76749.0,6.23,1155024.0,18.96914760991243\n",
    "G5R2_NF_22AUG2016_LD1,G5R2_NF,G5,2016-08-22,79.02,3729827.0,4718274,47488.5,5.86,763407.5,16.179804309796335\n",
    "G5R4_NF_22AUG2016_LD1,G5R4_NF,G5,2016-08-22,78.15,9359890.0,11972027,163507.0,7.59,1990638.0,16.62740987804321\n",
    "G5R2_MAIN_22AUG2016_LD1,G5R2_MAIN,G5,2016-08-22,69.45,9572001.5,13770800,326894.0,8.78,3395956.0,24.66055712086444\n",
    "G6R1_MAIN_22AUG2016_LD1,G6R1_MAIN,G6,2016-08-22,80.3,4487068.5,5586492,7945.0,1.01,776060.0,13.891723106378745\n",
    "G6R3_MAIN_22AUG2016_LD1,G6R3_MAIN,G6,2016-08-22,79.46,3760759.0,4730626,4235.0,0.59,712830.0,15.068407436986142\n",
    "G5R1_MAIN_22AUG2016_LD1,G5R1_MAIN,G5,2016-08-22,73.38,7126087.5,9695253,147605.0,6.71,2051174.0,21.156477298735783\n",
    "G6R3_NF_22AUG2016_LD1,G6R3_NF,G6,2016-08-22,79.41,7336045.0,9235360,11875.0,0.83,1411208.0,15.280487171046934\n",
    "G6R1_NF_22AUG2016_LD1,G6R1_NF,G6,2016-08-22,81.46,7315217.5,8977689,8550.0,0.72,1184033.0,13.188616803277547\n",
    "G6R2_NF_22AUG2016_LD1,G6R2_NF,G6,2016-08-22,80.98,7858611.0,9700669,9664.0,0.72,1332356.0,13.734681597733106\n",
    "G6R2_MAIN_22AUG2016_LD1,G6R2_MAIN,G6,2016-08-22,79.22,8667328.5,10933944,17419.0,1.04,1662195.0,15.202153952864583\n",
    "G6R4_MAIN_22AUG2016_LD1,G6R4_MAIN,G6,2016-08-22,78.0,9370495.5,12007829,15616.0,0.78,1987906.0,16.555082521578214\n",
    "G5R3_NF_22AUG2016_LD1,G5R3_NF,G5,2016-08-22,60.95,3610024.5,5920203,188165.5,8.84,1940423.5,32.77630006944018\n",
    "G5R4_MAIN_22AUG2016_LD1,G5R4_MAIN,G5,2016-08-22,62.04,3661130.5,5898471,193594.0,9.39,1867030.0,31.65277916938135\n",
    "G6R4_NF_22AUG2016_LD1,G6R4_NF,G6,2016-08-22,80.3,8217143.0,10229978,10435.0,0.71,1465380.0,14.324370981051961\n",
    "G5R2_NF_12SEP2016_LD1,G5R2_NF,G5,2016-09-12,57.81,5163234.0,8925694,110375.5,3.14,3405613.5,38.155167542154146\n",
    "G5R2_MAIN_12SEP2016_LD1,G5R2_MAIN,G5,2016-09-12,65.95,6260428.0,9486264,166688.0,5.71,2754756.0,29.03941952279633\n",
    "G5R1_MAIN_12SEP2016_LD1,G5R1_MAIN,G5,2016-09-12,42.27,3368118.5,7957864,248828.5,5.62,4178289.5,52.5051634458694\n",
    "G5R4_NF_12SEP2016_LD1,G5R4_NF,G5,2016-09-12,52.3,3952036.0,7547720,178799.0,5.26,3220462.0,42.668011001997954\n",
    "G5R1_NF_12SEP2016_LD1,G5R1_NF,G5,2016-09-12,61.53,5621047.5,9128071,197461.5,6.1,3041559.5,33.32094480860195\n",
    "G6R2_MAIN_12SEP2016_LD1,G6R2_MAIN,G6,2016-09-12,78.51,7481589.5,9526453,14193.0,0.92,1534811.0,16.11104363817257\n",
    "G5R3_MAIN_12SEP2016_LD1,G5R3_MAIN,G5,2016-09-12,55.23,4388447.0,7938601,161060.0,4.8,3191794.0,40.20600103217179\n",
    "G5R3_NF_12SEP2016_LD1,G5R3_NF,G5,2016-09-12,47.96,3916354.5,8156444,102477.5,2.53,3944008.5,48.3545096367976\n",
    "G6R2_NF_12SEP2016_LD1,G6R2_NF,G6,2016-09-12,80.18,7916339.0,9870656,15662.5,1.09,1416937.5,14.35504894507518\n",
    "G6R1_MAIN_12SEP2016_LD1,G6R1_MAIN,G6,2016-09-12,77.05,6288105.5,8157259,7489.5,0.52,1445479.5,17.72016188280892\n",
    "G6R3_NF_12SEP2016_LD1,G6R3_NF,G6,2016-09-12,79.43,6106488.5,7685321,10643.0,0.92,1148741.0,14.94720910161072\n",
    "G6R4_MAIN_12SEP2016_LD1,G6R4_MAIN,G6,2016-09-12,69.66,6753666.0,9689783,17239.0,0.7,2434399.0,25.123359315683334\n",
    "G6R3_MAIN_12SEP2016_LD1,G6R3_MAIN,G6,2016-09-12,73.95,5500075.5,7433032,19400.0,1.23,1554624.0,20.915072072876857\n",
    "G6R1_NF_12SEP2016_LD1,G6R1_NF,G6,2016-09-12,72.38,6529576.0,9016718,14827.0,0.71,2073333.0,22.9943201062737\n",
    "G6R4_NF_12SEP2016_LD1,G6R4_NF,G6,2016-09-12,79.05,7784763.0,9844371,14631.0,0.93,1554474.0,15.790485750689404\n",
    "G5R4_MAIN_12SEP2016_LD1,G5R4_MAIN,G5,2016-09-12,35.27,2683194.5,7595791,150212.5,3.14,4630635.5,60.96317684359667\n",
    "G5R1_MAIN_03OCT2016_LD1,G5R1_MAIN,G5,2016-10-03,19.82,1693715.0,8528146,79877.0,1.18,6673938.0,78.25778311018597\n",
    "G5R2_NF_03OCT2016_LD1,G5R2_NF,G5,2016-10-03,29.27,2608174.0,8899698,76623.0,1.24,6085159.0,68.3748931705323\n",
    "G5R2_MAIN_03OCT2016_LD1,G5R2_MAIN,G5,2016-10-03,23.52,2090804.0,8873165,84764.0,1.27,6589822.0,74.26687095303649\n",
    "G5R4_MAIN_03OCT2016_LD1,G5R4_MAIN,G5,2016-10-03,24.99,2891414.5,11550331,81760.5,0.96,8431181.5,72.99515052858658\n",
    "G5R3_MAIN_03OCT2016_LD1,G5R3_MAIN,G5,2016-10-03,16.95,1343183.5,7906366,59621.5,0.92,6434206.5,81.38007398089084\n",
    "G5R1_NF_03OCT2016_LD1,G5R1_NF,G5,2016-10-03,32.84,2786797.5,8471997,80805.0,1.46,5468798.0,64.55146289593823\n",
    "G5R3_NF_03OCT2016_LD1,G5R3_NF,G5,2016-10-03,55.85,5278523.5,9441689,50607.5,1.29,3857580.5,40.85689011785921\n",
    "G5R4_NF_03OCT2016_LD1,G5R4_NF,G5,2016-10-03,10.73,842740.5,7838486,87026.0,1.25,6865762.0,87.59040967860375\n",
    "G6R3_NF_03OCT2016_LD1,G6R3_NF,G6,2016-10-03,82.11,7555021.5,9198716,8543.0,0.76,1117304.0,12.146303897196088\n",
    "G6R4_NF_03OCT2016_LD1,G6R4_NF,G6,2016-10-03,67.6,6157032.5,9101083,23241.5,0.92,2515567.5,27.640309400540573\n",
    "G6R4_MAIN_03OCT2016_LD1,G6R4_MAIN,G6,2016-10-03,72.75,7814311.5,10735815,10646.0,0.44,2383477.0,22.201174293707556\n",
    "G6R3_MAIN_03OCT2016_LD1,G6R3_MAIN,G6,2016-10-03,77.79,5921213.0,7608735,12459.5,0.97,1268258.5,16.668454085994583\n",
    "G6R1_MAIN_03OCT2016_LD1,G6R1_MAIN,G6,2016-10-03,82.58,7837373.5,9488885,3797.5,0.33,1131924.5,11.92895161022607\n",
    "G6R1_NF_03OCT2016_LD1,G6R1_NF,G6,2016-10-03,75.2,6498248.0,8637188,14738.0,0.84,1729924.0,20.02878714692791\n",
    "G6R2_NF_03OCT2016_LD1,G6R2_NF,G6,2016-10-03,75.81,6956577.0,9172480,15094.0,0.85,1769670.0,19.293255477253698\n",
    "G6R2_MAIN_03OCT2016_LD1,G6R2_MAIN,G6,2016-10-03,70.74,6526185.0,9219877,12187.0,0.54,2247638.0,24.378177713216783\n",
    "G6R4_MAIN_07NOV2016_LD1,G6R4_MAIN,G6,2016-11-07,26.19,1990040.0,7583071,32984.0,0.6,5425824.0,71.55180269313053\n",
    "G6R2_NF_07NOV2016_LD1,G6R2_NF,G6,2016-11-07,28.51,2105794.0,7370105,52325.0,1.02,5067900.0,68.76292807225948\n",
    "G6R1_MAIN_07NOV2016_LD1,G6R1_MAIN,G6,2016-11-07,18.58,1286592.0,6905794,43214.0,0.78,5486478.0,79.44746107399091\n",
    "G6R1_NF_07NOV2016_LD1,G6R1_NF,G6,2016-11-07,24.89,1710699.0,6858763,53420.0,1.06,4982370.0,72.642399219801\n",
    "G6R3_MAIN_07NOV2016_LD1,G6R3_MAIN,G6,2016-11-07,51.38,4029039.5,7832562,33285.0,0.94,3519722.0,44.937046141479634\n",
    "G6R2_MAIN_07NOV2016_LD1,G6R2_MAIN,G6,2016-11-07,52.97,4631958.5,8733100,29281.0,0.77,3762898.0,43.08776952055971\n",
    "G6R4_NF_07NOV2016_LD1,G6R4_NF,G6,2016-11-07,30.18,2318829.5,7669227,54941.5,1.06,5137738.5,66.991608150339\n",
    "G6R3_NF_07NOV2016_LD1,G6R3_NF,G6,2016-11-07,41.43,8686844.5,20875176,138953.0,1.2,11428845.0,54.7484964917182\"\"\"\n",
    "\n",
    "header = [\"sample_id\",\"plot_name\",\"type\",\"Date\",\"percPlantAligned\",\"Plant Reads\",\"Total\",\"Fungal Reads\",\"percFungalAligned\",\"Remaining\",\"percRemaining\"]\n",
    "data = []\n",
    "for line in dataStr.split(\"\\n\"):\n",
    "    rec = line.split(\",\")\n",
    "    data.append(rec)\n",
    "\n",
    "metadataG= DataFrame(data,columns=header)\n",
    "metadataG.set_index(\"sample_id\",inplace=True)\n",
    "\n",
    "# Creating links to the raw data files from JGI\n",
    "\n",
    "# from os import listdir, path, system\n",
    "# rawFiles = {}\n",
    "# baseDir = \"/mnt/research/ShadeLab/Sequence/raw_sequence/GLBRC/metagenomes/\"\n",
    "# dirs = listdir(baseDir)\n",
    "# for dirName in dirs:\n",
    "#     rawDir = path.join(baseDir,dirName,\"Raw_Data/\")\n",
    "#     fastq = listdir(rawDir)[0]\n",
    "#     rawFiles[fastq] = path.join(rawDir,fastq)\n",
    "# metaGUnpaired = \"/mnt/research/ShadeLab/GLBRC/mapping/metaG/unpaired/%s.fastq.gz\"\n",
    "    \n",
    "# for readFName,row in metadata.iterrows():\n",
    "#     if readFName not in rawFiles:\n",
    "#         print(\"No fastq for \"+readFileName)\n",
    "#         continue\n",
    "#     system(\"ln -s %s %s\" % (rawFiles[readFName],metaGUnpaired %(row.loc['nucleic_acid_name'])))\n",
    "\n",
    "# fig, ax = plt.subplots(figsize=(8,5))\n",
    "# G5Data = metadataG[metadataG['type'] == 'G5']\n",
    "# G5Data.groupby(['Date','plot_name']).sum()['percFungalAligned'].unstack().plot(ax=ax,title=\"Seasonal Perctages of Reads Aligning to Combined Fungal Assemblies\");\n",
    "# ax.set_ylabel(\"% Reads\",fontsize=14)\n",
    "# ax.set_ylim(0,10)\n",
    "# fig = ax.get_figure()\n",
    "# fig.savefig('images/SwitchgrassFungalAlign.png')\n",
    "\n",
    "<h2><a id=\"analysis\">Sequence Mapping Overview</a></h2>\n",
    "<h4>Host organism reads removal</h4>\n",
    "\n",
    "# hostMapping = read_csv(\"mapping/metaG/fullAssembly/multiqc_data/multiqc_bowtie2.txt\",sep='\\t')\n",
    "# hostMapping.set_index(\"Sample\",inplace=True)\n",
    "# hostMapping['type'] = \"\"\n",
    "# for id in hostMapping.index: hostMapping.at[id,\"type\"] = id[0:2]\n",
    "# hostMapping[\"sample_name\"]=\"\"\n",
    "# for id in hostMapping.index: hostMapping.at[id,\"sample_name\"] = id.replace(\".stat\",\"\")\n",
    "# hostMapping.set_index(\"sample_name\",inplace=True)\n",
    "# hostMapping.head()\n",
    "\n",
    "# SGData = hostMapping[hostMapping['type']=='G5']\n",
    "# MiscanData = hostMapping[hostMapping['type']=='G6']\n",
    "\n",
    "# sgTotal = SGData['total_reads'].sum()\n",
    "# miscanTotatl = MiscanData['total_reads'].sum()\n",
    "\n",
    "# sgBact = SGData['paired_aligned_none'].sum()\n",
    "# miscanBact = MiscanData['paired_aligned_none'].sum()\n",
    "\n",
    "# (sgTotal-sgBact)/sgTotal*100\n",
    "\n",
    "# (miscanTotatl-miscanBact)/miscanTotatl*100\n",
    "\n",
    "# comma(SGData['paired_aligned_none'].sum() +MiscanData['paired_aligned_none'].sum())\n",
    "\n",
    "#### Alignment of non-host related reads to metagenomic assembly\n",
    "\n",
    "# seqMapping = read_csv(\"mapping/metaG/fullAssembly/multiqc_data/multiqc_bowtie2.txt\",sep='\\t')\n",
    "# seqMapping.set_index(\"Sample\",inplace=True)\n",
    "# seqMapping['type'] = \"\"\n",
    "# for id in seqMapping.index: seqMapping.at[id,\"type\"] = id[0:2]\n",
    "# seqMapping[\"sample_name\"]=\"\"\n",
    "# for id in seqMapping.index: seqMapping.at[id,\"sample_name\"] = id.replace(\".stat\",\"\")\n",
    "# seqMapping.set_index(\"sample_name\",inplace=True)\n",
    "# seqMapping.head()\n",
    "\n",
    "SGData = seqMapping[hostMapping['type']=='G5']\n",
    "MiscanData = seqMapping[hostMapping['type']=='G6']\n",
    "\n",
    "sgTotal = SGData['total_reads'].sum()\n",
    "miscanTotatl = MiscanData['total_reads'].sum()\n",
    "\n",
    "sgBact = SGData['paired_aligned_none'].sum()\n",
    "miscanBact = MiscanData['paired_aligned_none'].sum()\n",
    "\n",
    "print('SG %% aligned: %.2f' % ((sgTotal-sgBact)/sgTotal*100),comma(sgTotal))\n",
    "print('Miscanthus %% aligned: %.2f' % ((miscanTotatl-miscanBact)/miscanTotatl*100),comma(miscanTotatl))\n",
    "print(comma(SGData['paired_aligned_none'].sum() +MiscanData['paired_aligned_none'].sum()))\n",
    "\n",
    "#MetaG\n",
    "# metaG = read_csv(\"mapping/metaG/annotatedContigs/logs/multiqc_data/mqc_trimmomatic_plot_1.txt\",sep=\"\\t\")\n",
    "# metaG.set_index('Sample',inplace=True)\n",
    "# print(comma(metaG['Surviving Reads'].sum()))\n",
    "\n",
    "# metaT = read_csv(\"mapping/metaT/fullAssembly/logs/multiqc_data/multiqc_trimmomatic.txt\",sep=\"\\t\")\n",
    "# metaT.set_index('Sample',inplace=True)\n",
    "# print(comma(metaT['surviving'].sum())\n",
    "\n",
    "# metaT['Base'],metaG['Base'] = '',''\n",
    "\n",
    "# for sampleID in metaG.index:\n",
    "#     metaG.at[sampleID,'Base'] = sampleID[:sampleID.rfind('_')]\n",
    "# for sampleID in metaT.index:\n",
    "#     metaT.at[sampleID,'Base'] = sampleID[:sampleID.rfind('_')]\n",
    "\n",
    "# metaT.set_index(\"Base\",inplace=True)\n",
    "# metaG.set_index(\"Base\",inplace=True)\n",
    "\n",
    "# comma(metaT['surviving'].sum()-metaG['Surviving Reads'].sum())\n",
    "\n",
    "# for sampleID in ids.intersection(ids2):\n",
    "#     print(sampleID,'\\t',comma(int(metaT.at[sampleID,'surviving'])),'\\t',comma(int(metaG.at[sampleID,'Surviving Reads'])))\n",
    "\n",
    "data = read_csv(\"mapping/metaG/annotatedContigs/logs/multiqc_data/mqc_bowtie2_pe_plot_1.txt\",sep=\"\\t\")\n",
    "data[\"TotalSampleReads\"] = data.sum(axis=1)\n",
    "#data[[\"PE mapped uniquely\",\"PE mapped discordantly uniquely\",\"PE multimapped\"]]/data[\"TotalSampleReads\"] \n",
    "print(\"(%i, %i)\" % (data.shape, metadata.shape))\n",
    "data.head()\n",
    "\n",
    "# Microbe Census (single copy gene counts)\n",
    "\n",
    "from os import listdir\n",
    "scc_path=\"mapping/metaG/fullAssembly/singleCopyGeneCounts/\"\n",
    "files = listdir(scc_path)\n",
    "metadata[\"genome_equivalents\"] = 0.0\n",
    "metadata[\"average_genome_size\"] = 0.0\n",
    "metadata[\"total_reads\"] = 0\n",
    "\n",
    "for fname in files:\n",
    "    sampleID = fname.replace(\".txt\",\"\")\n",
    "    metadata.at[sampleID,\"total_reads\"] = seqMapping.at[sampleID,\"total_reads\"]\n",
    "    for line in open(scc_path+fname):\n",
    "        if \"average_genome_size\" in line:\n",
    "#             print(line.strip().split(\"\\t\"))\n",
    "            ags = float(line.strip().split(\"\\t\")[1])\n",
    "            metadata.at[sampleID,\"average_genome_size\"] = ags\n",
    "        elif \"genome_equivalents\" in line: \n",
    "            ge = float(line.strip().split(\"\\t\")[1])\n",
    "            metadata.at[sampleID,\"genome_equivalents\"] = ge\n",
    "            \n",
    "            \n",
    "metadata.head(20)\n",
    "\n",
    "df = metadata.groupby(['Date']).mean()\n",
    "df[\"average_genome_size\"]=df[\"average_genome_size\"]/1000000.0\n",
    "df[\"total_reads\"]=df[\"total_reads\"]/25000.0\n",
    "df.reset_index().plot(x=\"Date\", y=[\"genome_equivalents\", \"average_genome_size\",\"total_reads\"], kind=\"bar\",figsize=(15,8));\n",
    "\n",
    "\n",
    "\n",
    "### For MetaT\n",
    "\n",
    "seqMapping = read_csv(\"mapping/metaT/fullAssembly/multiqc_data/multiqc_bowtie2.txt\",sep='\\t')\n",
    "seqMapping.set_index(\"Sample\",inplace=True)\n",
    "seqMapping['type'] = \"\"\n",
    "for id in seqMapping.index: seqMapping.at[id,\"type\"] = id[0:2]\n",
    "seqMapping[\"sample_name\"]=\"\"\n",
    "for id in seqMapping.index: seqMapping.at[id,\"sample_name\"] = id.replace(\".stat\",\"\")\n",
    "seqMapping.set_index(\"sample_name\",inplace=True)\n",
    "seqMapping.head()\n",
    "\n",
    "from os import listdir\n",
    "scc_path=\"mapping/metaT/fullAssembly/singleCopyGeneCounts/\"\n",
    "files = listdir(scc_path)\n",
    "metadata[\"genome_equivalents\"] = 0.0\n",
    "metadata[\"average_genome_size\"] = 0.0\n",
    "metadata[\"total_reads\"] = 0\n",
    "\n",
    "for fname in files:\n",
    "    sampleID = fname.replace(\".txt\",\"\")\n",
    "    if sampleID not in seqMapping.index:\n",
    "        print(\"Missing:\",sampleID,fname)\n",
    "        continue\n",
    "    metadata.at[sampleID,\"total_reads\"] = seqMapping.at[sampleID,\"total_reads\"]\n",
    "    for line in open(scc_path+fname):\n",
    "        if \"average_genome_size\" in line:\n",
    "#             print(line.strip().split(\"\\t\"))\n",
    "            ags = float(line.strip().split(\"\\t\")[1])\n",
    "            metadata.at[sampleID,\"average_genome_size\"] = ags\n",
    "        elif \"genome_equivalents\" in line: \n",
    "            ge = float(line.strip().split(\"\\t\")[1])\n",
    "            metadata.at[sampleID,\"genome_equivalents\"] = ge\n",
    "\n",
    "metadata.head()\n",
    "\n",
    "df = metadata.groupby(['Date']).mean()\n",
    "df.sort_values(by=[\"month\"],inplace=True)\n",
    "df[\"average_genome_size\"]=df[\"average_genome_size\"]/10000.0\n",
    "df[\"total_reads\"]=df[\"total_reads\"]/25000.0\n",
    "df.reset_index().plot(x=\"Date\", y=[\"genome_equivalents\", \"average_genome_size\",\"total_reads\"], kind=\"bar\",figsize=(15,8));\n",
    "\n",
    "df=metadataG\n",
    "\n",
    "import cufflinks as cf\n",
    "\n",
    "@interact\n",
    "def scatter_plot(x=list(df.select_dtypes('number').columns), \n",
    "                 y=list(df.select_dtypes('number').columns)[1:],\n",
    "                 theme=list(cf.themes.THEMES.keys()), \n",
    "                 colorscale=list(cf.colors._scales_names.keys())):\n",
    "    print(x.title())\n",
    "    print(y.title())\n",
    "    return df.iplot(kind='scatter', x=x, y=y, mode='markers', \n",
    "             xTitle=x.title(), yTitle=y.title(), \n",
    "#              text='This is the title',\n",
    "             #title=f'{y.title()} vs {x.title()}',\n",
    "            theme=theme, colorscale=colorscale)\n",
    "\n",
    "# KEGG Annotations\n",
    "\n",
    "annotations = read_csv(\"annotations/MetagenomicAssemblyAnnotations.txt\",sep='\\t')\n",
    "#annotations = read_csv(\"annotations/Test.txt\",sep='\\t')\n",
    "\n",
    "annotations = annotations.sort_values('evalue',ascending = True).groupby('qseqid').head(1)\n",
    "annotations.set_index(\"qseqid\",inplace=True)\n",
    "print(annotations.shape[0])\n",
    "prin(annotations=annotations[annotations[\"evalue\"]<=1.0e-5])\n",
    "print(annotations.shape[0])\n",
    "annotations.to_csv(\"annotations/MetagenomicAssemblyAnnotations_tophit.tsv\",sep='\\t')\n",
    "annotations[annotations.index=='k127_13265132']\n",
    "\n",
    "annotations = read_csv(\"annotations/MetagenomicAssemblyAnnotations_tophit.tsv\",sep='\\t')\n",
    "annotations.set_index(\"qseqid\",inplace=True)\n",
    "annotations.sort_values(\"sseqid\",inplace=True)\n",
    "annotations.head()\n",
    "\n",
    "ko_map = read_csv(\"annotations/ko/prokaryotes.dat\",sep='\\t')\n",
    "# ko_map.set_index(\"GENE\")\n",
    "print(ko_map.shape)\n",
    "ko_map.head()\n",
    "\n",
    "len(ko_map.GENE.unique()),ko_map.shape\n",
    "\n",
    "ko_map[ko_map[\"GENE\"]==\"\"]\n",
    "\n",
    "from pandas import merge\n",
    "\n",
    "annotations.shape,genesW_KO.shape\n",
    "\n",
    "len(annotations.sseqid.unique())\n",
    "\n",
    "done\n",
    "\n",
    "genesW_KO = set(annotations.sseqid.unique()).intersection(ko_map.GENE)\n",
    "len(genesW_KO)\n",
    "\n",
    "genesW_KO = merge(annotations, ko_map, how='inner',left_on=\"sseqid\",right_on=\"GENE\")\n",
    "genesW_KO.tail()\n",
    "\n",
    "done\n",
    "\n",
    "annotation_hierarchy = read_csv(\"annotations/KeggAnnotationTable_filtered.tsv\",sep='\\t')\n",
    "annotation_hierarchy[\"EC#\"] = \"\"\n",
    "for i in annotation_hierarchy.index:\n",
    "    function = annotation_hierarchy.at[i,'function']\n",
    "    ecNumIndex = function.rfind(\" [EC\")\n",
    "    if ecNumIndex != -1:\n",
    "        annotation_hierarchy.at[i,'EC#'] = function[ecNumIndex+2:-1]\n",
    "        annotation_hierarchy.at[i,'function'] = function[:ecNumIndex]\n",
    "annotation_hierarchy.head(5)\n",
    "\n",
    "len(annotation_hierarchy.level3.unique())\n",
    "\n",
    "for function in annotation_hierarchy.level3.unique():\n",
    "    \n",
    "    print(function)\n",
    "    break\n",
    "\n",
    "len(annotation_hierarchy.id.unique()),len(set(ko_map.KO_NUM.unique())),len(set(ko_map.KO_NUM.unique()).intersection(annotation_hierarchy.id))\n",
    "\n",
    "import pandas as pd\n",
    "df = pd.merge(annotation_hierarchy, ko_map, left_on='id',right_on='KO_NUM', how='left')\n",
    "df.head()\n",
    "\n",
    "uniqGenes = set(df[\"GENE\"].unique())\n",
    "\n",
    "foundGenes = set()\n",
    "for line in open(\"annotations/UniqFoundGenes.txt\"): foundGenes.add(line.strip())\n",
    "len(foundGenes)\n",
    "\n",
    "len(foundGenes.difference(uniqGenes))\n",
    "\n",
    "ko_genes = set(ko_map['GENE'])\n",
    "\n",
    "koToContigMap = {}\n",
    "contigToKO = {}\n",
    "missing = 0\n",
    "for line in open(\"annotations/ContigsW_Annotations.txt\"):\n",
    "    contig,gene = line.strip().split('\\t')\n",
    "    if gene not in ko_genes:missing += 1; continue\n",
    "    subKO_Map = ko_map[ko_map[\"GENE\"] == gene]\n",
    "    for row in subKO_Map.iterrows():\n",
    "        ko = row[1]['KO_NUM']\n",
    "        try: koToContigMap[ko].add(contig)\n",
    "        except: koToContigMap[ko] =set([contig])\n",
    "        try: contigToKO[contig].add(ko)\n",
    "        except: contigToKO[contig] =set([ko])\n",
    "        \n",
    "from pickle import dump\n",
    "dump(koToContigMap,open('pickles/KO_ToContigMap.p','wb'))\n",
    "dump(koToContigMap,open('pickles/ContigToKO.p','wb'))\n",
    "len(contigToKO),missing\n",
    "\n",
    "metagenomeAnnotations = read_csv(\"annotations/ContigsW_Annotations.txt\",sep='\\t')\n",
    "\n",
    "\n",
    "### Create the level 3 table\n",
    "\n",
    "genes = set()\n",
    "for line in open(\"annotations/UniqFoundGenes.txt\"):\n",
    "    genes.add(line.strip())\n",
    "len(genes),len(genes.difference(ko_map.GENE))\n",
    "\n",
    "df[df[\"level3\"]==\"Glycolysis / Gluconeogenesis [PATH:ko00010]\"]\n",
    "\n",
    "import pandas as pd\n",
    "df = pd.merge(annotation_hierarchy, ko_map, left_on='function',right_on='GENE', how='left')\n",
    "\n",
    "df = read_csv(\"annotations/ContigsW_Annotations.txt\",sep='\\t')\n",
    "\n",
    "df.head(), df.shape\n",
    "\n",
    "ko_dict = {}\n",
    "for row in ko_map.iterrows():\n",
    "    if row[1].values[1] in ko_dict:\n",
    "        print(row)\n",
    "        print()\n",
    "        print(ko_dict[row[1].values[1]])\n",
    "        break\n",
    "    ko_dict[row[1].values[1]]=row[1].values[0]\n",
    "\n",
    "\n",
    "from collections import Counter\n",
    "annos = Annotation()\n",
    "missing = Counter()\n",
    "with open(\"annotations/MetagenomicAssemblyAnnotations_filtered_90PID.txt\",\"r\") as fh:\n",
    "    for i,line in enumerate(fh):\n",
    "        if i%500000==0:print(i,end=' ')\n",
    "        rec = line.strip().split(\"\\t\")\n",
    "        contigID, geneID = rec[0],rec[1]\n",
    "        val = ko_map.loc[ko_map[\"Gene\"] == geneID,['KoNum']]\n",
    "        try:koNum = val.values[0][0]\n",
    "        except: missing[geneID] += 1\n",
    "        annos[contigID] = koNum\n",
    "dump(annos,open(\"pickles/ContigAnnotationMap.p\",\"wb\"))\n",
    "dump(missing,open(\"pickles/NotInKO_Map.p\",\"wb\"))\n",
    "len(missing)\n",
    "\n",
    "\n",
    "\n",
    "\n",
    "\n",
    "from random import randint\n",
    "class Annotation:\n",
    "    def __init__(self):\n",
    "        self.contigs = {} # ContigsName -> set of related Annotations\n",
    "        self.annotations = {} # KO number -> contigs with that KO\n",
    "    def __setitem__(self,key,value):\n",
    "        try: self.contigs[key].append(value)\n",
    "        except: self.contigs[key] = [value]\n",
    "        try: self.annotations[value].append(key)\n",
    "        except: self.annotations[value] = [key]\n",
    "    def __getitem__(self,key): return self.contigs[key][randint(0,len(self.contigs[key]))]\n",
    "\n",
    "\n",
    "\n",
    "# Generating the annotation fasta files\n",
    "\n",
    "from Bio.SeqIO import parse, write\n",
    "from Bio.SeqRecord import SeqRecord\n",
    "annotatedRegions = open(\"assemblies/AnnotatedContigs.fa\",\"w\")\n",
    "geneDescripts = open(\"annotations/AnnotationDescripts.bed\",\"w\")\n",
    "annotations = glob(\"mags/final.contigs.*/*.gbk\")\n",
    "seqs = set()\n",
    "hypoCounter = 0\n",
    "for fname in annotations:\n",
    "    for rec in parse(fname,'genbank'):\n",
    "        for feature in rec.features:\n",
    "            try:\n",
    "                product = feature.qualifiers['product'][0]\n",
    "                #if product == \"hypothetical protein\":continue\n",
    "                #subSeq = rec.seq[feature.location.start:feature.location.end]\n",
    "                hypoCounter += int(product == \"hypothetical protein\")\n",
    "                geneDescripts.write(\"%s\\t%i\\t%i\\t%s\\n\" % (rec.id,feature.location.start,feature.location.end,product))\n",
    "                if rec.id in seqs: continue\n",
    "                rec.seq = rec.seq.upper()\n",
    "                write(rec,annotatedRegions,\"fasta\")\n",
    "                seqs.add(rec.id)\n",
    "            except:pass\n",
    "annotatedRegions.close()\n",
    "geneDescripts.close()\n",
    "\n",
    "<h2><a id=\"occon\">Calculate Abundance and occupancy of contigs in samples</a></h2>\n",
    "\n",
    "#Individual Sample\n",
    "from collections import Counter\n",
    "seqPresenceCounter, seqMappedCounter = Counter(), Counter()\n",
    "missingFiles = set()\n",
    "for i, statFName in enumerate(metadata.index):\n",
    "    print(\"%i. %s\" % (i,statFName),end = '\\t')\n",
    "    try:\n",
    "        with open(\"mapping/metaG/stats/%s.tsv\" % statFName) as fh:\n",
    "            for line in fh:\n",
    "                rec = line.strip().split()\n",
    "                seqMappedCounter[rec[0]] += int(rec[2])\n",
    "                seqPresenceCounter[rec[0]] += int(int(rec[2])>0)\n",
    "        if i % 3 == 0:print()\n",
    "    except:\n",
    "        missingFiles.add(\"mapping/metaG/stats/%s.tsv\" % statFName)\n",
    "dump(seqPresenceCounter,open(\"pickles/seqPresenceCounter_genes.p\",\"wb\"))\n",
    "dump(seqMappedCounter,  open(\"pickles/seqMappedCounter_genes.p\",  \"wb\"))  \n",
    "seqPresenceDist = Series(load(open(\"pickles/seqPresenceCounter_genes.p\",\"rb\")))/136.0\n",
    "seqPresenceDist.plot.hist();\n",
    "\n",
    "dump(missingFiles,open(\"pickles/missingFiles_genes.p\",\"wb\")) \n",
    "len(missingFiles)\n",
    "\n",
    "seqPresenceCounter = load(open(\"pickles/seqPresenceCounter_genes.p\",\"rb\"))\n",
    "smp = Series(seqPresenceCounter)\n",
    "totalReads = smp.sum()\n",
    "for i in range(10):\n",
    "    sub = smp[smp <= i ]\n",
    "    subSum = sub.sum()\n",
    "    print(i,len(sub),\"%.2f%%\" % (len(sub)/len(smp)*100),comma(subSum),\"%.2f%%\" % ((subSum/totalReads)*100))\n",
    "print()\n",
    "\n",
    "# Remove anything that is in less than 5 samples\n",
    "\n",
    "print(\"Before Number of genes:\",comma(len(smp)))\n",
    "keepers = set(smp[smp >= 5].index)\n",
    "print(\"After Number of genes:\",comma(len(keepers)))\n",
    "\n",
    "# Read the single copy number values\n",
    "\n",
    "files = glob(\"mapping/metaG/annotatedContigs/logs/singleCopyGeneCounts/*.txt\")\n",
    "metadata[\"SingleCopyCount\"] = 0.0\n",
    "for fname in files:\n",
    "    with open(fname) as fh:\n",
    "        lines = fh.readlines()[-1].strip().split('\\t')\n",
    "        sampleName = fname[fname.rfind('/')+1:-4]\n",
    "        metadata.at[sampleName,\"SingleCopyCount\"] = float(lines[-1])\n",
    "metadata.head()\n",
    "\n",
    "# Read the count numbers and normalize\n",
    "\n",
    "from Bio.SeqIO import parse\n",
    "readLens={}\n",
    "for rec in parse(\"assemblies/AnnotatedContigs.fa\",\"fasta\"): readLens[rec.id] = len(rec.seq)/1000\n",
    "#RPKG = (reads mapped to gene)/(gene length in kb)/(genome equivalents)\n",
    "print(\"Number of reads: %s\" % (comma(len(readLens))))\n",
    "\n",
    "readMap = {}\n",
    "for line in open(\"mapping/metaG/stats/G5R1_NF_09MAY2016_LD1.tsv\"):\n",
    "    rec = line.strip().split()\n",
    "    if rec[0] not in keepers:continue\n",
    "    readName = rec[0][:rec[0].rfind(\"_\")]\n",
    "    readName = readName[:readName.rfind(\"_\")]\n",
    "    readMap[rec[0]] = readName\n",
    "\n",
    "allCounts,counter = {},0\n",
    "for sampleID in metadata.index:\n",
    "    counter += 1\n",
    "    print(\"%i. %s\" % (counter,sampleID),end='\\t')\n",
    "    allCounts[sampleID] = {}\n",
    "    for line in open(\"mapping/metaG/stats/%s.tsv\" % sampleID):\n",
    "        rec = line.strip().split()\n",
    "        if rec[0] not in keepers:continue\n",
    "        allCounts[sampleID][rec[0]] = float(rec[2])/readLens[readMap[rec[0]]]/metadata.at[sampleID,\"SingleCopyCount\"]\n",
    "    if counter % 3 == 0: print()\n",
    "allCounts = DataFrame(allCounts) \n",
    "dump(allCounts,open(\"pickles/allCounts_genes.p\",\"wb\"))  \n",
    "\n",
    "allCounts.head()\n",
    "\n",
    "xs, ys = [],[]\n",
    "for i in range(1,101):\n",
    "    xs.append(i)\n",
    "    ys.append(len(seqPresenceDist[seqPresenceDist >= i/100.0]))\n",
    "plt.plot(xs,ys)\n",
    "plt.xlabel('Percent of samples',fontsize=14)\n",
    "plt.ylabel('Contigs with >= 1 read',fontsize=14)\n",
    "plt.savefig(\"figures/GeneAbundance.png\",bbox_inches='tight')\n",
    "plt.show()\n",
    "\n",
    "seqPresenceCounter = Series(load(open(\"pickles/seqPresenceCounter_genes.p\",\"rb\")))\n",
    "seqMappedCounter = Series(load(open(\"pickles/seqMappedCounter_genes.p\",\"rb\")))\n",
    "seqMappedCounter.describe()\n",
    "seqPresenceCounter.describe()\n",
    "\n",
    "allCounts = load(open(\"pickles/allCounts_genes.p\",\"rb\"))\n",
    "# allCounts[\"Average\"] = allCounts.sum(axis=1)/float(len(allCounts.columns))\n",
    "# allCounts[\"Average\"].head()\n",
    "\n",
    "allCounts.head()\n",
    "\n",
    "print(\"Before Filtering:\",len(allCounts))\n",
    "allCounts = allCounts[allCounts[\"Average\"]>1]\n",
    "xs,ys=[],[]\n",
    "for i in range(1,30):\n",
    "    xs.append(i)\n",
    "    ys.append(len(allCounts[allCounts[\"Average\"] > i]))\n",
    "    xs.append(i+.5)\n",
    "    ys.append(len(allCounts[allCounts[\"Average\"] > i+.5]))\n",
    "    \n",
    "allCounts.drop(\"Average\",axis=1,inplace=True)\n",
    "print(\"After Filtering:\",len(allCounts))\n",
    "#allCounts = allCounts.transpose()\n",
    "#allCounts= DataFrame(allCounts,index=allCounts.index)\n",
    "dump(allCounts,open(\"pickles/allCountsFiltered_genes.p\",\"wb\")) \n",
    "plt.plot(xs,ys)\n",
    "# plt.xlabel('Percent of samples',fontsize=14)\n",
    "# plt.ylabel('Read Count',fontsize=14)\n",
    "plt.savefig(\"figures/GeneAvgCount.png\")\n",
    "plt.show()\n",
    "\n",
    "sortedmeta = metadata[[\"sampling_date\",\"Date\",\"type\",\"nucleic_acid_name\",\"treatment\"]]\n",
    "sortedmeta = sortedmeta.sort_values(by=[\"type\",\"Date\"])\n",
    "counter = 0\n",
    "sampleOrder = {}  \n",
    "for id in sortedmeta.nucleic_acid_name:\n",
    "    counter+=1\n",
    "    sampleOrder[id] = counter\n",
    "\n",
    "allCounts = DataFrame(allCounts).transpose()\n",
    "allCounts['Rank'] = allCounts.index.to_series().map(sampleOrder)\n",
    "allCounts.sort_values('Rank',inplace = True)\n",
    "allCounts.drop('Rank', 1, inplace = True)\n",
    "dump(allCounts,open(\"pickles/allCountsFilteredSorted_genes.p\",\"wb\"))\n",
    "\n",
    "allCounts = load(open(\"pickles/allCountsFilteredSorted_genes.p\",\"rb\"))\n",
    "\n",
    "#allCounts = DataFrame(combined_abundance)\n",
    "seed = np.random.RandomState(seed=3)\n",
    "allCounts_matrix = allCounts.as_matrix()\n",
    "print(\"Calculating Distance\")\n",
    "similarities = euclidean_distances(allCounts_matrix)\n",
    "\n",
    "nsamples = len(allCounts)\n",
    "print(\"Running NMDS with %i samples\" % (nsamples))\n",
    "mds = manifold.MDS(n_components=2, max_iter=3000, eps=1e-9, random_state=seed, dissimilarity=\"precomputed\", n_jobs=1)\n",
    "pos = mds.fit(similarities).embedding_\n",
    "nmds = manifold.MDS(n_components=2, metric=False, max_iter=3000, eps=1e-12, dissimilarity=\"precomputed\", random_state=seed, n_jobs=1, n_init=1)\n",
    "npos = nmds.fit_transform(similarities, init=pos)\n",
    "\n",
    "import matplotlib as mpl\n",
    "fig = plt.figure(1)\n",
    "ax = plt.axes([0., 0., 1.5, 1.95])\n",
    "s = 100\n",
    "index = 0\n",
    "totalGroups = nsamples/4\n",
    "l1s, l2s = [], []\n",
    "dateColors = []\n",
    "for sample in sortedmeta.index:\n",
    "#     print(sample)\n",
    "    if sortedmeta[sortedmeta.index == sample].type[0] == \"G5\": \n",
    "        species = \"SG\"\n",
    "        if sortedmeta[sortedmeta.index == sample].treatment[0] == \"nitrogen free\": \n",
    "            treatment = \"NF\"\n",
    "            marker = '^'\n",
    "        else: \n",
    "            treatment = \"Fert\"\n",
    "            marker= \"v\"\n",
    "    else: \n",
    "        species = \"MC\"; \n",
    "        if sortedmeta[sortedmeta.index == sample].treatment[0] == \"nitrogen free\": \n",
    "            treatment = \"NF\"\n",
    "            marker = 'p'\n",
    "        else: \n",
    "            treatment = \"Fert\"\n",
    "            marker= \"s\"\n",
    "    lbl = \"%s_%s\" % (species,treatment)\n",
    "    date=sortedmeta[sortedmeta.index == sample].Date[0]\n",
    "    dateColors.append(scolor(index,72,species == \"SG\"))\n",
    "    plt.scatter(npos[index:index+1, 0], npos[index:index+1, 1], color=scolor(index,72,species == \"SG\"), s=s, lw=0,label=None,cmap='viridis',marker=marker)\n",
    "    index += 1\n",
    "\n",
    "for crop,marker in [['Switchgrass Unfertilized','^'],['Switchgrass Fertilized','v'],['Miscanthus Unfertilized','p'],['Miscanthus Fertilized','s'],]:\n",
    "    midval = 63/2\n",
    "    if \"Switchgrass\" not in crop: midval = 72 + 72/2\n",
    "    print(crop, scolor(midval,72, \"SG\" in crop))\n",
    "    plt.scatter([], [], c=scolor(midval,72, \"Switchgrass\" in crop), label=crop, marker=marker)\n",
    "plt.legend(scatterpoints=1, frameon=True, labelspacing=1, title='')\n",
    "#handles, labels = ax.get_legend_handles_labels()\n",
    "# plt.axis(aspect='equal')\n",
    "#cmap = mpl.colors.ListedColormap(dateColors)\n",
    "#cb1 = mpl.colorbar.ColorbarBase(ax, cmap=cmap, orientation='vertical')\n",
    "#cb1.set_label('Some Units')\n",
    "#psm = ax.pcolormesh(data, cmap=cmap, rasterized=True, vmin=-4, vmax=4)\n",
    "#fig.colorbar(cmap, ax=ax)\n",
    "#plt.colorbar(cmap, label='Time')\n",
    "# plt.clim(3, 7)\n",
    "# sort both labels and handles by labels\n",
    "# labels, handles = zip(*sorted(zip(labels, handles), key=lambda t: t[0]))\n",
    "# ax.legend(handles, labels)\n",
    "#plt.legend(handles, labels,scatterpoints=1, loc='best', shadow=False)\n",
    "plt.title(\"Switchgrass and Miscanthus Fertilized & Unfertilized NMDS\")\n",
    "# # plt.tight_layout()\n",
    "plt.savefig(\"figures/AllCombinedNMDS_genes.png\",bbox_inches='tight')\n",
    "plt.show()\n",
    "\n",
    "allCounts = allCounts.transpose()\n",
    "allCounts.to_csv(\"stats/filteredCountTable.tsv\",sep='\\t')        \n",
    "\n",
    "from matplotlib import cm\n",
    "from matplotlib.colors import ListedColormap, LinearSegmentedColormap\n",
    "viridis = cm.get_cmap('viridis', 256)\n",
    "newcolors = viridis(np.linspace(0, 1, 256))\n",
    "pink = np.array([248/256, 24/256, 148/256, 1])\n",
    "newcolors[:25, :] = pink\n",
    "newcmp = ListedColormap(newcolors)\n",
    "\n",
    "# Look at annotations\n",
    "\n",
    "annoMap = {}\n",
    "revMap = {}\n",
    "for line in open(\"annotations/annotationDescripts.tsv\"):\n",
    "    contID, function = line.strip().split(\"\\t\")\n",
    "#     if contID in annoMap:\n",
    "#         print(contID,function,annoMap[contID])\n",
    "#         break\n",
    "    annoMap[contID]= function\n",
    "    try:revMap[function].add(contID)\n",
    "    except:revMap[function] = set([contID])\n",
    "dist = {}\n",
    "for function,contigs in revMap.items():\n",
    "    dist[function]=len(contigs)\n",
    "dist = Series(dist)\n",
    "dist.plot.hist();\n",
    "dump(revMap,open(\"pickles/functionMap.p\",\"wb\"))\n",
    "dump(annoMap,open(\"pickles/annoMap.p\",\"wb\"))\n",
    "\n",
    "dist[dist>900]\n",
    "\n",
    "allCounts.head()\n",
    "\n",
    "revMap = load(open(\"pickles/functionMap.p\",\"rb\"))\n",
    "list(revMap.keys())[:10]\n",
    "\n",
    "from pickle import load,dump\n",
    "allCounts = load(open(\"pickles/allCounts_genes.p\",\"rb\"))\n",
    "annoMap = load(open(\"pickles/annoMap.p\",\"rb\"))\n",
    "revMap = load(open(\"pickles/functionMap.p\",\"rb\"))\n",
    "\n",
    "excCounter = 0\n",
    "geneCounts = {}\n",
    "for index,sample in enumerate(allCounts.columns):\n",
    "    geneCounts[sample]={}\n",
    "    sampleCounts = allCounts[sample]\n",
    "    print(\"%i. %s\" % (index+1,sample))\n",
    "    for function,contigs in revMap.items():\n",
    "        functCounts = sampleCounts[sampleCounts.index.isin(contigs)]\n",
    "        nReads = float(functCounts.sum(axis = 0))\n",
    "        geneCounts[sample][function] = nReads\n",
    "#         try: geneCounts[sample][function] = nReads/len(functCounts)\n",
    "#         except:\n",
    "#             excCounter +=1\n",
    "#             geneCounts[sample][function] = 0.0\n",
    "dump(geneCounts,open(\"pickles/pooledGeneCounts.p\",\"wb\"))\n",
    "print(\"There were %i genes with no representative contigs\" % (excCounter))\n",
    "\n",
    "geneCounts = DataFrame(load(open(\"pickles/pooledGeneCounts.p\",\"rb\")))\n",
    "print(len(geneCounts))\n",
    "\n",
    "geneCounts.to_csv(\"tables/GeneCounts.tsv\",sep='\\t')\n",
    "\n",
    "df = DataFrame(geneCounts)\n",
    "remove = set()\n",
    "\n",
    "for function in df.index:\n",
    "    functionCount = float(df[df.index == function].sum(axis=1)) \n",
    "    if(functionCount == 0.0): remove.add(function)\n",
    "print(len(remove))\n",
    "df.drop(remove,inplace=True)\n",
    "\n",
    "df.head()\n",
    "\n",
    "distlist = []\n",
    "for function in df.index:distlist.append(float(df[df.index == function].sum(axis=1)))\n",
    "\n",
    "dist = Series(distlist)\n",
    "dist = dist[dist < dist.mean()*.001*dist.std()]\n",
    "dist.plot.hist()\n",
    "dist.describe()\n",
    "\n",
    "diamondAnnos = {}\n",
    "for line in open(\"KEGG_tools_out/diamondAnnotations_0_KOtable.txt\"):\n",
    "    rec = line.split(\"\\t\")\n",
    "    try: diamondAnnos[rec[0]].add(rec[2])\n",
    "    except:  diamondAnnos[rec[0]] = set([rec[2]])\n",
    "print(len(diamondAnnos))\n",
    "\n",
    "dist,conts = [],[]\n",
    "for contID, KOList in diamondAnnos.items(): conts.append(contID); dist.append(len(KOList))\n",
    "dist = Series(dist,index=conts)\n",
    "dist.plot.hist()\n",
    "\n",
    "len(dist[dist>=2])/float(len(dist))\n",
    "\n",
    "allCounts = load(open(\"pickles/allCounts_genes.p\",\"rb\"))\n",
    "\n",
    "medianReplicateGeneCounts = {}\n",
    "for crop in set(metadata.type):\n",
    "    for date in set(metadata.sampling_date):\n",
    "        for treatment in set(metadata.treatment):\n",
    "            replicateSamples = metadata.loc[(metadata.sampling_date==date) & (metadata.treatment==treatment) & (metadata.type == crop)]\n",
    "            if len(replicateSamples) == 0: continue\n",
    "#             print(crop,date,treatment)\n",
    "            replicateCounts = geneCounts[list(replicateSamples.nucleic_acid_name)]\n",
    "            groupID = list(replicateSamples.nucleic_acid_name)[1].replace(\"R1\",\"\").replace(\"R2\",\"\").replace(\"R3\",\"\").replace(\"R4\",\"\")\n",
    "            medianReplicateGeneCounts[groupID] = replicateCounts.median(axis=1)\n",
    "            #             \n",
    "#             sampleGroup[groupID] = {}\n",
    "#             for function, contigList in revMap.items():\n",
    "#                 functionCounts = sampleCounts[sampleCounts.index.isin(contigList)]\n",
    "#                 sampleGroup[groupID][function] = functionCounts.sum().median()\n",
    "medianReplicateGeneCounts = DataFrame(medianReplicateGeneCounts)\n",
    "medianReplicateGeneCounts.head()\n",
    "\n",
    "remove = set()\n",
    "for function in medianReplicateGeneCounts.index:\n",
    "    if medianReplicateGeneCounts[medianReplicateGeneCounts.index == function].sum(axis=1).sum()== 0:remove.add(function)\n",
    "len(remove)\n",
    "\n",
    "print(medianReplicateGeneCounts.shape)\n",
    "medianReplicateGeneCounts.drop(remove,inplace=True)\n",
    "print(medianReplicateGeneCounts.shape)\n",
    "\n",
    "dump(sampleGroup,open(\"pickles/deepFunctionReplicateCounts.p\",\"wb\"))\n",
    "\n",
    "medianReplicateGeneCounts.shape\n",
    "\n",
    "dates=metadata[[\"sampling_date\",\"Date\",\"nucleic_acid_name\"]]\n",
    "dates=dates.sort_values(by=\"Date\")\n",
    "dates=dates[[\"sampling_date\",\"nucleic_acid_name\"]]\n",
    "\n",
    "metadata = metadata.sort_values(by=\"Date\")\n",
    "\n",
    "metadata.treatment.unique()\n",
    "\n",
    "persistent = set()\n",
    "crop =\"G5\"\n",
    "treatment = 'standard fertilization'\n",
    "prevTimePoint = []\n",
    "seenGenes =set()\n",
    "for crop in metadata.type.unique():\n",
    "    for treatment in metadata.treatment.unique():\n",
    "        for date in dates.sampling_date.unique():\n",
    "            replicateSamples = metadata.loc[(metadata.sampling_date==date) & (metadata.treatment==treatment) & (metadata.type == crop)]\n",
    "            if len(replicateSamples) == 0: continue\n",
    "            groupID = list(replicateSamples.nucleic_acid_name)[1].replace(\"R1\",\"\").replace(\"R2\",\"\").replace(\"R3\",\"\").replace(\"R4\",\"\")\n",
    "            if len(prevTimePoint) == 0:\n",
    "                prevTimePoint = medianReplicateGeneCounts[groupID]\n",
    "                prevTimePoint = prevTimePoint[prevTimePoint>0]\n",
    "                persistent = set(prevTimePoint.index)\n",
    "        #         print(\"There are %i genes present at start %s\" % (len(prevTimePoint),str(date)))\n",
    "                continue\n",
    "            curTimePoint = medianReplicateGeneCounts[groupID]\n",
    "            curTimePoint = curTimePoint[curTimePoint>0]\n",
    "        #     print(\"At the next time point %s there are %i genes\"%(str(date),len(curTimePoint)))\n",
    "        #     print(\"\\t%i genes existed in the last timepoint\" % (len(set(curTimePoint.index).intersection(prevTimePoint.index))))\n",
    "        #     print(\"\\t%i genes are new\" % (len(set(curTimePoint.index).difference(prevTimePoint.index))))\n",
    "            seenGenes = seenGenes.union(set(curTimePoint.index).union(prevTimePoint.index))\n",
    "        #     print(\"\\t%i genes so far\\n\" % (len(seenGenes)))\n",
    "            persistent = persistent.intersection(curTimePoint.index)\n",
    "            prevTimePoint = curTimePoint\n",
    "        print(\"There are %i genes that persist over time for %s with %s\" % (len(persistent),crop,treatment))\n",
    "        persIncreasing = persistent\n",
    "        persDecreasing = persistent\n",
    "        prevTimePoint = []\n",
    "        seenGenes =set()\n",
    "        for i,date in enumerate(dates.sampling_date.unique()):\n",
    "            replicateSamples = metadata.loc[(metadata.sampling_date==date) & (metadata.treatment==treatment) & (metadata.type == crop)]\n",
    "            if len(replicateSamples) == 0: continue\n",
    "            groupID = list(replicateSamples.nucleic_acid_name)[1].replace(\"R1\",\"\").replace(\"R2\",\"\").replace(\"R3\",\"\").replace(\"R4\",\"\")\n",
    "            if len(prevTimePoint) == 0:\n",
    "                prevTimePoint = medianReplicateGeneCounts[groupID]\n",
    "                prevTimePointDec = prevTimePoint[prevTimePoint.index.isin(persistent)]\n",
    "                prevTimePointInc = prevTimePoint[prevTimePoint.index.isin(persistent)]\n",
    "                continue\n",
    "            prevTimePointInc = prevTimePointInc[prevTimePointInc.index.isin(persIncreasing)]\n",
    "            prevTimePointDec = prevTimePointDec[prevTimePointDec.index.isin(persDecreasing)]\n",
    "            curTimePoint = medianReplicateGeneCounts[groupID]\n",
    "            curIncreasing = curTimePoint[curTimePoint.index.isin(persIncreasing)]\n",
    "            curDecreasing = curTimePoint[curTimePoint.index.isin(persDecreasing)]\n",
    "            increasing = curIncreasing[curIncreasing >= prevTimePointInc]\n",
    "            decreasing = curDecreasing[curDecreasing <= prevTimePointDec]\n",
    "            persIncreasing = set(increasing.index)\n",
    "            persDecreasing = set(decreasing.index)\n",
    "            print(\"\\tAt time %s \\t %i genes are still increasing\\t\" % (str(date), len(persIncreasing)),end='\\t')\n",
    "            print(\"%i genes are still decreasing\" % ( len(persDecreasing)))\n",
    "            \n",
    "            #Add normalization by number of reads\n",
    "\n",
    "for i,date in enumerate(dates.sampling_date.unique()):print(date)\n",
    "\n",
    "persistent = set()\n",
    "crop =\"G6\"\n",
    "prevTimePoint = []\n",
    "seenGenes =set()\n",
    "for date in dates.sampling_date.unique():\n",
    "    replicateSamples = metadata.loc[(metadata.sampling_date==date) & (metadata.treatment==treatment) & (metadata.type == crop)]\n",
    "    if len(replicateSamples) == 0: continue\n",
    "    groupID = list(replicateSamples.nucleic_acid_name)[1].replace(\"R1\",\"\").replace(\"R2\",\"\").replace(\"R3\",\"\").replace(\"R4\",\"\")\n",
    "    if len(prevTimePoint) == 0:\n",
    "        prevTimePoint = medianReplicateGeneCounts[groupID]\n",
    "        prevTimePoint = prevTimePoint[prevTimePoint>0]\n",
    "        persistent = set(prevTimePoint.index)\n",
    "        print(\"There are %i genes present at start %s\" % (len(prevTimePoint),str(date)))\n",
    "        continue\n",
    "    curTimePoint = medianReplicateGeneCounts[groupID]\n",
    "    curTimePoint = curTimePoint[curTimePoint>0]\n",
    "    print(\"At the next time point %s there are %i genes\"%(str(date),len(curTimePoint)))\n",
    "    print(\"\\t%i genes existed in the last timepoint\" % (len(set(curTimePoint.index).intersection(prevTimePoint.index))))\n",
    "    print(\"\\t%i genes are new\" % (len(set(curTimePoint.index).difference(prevTimePoint.index))))\n",
    "    seenGenes = seenGenes.union(set(curTimePoint.index).union(prevTimePoint.index))\n",
    "    print(\"\\t%i genes so far\\n\" % (len(seenGenes)))\n",
    "    persistent = persistent.intersection(curTimePoint.index)\n",
    "    prevTimePoint = curTimePoint\n",
    "print(\"There are %i genes that persist over time\" % (len(persistent)))\n",
    "\n",
    "### What genes consistently go up over time?\n",
    "\n",
    "persIncreasing = persistent\n",
    "persDecreasing = persistent\n",
    "\n",
    "# persistent\n",
    "persIncreasing = persistent\n",
    "persDecreasing = persistent\n",
    "prevTimePoint = []\n",
    "seenGenes =set()\n",
    "print(crop,treatment)\n",
    "for i,date in enumerate(dates.sampling_date.unique()):\n",
    "    replicateSamples = metadata.loc[(metadata.sampling_date==date) & (metadata.treatment==treatment) & (metadata.type == crop)]\n",
    "    if len(replicateSamples) == 0: continue\n",
    "    groupID = list(replicateSamples.nucleic_acid_name)[1].replace(\"R1\",\"\").replace(\"R2\",\"\").replace(\"R3\",\"\").replace(\"R4\",\"\")\n",
    "#     print(groupID)\n",
    "    if len(prevTimePoint) == 0:\n",
    "        prevTimePoint = medianReplicateGeneCounts[groupID]\n",
    "        prevTimePointDec = prevTimePoint[prevTimePoint.index.isin(persistent)]\n",
    "        prevTimePointInc = prevTimePoint[prevTimePoint.index.isin(persistent)]\n",
    "        continue\n",
    "    \n",
    "    prevTimePointInc = prevTimePointInc[prevTimePointInc.index.isin(persIncreasing)]\n",
    "    prevTimePointDec = prevTimePointDec[prevTimePointDec.index.isin(persDecreasing)]\n",
    "    curTimePoint = medianReplicateGeneCounts[groupID]\n",
    "    curIncreasing = curTimePoint[curTimePoint.index.isin(persIncreasing)]\n",
    "    curDecreasing = curTimePoint[curTimePoint.index.isin(persDecreasing)]\n",
    "    increasing = curIncreasing[curIncreasing >= prevTimePointInc]\n",
    "    decreasing = curDecreasing[curDecreasing <= prevTimePointDec]\n",
    "    persIncreasing = set(increasing.index)\n",
    "    persDecreasing = set(decreasing.index)\n",
    "    print(\"At time %i - %i genes are still increasing\" % (i, len(persIncreasing)),end='\\t')\n",
    "    print(\"At time %i - %i genes are still decreasing\" % (i, len(persDecreasing)))\n",
    "        \n",
    "\n",
    "persIncreasing = persistent\n",
    "persDecreasing = persistent\n",
    "prevTimePoint = []\n",
    "seenGenes =set()\n",
    "print(crop,treatment)\n",
    "for i,date in enumerate(dates.sampling_date.unique()):\n",
    "    replicateSamples = metadata.loc[(metadata.sampling_date==date) & (metadata.treatment==treatment) & (metadata.type == crop)]\n",
    "    if len(replicateSamples) == 0: continue\n",
    "    groupID = list(replicateSamples.nucleic_acid_name)[1].replace(\"R1\",\"\").replace(\"R2\",\"\").replace(\"R3\",\"\").replace(\"R4\",\"\")\n",
    "#     print(groupID)\n",
    "    if len(prevTimePoint) == 0:\n",
    "        prevTimePoint = medianReplicateGeneCounts[groupID]\n",
    "        prevTimePointDec = prevTimePoint[prevTimePoint.index.isin(persistent)]\n",
    "        prevTimePointInc = prevTimePoint[prevTimePoint.index.isin(persistent)]\n",
    "        continue\n",
    "    \n",
    "    prevTimePointInc = prevTimePointInc[prevTimePointInc.index.isin(persIncreasing)]\n",
    "    prevTimePointDec = prevTimePointDec[prevTimePointDec.index.isin(persDecreasing)]\n",
    "    curTimePoint = medianReplicateGeneCounts[groupID]\n",
    "    curIncreasing = curTimePoint[curTimePoint.index.isin(persIncreasing)]\n",
    "    curDecreasing = curTimePoint[curTimePoint.index.isin(persDecreasing)]\n",
    "    increasing = curIncreasing[curIncreasing >= prevTimePointInc]\n",
    "    decreasing = curDecreasing[curDecreasing <= prevTimePointDec]\n",
    "    persIncreasing = set(increasing.index)\n",
    "    persDecreasing = set(decreasing.index)\n",
    "    print(\"At time %i - %i genes are still increasing\" % (i, len(persIncreasing)),end='\\t')\n",
    "    print(\"At time %i - %i genes are still decreasing\" % (i, len(persDecreasing)))\n",
    "        \n",
    "\n",
    "startTime = medianReplicateGeneCounts['G5_NF_09MAY2016_LD1']\n",
    "startTime = startTime[startTime > 0]\n",
    "print(len(startTime))\n",
    "startTime.index\n",
    "\n",
    "curTimePoint[curTimePoint.index.isin(persDecreasing)]\n",
    "\n",
    "\n",
    "\n",
    "\n",
    "\n",
    "\n",
    "\n",
    "\n",
    "\n",
    "\n",
    "\n",
    "\n",
    "\n",
    "\n",
    "\n",
    "\n",
    "\n",
    "\n",
    "\n",
    "\n",
    "\n",
    "\n",
    "\n",
    "\n",
    "\n",
    "\n",
    "\n",
    "\n",
    "\n",
    "\n",
    "\n",
    "\n",
    "\n",
    "\n",
    "\n",
    "\n",
    "\n",
    "\n",
    "\n",
    "\n",
    "\n",
    "\n",
    "\n",
    "\n",
    "\n",
    "\n",
    "\n",
    "\n",
    "\n",
    "\n",
    "\n",
    "\n",
    "\n",
    "\n",
    "\n",
    "\n",
    "\n",
    "\n",
    "\n",
    "\n",
    "\n",
    "\n",
    "\n",
    "\n",
    "\n",
    "\n",
    "\n",
    "\n",
    "seqMappedDist = Series(load(open(\"pickles/seqMappedCounter.p\",\"rb\")))\n",
    "\n",
    "presenceDist=presenceDist/float(numSamples)\n",
    "\n",
    "#fh = open(\"assemblies/parts/final.contigs.%i.fa\" % (index),\"w\")\n",
    "from Bio.SeqIO import parse, write\n",
    "counter,index = 0, 0\n",
    "for rec in parse(\"assemblies/final.contigs.fa\",\"fasta\"): \n",
    "    if counter % 500000 == 0:\n",
    "        #fh.close()\n",
    "        index += 1\n",
    "        print(index,end=\" \")\n",
    "        #fh = open(\"assemblies/parts/final.contigs.%i.fa\" % (index),\"w\")\n",
    "    #write(rec,fh,\"fasta\")\n",
    "    counter+=1\n",
    "#fh.close()     \n",
    "\n",
    "\n",
    "\n",
    "%%bash\n",
    "#ls -laht pickles\n",
    "#head stats/11425.5.206700.GCCTTGT-AACAAGG.fastq.gz.tsv\n",
    "\n",
    "#Initialize the dictionary for the counts\n",
    "seqCounter = {} #load(open(\"pickles/seqCounter.p\",\"rb\"))\n",
    "combined_abundance = seqCounter.copy()\n",
    "for crop in set(metadata.type):\n",
    "    for date in set(metadata.sampling_date):\n",
    "        for treatment in set(metadata.treatment):\n",
    "            sampleGroupMeta = metadata.loc[(metadata.sampling_date==date) & (metadata.treatment==treatment) & (metadata.type == crop)]\n",
    "            if len(sampleGroupMeta) == 0: continue\n",
    "            sampleAbundance = seqCounter.copy()\n",
    "            samplePresence = seqCounter.copy()\n",
    "            comFileName = \"stats/combined/%s_%s.tsv\" % (sampleGroupMeta.plot_name.unique()[0],date.replace(\"/\",\"_\"))\n",
    "            print(comFileName)\n",
    "            outfile = open(comFileName, \"w\")\n",
    "            nfiles = 4\n",
    "            for fstaName in sampleGroupMeta.index:\n",
    "                try:\n",
    "                    with open(\"stats/%s.tsv\" % (fstaName)) as fh:\n",
    "                        for line in fh:\n",
    "                            rec = line.strip().split()\n",
    "                            sampleAbundance[rec[0]] += int(rec[2])\n",
    "                            samplePresence[rec[0]]  += int(int(rec[2])>0)\n",
    "                except:\n",
    "                    print(\"\\t\\t\",comFileName,\"is missing file:\",fstaName)\n",
    "                    missingStats.append(fstaName)\n",
    "                    nfiles-=1\n",
    "                    \n",
    "            contigCounter = 0\n",
    "            for contName,presCount in samplePresence.items():\n",
    "                contigCounter += int(presCount >= 2)\n",
    "                outfile.write(\"%s\\t%s\\n\" % (contName,int(sampleAbundance[contName]/nfiles)))\n",
    "                combined_abundance[contName] += int(sampleAbundance[contName]/nfiles)\n",
    "            print(\"\\t\",contigCounter,\"Contigs Present\")\n",
    "            outfile.close()\n",
    "dump(combined_abundance,open(\"pickles/combined_abundance.p\",\"wb\"))\n",
    "dump(missingStats,open(\"pickles/missingStats.p\",\"wb\"))\n",
    "\n",
    "<h3><a id=\"pltao\">Plot abundance and occupancy</a></h3>\n",
    "\n",
    "# Now that the files are combined, let's look at p/a and abundance\n",
    "fileNames = glob(\"stats/combined/*.tsv\")\n",
    "presAbs,abundance = {},{}\n",
    "for fname in fileNames:\n",
    "    print(fname)\n",
    "    for line in open(fname): \n",
    "        rec = line.strip().split()\n",
    "        try:presAbs[rec[0]] += int(int(rec[1]) > 0)\n",
    "        except:presAbs[rec[0]] = int(int(rec[1]) > 0)\n",
    "        try:abundance[rec[0]] += int(rec[1])\n",
    "        except:abundance[rec[0]] = int(rec[1])\n",
    "\n",
    "dump(presAbs,open(\"presence_absence_combined.p\",\"wb\"))    \n",
    "dump(abundance,open(\"abundance_combined.p\",\"wb\"))   \n",
    "dist_pres = []\n",
    "numSamples = float(len(fileNames))\n",
    "for contig, count in presAbs.items(): dist_pres.append(count/float(numSamples))\n",
    "plotter = Series(dist_pres)\n",
    "plotter.plot.hist();\n",
    "\n",
    "<h3><a id=\"pltao\">Abundance</a></h3>\n",
    "\n",
    "# combinedFiles = glob(\"stats/combined/filtered/*.tsv\")\n",
    "# presAbs = load(open(\"pickles/presence_absence_combined.p\",\"rb\"))    \n",
    "# abundance = load(open(\"pickles/abundance_combined.p\",\"rb\"))   \n",
    "# dist_pres = []\n",
    "# numSamples = float(len(combinedFiles))\n",
    "# for contig, count in presAbs.items(): dist_pres.append(count/float(numSamples))\n",
    "# plotter = Series(dist_pres)\n",
    "ax = plotter.plot.hist()  # s is an instance of Series\n",
    "fig = ax.get_figure()\n",
    "fig.savefig('figures/Abundance_combined.png')\n",
    "ax;\n",
    "\n",
    "<h3><a id=\"OXA\">Occupancy X Abundance</a></h3>\n",
    "\n",
    "import matplotlib.pyplot as plt\n",
    "xs, ys =[], []\n",
    "for i in range(1,1000):\n",
    "    xs.append(i/1000.0)\n",
    "    ys.append(len(plotter[plotter > i/1000.0]))\n",
    "plt.plot(xs,ys)\n",
    "plt.xlabel('Percent of samples',fontsize=14)\n",
    "plt.ylabel('Rank Abundance',fontsize=14)\n",
    "plt.savefig(\"figures/OccupencyAbundance.png\")\n",
    "plt.show()\n",
    "\n",
    "import matplotlib.pyplot as plt\n",
    "xs, ys =[], []\n",
    "for contName in presAbs:\n",
    "    ys.append(presAbs[contName]/numSamples)\n",
    "    xs.append(abundance[contName])\n",
    "plt.plot(xs,ys,'ro')\n",
    "plt.xlabel('Abundance',fontsize=14)\n",
    "plt.ylabel('% Presence',fontsize=14)\n",
    "plt.show()\n",
    "\n",
    "<h2><a id=\"pltao\">Filter the data by occupency and abundance</a></h2>\n",
    "\n",
    "numSamples = float(len(fileNames))\n",
    "# keeperContigs = set()\n",
    "# for contig, count in presAbs.items(): \n",
    "#     if count/float(numSamples) >= .25: keeperContigs.add(contig)\n",
    "print (\"Keeping %i contigs\" % (len(keeperContigs)))\n",
    "\n",
    "fileNames = glob(\"stats/combined/*.tsv\")\n",
    "presAbs,abundance = {},{}\n",
    "\n",
    "print(\"%i combined samples\"%(int(numSamples)))\n",
    "counter=0\n",
    "for fname in fileNames:\n",
    "    counter += 1\n",
    "    print(\"%i.\" % counter,fname)\n",
    "    ffh =  open(fname.replace(\"stats/combined/\",\"stats/combined/filtered/\"),\"w\")\n",
    "    for line in open(fname): \n",
    "        rec = line.strip().split()\n",
    "        if rec[0] in keeperContigs: \n",
    "            ffh.write(\"%s\\t%s\\n\" % (rec[0],rec[1]))\n",
    "            try:presAbs[rec[0]]     += int(int(rec[1]) > 0)\n",
    "            except:presAbs[rec[0]]   = int(int(rec[1]) > 0)\n",
    "            try:abundance[rec[0]]   += int(rec[1])\n",
    "            except:abundance[rec[0]] = int(rec[1])\n",
    "    ffh.close()\n",
    "    \n",
    "import matplotlib.pyplot as plt\n",
    "xs, ys =[], []\n",
    "for contName in presAbs:\n",
    "    xs.append(presAbs[contName]/numSamples)\n",
    "    ys.append(abundance[contName])\n",
    "plt.plot(xs,ys,'ro')\n",
    "plt.xlabel('Percent Abundance',fontsize=14)\n",
    "plt.ylabel('Abundance',fontsize=14)\n",
    "plt.show()\n",
    "\n",
    "\n",
    "fileNames = glob(\"stats/combined/filtered/*.tsv\")\n",
    "allCounts = {}\n",
    "counter=0\n",
    "for fname in fileNames:\n",
    "    sampleName = fname.replace(\"stats/combined/filtered/\",\"\").replace(\".tsv\",\"\")\n",
    "    allCounts[sampleName]={}\n",
    "    counter+=1\n",
    "    print(\"%i. %s\"%(counter,sampleName))\n",
    "    for line in open(fname):\n",
    "        rec=line.strip().split()\n",
    "        allCounts[sampleName][rec[0]]=int(rec[1])\n",
    "dump(allCounts,open(\"pickles/sampleDict.p\",\"wb\"))    \n",
    "\n",
    "<h2><a id=\"nmds\">NMDS</a></h2>\n",
    "\n",
    "sampleOrder = {}\n",
    "counter = 0\n",
    "dates=metadata[[\"sampling_date\",\"Date\"]]\n",
    "dates=dates.sort_values(by=\"Date\")\n",
    "dates=dates[\"sampling_date\"]\n",
    "    \n",
    "for date in dates.unique():\n",
    "    for crop in set(metadata.type):\n",
    "        for treatment in set(metadata.treatment):\n",
    "            sampleGroupMeta = metadata.loc[(metadata.sampling_date==date) & (metadata.treatment==treatment) & (metadata.type == crop)]\n",
    "            if len(sampleGroupMeta) == 0: continue\n",
    "            idName = \"%s_%s\" % (sampleGroupMeta.plot_name.unique()[0],date.replace(\"/\",\"_\"))\n",
    "            counter+=1\n",
    "            sampleOrder[idName] = counter\n",
    "\n",
    "print(\"Loading sample counts\")\n",
    "allCounts = load(open(\"pickles/sampleDict.p\",\"rb\"))\n",
    "allCounts = DataFrame(allCounts).transpose()\n",
    "allCounts['Rank'] = allCounts.index.to_series().map(sampleOrder)\n",
    "allCounts.sort_values('Rank',inplace = True)\n",
    "allCounts.drop('Rank', 1, inplace = True)\n",
    "allCounts.head()\n",
    "\n",
    "seed = np.random.RandomState(seed=3)\n",
    "allCounts_matrix = allCounts.as_matrix()\n",
    "similarities = euclidean_distances(allCounts_matrix)\n",
    "\n",
    "nsamples = len(allCounts)\n",
    "mds = manifold.MDS(n_components=2, max_iter=3000, eps=1e-9, random_state=seed, dissimilarity=\"precomputed\", n_jobs=1)\n",
    "pos = mds.fit(similarities).embedding_\n",
    "nmds = manifold.MDS(n_components=2, metric=False, max_iter=3000, eps=1e-12, dissimilarity=\"precomputed\", random_state=seed, n_jobs=1, n_init=1)\n",
    "npos = nmds.fit_transform(similarities, init=pos)\n",
    "\n",
    "fig = plt.figure(1)\n",
    "ax = plt.axes([0., 0., 1.5, 1.95])\n",
    "s = 100\n",
    "counter = 0\n",
    "group = 0\n",
    "totalGroups = nsamples/4\n",
    "l1s, l2s = [], []\n",
    "for date in dates.unique():\n",
    "    group+=1\n",
    "    l1s.append(\"SG-Fert \"+date)\n",
    "    plt.scatter(npos[counter:counter+1, 0], npos[counter:counter+1, 1], color=scolor(group,totalGroups,True), s=s, lw=0, label=\"SG-Fert \"+date,marker=\"^\")\n",
    "    counter+=1\n",
    "    l1s.append(\"SG-NF \"+date)\n",
    "    plt.scatter(npos[counter:counter+1, 0], npos[counter:counter+1, 1], color=scolor(group,totalGroups,True), s=s, lw=0, label=\"SG-NF \"+date,marker=\"v\")\n",
    "    counter+=1\n",
    "    l2s.append(\"MC-Fert \"+date)\n",
    "    plt.scatter(npos[counter:counter+1, 0], npos[counter:counter+1, 1], color=scolor(group,totalGroups,False), s=s, lw=0, label=\"MC-Fert \"+date,marker=\"p\")\n",
    "    counter+=1\n",
    "    l2s.append(\"MC-NF \"+date)\n",
    "    plt.scatter(npos[counter:counter+1, 0], npos[counter:counter+1, 1], color=scolor(group,totalGroups,False), s=s, lw=0, label=\"MC-NF \"+date,marker=\"H\")\n",
    "    counter+=1\n",
    "\n",
    "handles, labels = ax.get_legend_handles_labels()\n",
    "# sort both labels and handles by labels\n",
    "# labels, handles = zip(*sorted(zip(labels, handles), key=lambda t: t[0]))\n",
    "# ax.legend(handles, labels)\n",
    "plt.legend(handles, labels,scatterpoints=1, loc='best', shadow=False)\n",
    "plt.title(\"Switchgrass(SG) and Miscanthus(MC) Fertilized(Fert) & Not Ferilized(NF) NMDS\")\n",
    "# plt.tight_layout()\n",
    "plt.savefig(\"figures/AllCombinedNMDS.png\",bbox_inches='tight')\n",
    "plt.show()\n",
    "\n",
    "g6Data, g5Data = [],[]\n",
    "for key in allCounts.index:\n",
    "    if key[:2] == \"G5\": g5Data.append(key)\n",
    "    else: g6Data.append(key)\n",
    "g5Data = allCounts.drop(g5Data)\n",
    "g6Data = allCounts.drop(g6Data)\n",
    "\n",
    "g5Data_matrix = g5Data.as_matrix()\n",
    "similarities = euclidean_distances(g5Data_matrix)\n",
    "nsamples = len(g5Data)\n",
    "mds = manifold.MDS(n_components=2, max_iter=3000, eps=1e-9, random_state=seed, dissimilarity=\"precomputed\", n_jobs=1)\n",
    "pos = mds.fit(similarities).embedding_\n",
    "nmds = manifold.MDS(n_components=2, metric=False, max_iter=3000, eps=1e-12, dissimilarity=\"precomputed\", random_state=seed, n_jobs=1, n_init=1)\n",
    "npos = nmds.fit_transform(similarities, init=pos)\n",
    "\n",
    "fig = plt.figure(1)\n",
    "ax = plt.axes([0., 0., 1.5, 1.95])\n",
    "s = 100\n",
    "\n",
    "for index, sample in enumerate(g5Data.index):\n",
    "    species = \"MC\"; \n",
    "    if sortedmeta[sortedmeta.nucleic_acid_name == sample].treatment[0] == \"nitrogen free\": \n",
    "        treatment = \"NF\"\n",
    "        marker = 'p'\n",
    "    else: \n",
    "        treatment = \"Fert\"\n",
    "        marker= \"s\"\n",
    "            \n",
    "    lbl = \"%s_%s\" % (species,treatment)\n",
    "    plt.scatter(npos[index:index+1, 0], npos[index:index+1, 1], color=scolor(index+71,72,species == \"SG\"), s=s, lw=0, label=lbl,marker=marker)\n",
    "\n",
    "#plt.legend(scatterpoints=1, loc='best', shadow=False)\n",
    "plt.title(\"Miscanthus (Fert) and Not Ferilized (NF)\")\n",
    "plt.savefig(\"figures/Miscanthus_NMDS_genes.png\", bbox_inches='tight')\n",
    "plt.show()\n",
    "\n",
    "g6Data_matrix = g6Data.as_matrix()\n",
    "similarities = euclidean_distances(g6Data_matrix)\n",
    "nsamples = len(g6Data)\n",
    "mds = manifold.MDS(n_components=2, max_iter=3000, eps=1e-9, random_state=seed, dissimilarity=\"precomputed\", n_jobs=1)\n",
    "pos = mds.fit(similarities).embedding_\n",
    "nmds = manifold.MDS(n_components=2, metric=False, max_iter=3000, eps=1e-12, dissimilarity=\"precomputed\", random_state=seed, n_jobs=1, n_init=1)\n",
    "npos = nmds.fit_transform(similarities, init=pos)\n",
    "\n",
    "fig = plt.figure(1)\n",
    "ax = plt.axes([0., 0., 1.5, 1.5])\n",
    "s = 100\n",
    "counter = 0\n",
    "group=0\n",
    "for index, sample in enumerate(g6Data.index):\n",
    "    species = \"SG\"; \n",
    "    if sortedmeta[sortedmeta.nucleic_acid_name == sample].treatment[0] == \"nitrogen free\": \n",
    "        treatment = \"NF\"\n",
    "        marker = '^'\n",
    "    else: \n",
    "        treatment = \"Fert\"\n",
    "        marker= \"v\"   \n",
    "    lbl = \"%s_%s\" % (species,treatment)\n",
    "    plt.scatter(npos[index:index+1, 0], npos[index:index+1, 1], color=scolor(index,72,species == \"SG\"), s=s, lw=0, label=lbl,marker=marker)\n",
    "\n",
    "#plt.legend(scatterpoints=1, loc='best', shadow=False)\n",
    "plt.title(\"Switchgrass Fertilized (Fert) and Not Ferilized (NF)\")\n",
    "plt.savefig(\"figures/Switchgrass_NMDS_genes.png\", bbox_inches='tight')\n",
    "plt.show()\n",
    "\n",
    "<h1><a id=\"metaT\">Function Analysis</a></h1>\n",
    "\n",
    "[Home](#meta)\n",
    "\n",
    "KO_Levels = DataFrame.from_csv(\"annotations/KO_Levels.tsv\",sep='\\t')\n",
    "KO_Levels['Level1'] = KO_Levels['Level1'].apply(lambda x: str(x).zfill(5))\n",
    "KO_Levels['Level2'] = KO_Levels['Level2'].apply(lambda x: str(x).zfill(5))\n",
    "KO_Levels['Level3'] = KO_Levels['Level3'].apply(lambda x: str(x).zfill(5))\n",
    "KO_Levels.head()\n",
    "\n",
    "contigKOs = {}\n",
    "koContigs = {}\n",
    "for line in open(\"annotations/KEGG_tools_out/diamondAnnotations_0_KOtable.txt\"):\n",
    "    rec = line.split('\\t')\n",
    "    try: contigKOs[rec[0]].add(rec[2])\n",
    "    except: contigKOs[rec[0]] = set([rec[2]])\n",
    "    try: koContigs[rec[2]].add(rec[0])\n",
    "    except: koContigs[rec[2]] = set([rec[0]])\n",
    "\n",
    "allCounts = load(open(\"pickles/allCounts_genes.p\",\"rb\")) \n",
    "ko_mapper = load(open(\"pickles/koMap.p\",\"rb\"))\n",
    "\n",
    "from numpy import log2\n",
    "levels = KO_Levels.Level1.unique()\n",
    "Level3DF = DataFrame(index=levels, columns=allCounts.columns)\n",
    "Level3DF = Level3DF.fillna(0)\n",
    "for level in levels:\n",
    "    selectedKOs = KO_Levels[KO_Levels.Level1 == level]\n",
    "    selectedContigs = set()\n",
    "    for ko in selectedKOs.index: selectedContigs = selectedContigs.union(koContigs[ko])\n",
    "    selectedCounts = allCounts[allCounts.index.isin(selectedContigs)]\n",
    "    countSums = selectedCounts.sum(axis=0)\n",
    "    countSums = readsForAllContigs\n",
    "    countSums = log2(countSums/readCounts[\"TotalSampleReads\"])\n",
    "    Level3DF.loc[level] = countSums\n",
    "Level3DF[\"Description\"] = Level3DF.index.to_series().map(ko_mapper.descripts)\n",
    "cols = Level3DF.columns.tolist()\n",
    "cols = cols[-1:] + cols[:-1]\n",
    "Level3DF = Level3DF[cols]\n",
    "Level3DF=Level3DF.set_index('Description')\n",
    "Level3DF.to_csv(\"annotations/Level1CountTable.tsv\",sep='\\t')\n",
    "\n",
    "readCounts = read_csv(\"mapping/metaG/flagstats/multiqc_data/mqc_bowtie2_pe_plot_1.txt\",sep=\"\\t\")\n",
    "readCounts[\"TotalSampleReads\"] = data.sum(axis=1)\n",
    "readCounts.set_index(\"Sample\",inplace=True)\n",
    "readCounts.head()\n",
    "\n",
    "class KO_Mapper:\n",
    "    def __init__(self):\n",
    "        self.koToMap = {}\n",
    "        self.descripts = {}\n",
    "        self.mapToKO = {}\n",
    "        self.levelToMap = {}\n",
    "        self.ko = \"\"\n",
    "        self.KEGG_URL = \"https://www.kegg.jp/dbget-bin/www_bget?%s\"\n",
    "\n",
    "    def setItem(self, level, mapNum, descrip):\n",
    "        # print(self.ko, level, mapNum, descrip)\n",
    "        # Map descriptions\n",
    "        self.descripts[mapNum] = descrip\n",
    "        \n",
    "        # Map to KO\n",
    "        try: self.mapToKO[mapNum].add(self.ko)\n",
    "        except: self.mapToKO[mapNum] = set([self.ko])\n",
    "        \n",
    "        # KO to level to mapNum\n",
    "        try: self.koToMap[self.ko][level].add(mapNum)\n",
    "        except: \n",
    "            try: self.koToMap[self.ko][level] = set([mapNum])\n",
    "            except: self.koToMap[self.ko] = { level:set([mapNum]) }\n",
    "        \n",
    "        # Level to map\n",
    "        try: self.levelToMap[level].add(mapNum)\n",
    "        except: self.levelToMap[level] = set([mapNum])\n",
    "                \n",
    "    def _processKOInfo(self, koText):\n",
    "        rec = koText.strip().split('\\n')\n",
    "        while 'KEGG Orthology' not in rec[0] and len(rec)>0: rec = rec[1:]\n",
    "        if len(rec)==0:return\n",
    "        for line in rec[1:]:\n",
    "            level = line.count('\\xa0')\n",
    "            if (level == 0) or self.ko in str(line): break #Don't record any ribosome info\n",
    "            info = line.strip('\\xa0')\n",
    "            bIndex = info.find(\" \")\n",
    "            self.setItem(level,info[:bIndex],info[bIndex+1:])\n",
    "    \n",
    "    def mapKO(self,ko):\n",
    "        siteContent = BeautifulSoup(urlopen(self.KEGG_URL%(ko)).read(),features=\"lxml\")\n",
    "        self.ko = ko\n",
    "        found = False\n",
    "        for i, elm in enumerate(siteContent.find_all(\"td\", {\"class\": \"td41\"})):\n",
    "            if \"KEGG Orthology\" in str(elm.contents[0]):\n",
    "                pathway = elm.find(\"nobr\")\n",
    "                self._processKOInfo(pathway.text)\n",
    "                found = True\n",
    "                break\n",
    "        if not found: \n",
    "            for i, elm in enumerate(siteContent.find_all(\"td\", {\"class\": \"td40\"})):\n",
    "                if \"KEGG Orthology\" in str(elm.contents[0]):\n",
    "                    pathway = elm.find(\"nobr\")\n",
    "                    self._processKOInfo(pathway.text)\n",
    "                    found = True\n",
    "                    break\n",
    "        if not found: raise Exception(\"Unable to find \" + self.ko)\n",
    "\n",
    "\n",
    "\n",
    "\n",
    "\n",
    "\n",
    "\n",
    "\n",
    "\n",
    "\n",
    "\n",
    "\n",
    "\n",
    "\n",
    "\n",
    "\n",
    "\n",
    "\n",
    "\n",
    "\n",
    "\n",
    "\n",
    "\n",
    "\n",
    "\n",
    "\n",
    "\n",
    "\n",
    "\n",
    "\n",
    "\n",
    "\n",
    "\n",
    "\n",
    "\n",
    "\n",
    "\n",
    "\n",
    "\n",
    "\n",
    "\n",
    "\n",
    "\n",
    "\n",
    "\n",
    "\n",
    "\n",
    "\n",
    "\n",
    "\n",
    "\n",
    "\n",
    "\n",
    "\n",
    "\n",
    "\n",
    "\n",
    "\n",
    "DataFrame.read_csv\n",
    "\n",
    "#A custom function to help us find the raw fastq files\n",
    "from glob import glob\n",
    "rawFastqFiles = glob('jgi_transfer/metaT_raw/*/Raw_Data/*')\n",
    "\n",
    "def lookupFSTQ(name,rawFastqFiles):\n",
    "    fastqName = ''\n",
    "    found = False\n",
    "    for fastqName in rawFastqFiles:\n",
    "        if name in fastqName: \n",
    "            found = True\n",
    "            break\n",
    "    if found:\n",
    "        rawFastqFiles.remove(fastqName)\n",
    "        return fastqName\n",
    "\n",
    "%%bash\n",
    "ls metadata\n",
    "\n",
    "from pandas import DataFrame, to_datetime\n",
    "#Collect Metadata\n",
    "metadata = DataFrame.from_csv(\"metadata/GLBRC_MetaT_Metadata.tsv\",sep='\\t')\n",
    "\n",
    "#Change the data to only include things we are interested in and format a few columns\n",
    "metadata['sampling_date'] = to_datetime(metadata.date) #Make date a format python can sort\n",
    "metadata.drop(['time','air_temp_c', 'day', 'month', 'year', 'weather', 'notes', 'rep', 'date_of_extraction', 'nucleic_acid_type', \n",
    "   'replicate_extraction', 'source', 'source_mass', 'extraction_method', 'elution_vol_ul', 'concentration_ng_per_ul', \n",
    "   'ratio_260_280', 'conc_ng_per_g_source', 'extracted_by', 'sequencing_date', 'conc_sent_ng_per_ul', 'sequencing_type', \n",
    "   'sequencing_facility', 'primers', 'submitted_for_sequencing', 'sequencing_successful', 'duplicate_submitted', 'dup_sequencing_name', \n",
    "   'exclude_from_analysis', 'itemID_JGI', 'sampleID_JGI', 'JGI_rawdataname', 'Air_Pressure', 'RH', 'AH', 'Wind_Speed_Mean', 'PAR', \n",
    "   'soil_temp_5_cm_bare_avg', 'soil_temp_5_cm_sod_avg', 'Year', 'date', 'pseudorep','MMPRNT_ID','time_zone','longitude', 'country',\n",
    "   'location','air_temp_max','Air_Temp_Min','latitude','altitude','plot_name', 'soil_name', 'number_cores', 'Air_temp_mean' ,\n",
    "   'Wind_Direction_Mean','time_numeric','precipitation', 'Solar_Radiation','pH','JGI_taxonOID','JGI_library','SPNL_date','lime_index',\n",
    "   'P_ppm','barcode','K_ppm', 'Ca_ppm', 'Mg_ppm', 'organic_matter', 'NO3N_ppm', 'NH4_ppm', 'soil_moisture_percent', 'soil_temp_10cm', \n",
    "   'plant_name', 'LDMC_mg_per_g', 'nitrogen_percent', 'carbon_percent', 'carbon_per_nitrogen', 'height_mean_cm', 'mass_per_leaf_g',\n",
    "   'name','plotID','sequence_name'],axis=1,inplace=True)\n",
    "metadata = metadata.rename(index=str, columns={'nucleic_acid_name':'name'})\n",
    "\n",
    "#Map Metadata to fastq files\n",
    "metadata['HPCC_path'] = metadata.apply(lambda row: lookupFSTQ(row['name'],rawFastqFiles), axis=1)\n",
    "\n",
    "#Sort the metadata for ordering purposes\n",
    "metadata.sort_values(by=['plant','sampling_date','treatment','name'],inplace=True) #,\"Date\",\"treatment\",\"plot_name\"])\n",
    "\n",
    "#Change the Identifier\n",
    "metadata.set_index('name',inplace=True)\n",
    "\n",
    "#Show me the top 10\n",
    "print(metadata.shape)\n",
    "metadata.head(10)\n",
    "\n",
    "from os import listdir\n",
    "rawDirs = listdir(\"jgi_transfer/metaT_raw/\") #*/Raw_Data/*\n",
    "\n",
    "\n",
    "from os import system\n",
    "# links = glob(\"mapping/metaT/unpaired/*.fastq.gz\")\n",
    "# for lnk in links: system(\"unlink \"+lnk)\n",
    "from os import listdir\n",
    "rawDirs = listdir(\"jgi_transfer/metaT_raw/\") #*/Raw_Data/*\n",
    "#Make Sym links to put fastqs in same dir\n",
    "from os import system\n",
    "for sample_name in metadata.index:\n",
    "    if metadata.loc[sample_name,'HPCC_path']:\n",
    "        pass\n",
    "#         system(\"ln -s /mnt/research/ShadeLab/GLBRC/%s mapping/metaT/unpaired/%s.fastq.gz\" % (metadata.loc[sample_name,'HPCC_path'],sample_name))\n",
    "    else: \n",
    "        sample_name = sample_name[:sample_name.rfind(\"_\")]\n",
    "        \n",
    "#         for fname in rawDirs:\n",
    "        print(\"Missing metadata for\",sample_name)\n",
    "# for fname in rawFastqFiles: print(\"Missing Metadata:\",fname[fname.find(\"function__\")+10:fname.find(\"_MT_\")])\n",
    "\n",
    "%%bash\n",
    "ls jgi_transfer/metaT_raw/ |wc -l\n",
    "cd jgi_transfer/metaT_raw/*G5R4_NF_12JUL2016*\n",
    "pwd\n",
    "\n",
    "%%bash\n",
    "ls mapping/metaT/unpaired/ |wc -l\n",
    "ls mapping/metaT/unpaired/*12JUL2016*\n",
    "\n",
    "\n",
    "\n",
    "\n",
    "\n",
    "\n",
    "\n",
    "\n",
    "\n",
    "\n",
    "\n",
    "\n",
    "\n",
    "\n",
    "\n",
    "\n",
    "\n",
    "\n",
    "\n",
    "\n",
    "\n",
    "\n",
    "\n",
    "\n",
    "\n",
    "\n",
    "\n",
    "\n",
    "\n",
    "\n",
    "\n",
    "\n",
    "\n",
    "\n",
    "\n",
    "\n",
    "\n",
    "\n",
    "\n",
    "\n",
    "\n",
    "\n",
    "\n",
    "\n",
    "\n",
    "\n",
    "\n",
    "\n",
    "\n",
    "\n",
    "\n",
    "\n",
    "\n",
    "\n",
    "\n",
    "\n",
    "\n",
    "# N-Dimensional Scaling\n",
    "import numpy as np\n",
    "from matplotlib import pyplot as plt\n",
    "from matplotlib.collections import LineCollection\n",
    "from sklearn import manifold\n",
    "from sklearn.metrics import euclidean_distances\n",
    "from sklearn.decomposition import PCA\n",
    "from scipy.spatial import distance\n",
    "\n",
    "n_samples = 20\n",
    "seed = np.random.RandomState(seed=3)\n",
    "X_true = seed.randint(0, 20, 2 * n_samples).astype(np.float)\n",
    "print(X_true)\n",
    "X_true = X_true.reshape((n_samples, 2))\n",
    "\n",
    "# Center the data\n",
    "# X_true -= X_true.mean()\n",
    "\n",
    "similarities = euclidean_distances(X_true)\n",
    "#print(similarities)\n",
    "\n",
    "# Add noise to the similarities\n",
    "noise = np.random.rand(n_samples, n_samples)\n",
    "noise = noise + noise.T\n",
    "noise[np.arange(noise.shape[0]), np.arange(noise.shape[0])] = 0\n",
    "# similarities += noise\n",
    "\n",
    "mds = manifold.MDS(n_components=2, max_iter=3000, eps=1e-9, random_state=seed, dissimilarity=\"precomputed\", n_jobs=1)\n",
    "pos = mds.fit(similarities).embedding_\n",
    "\n",
    "nmds = manifold.MDS(n_components=2, metric=False, max_iter=3000, eps=1e-12, dissimilarity=\"precomputed\", random_state=seed, n_jobs=1, n_init=1)\n",
    "npos = nmds.fit_transform(similarities, init=pos)\n",
    "\n",
    "# Rescale the data\n",
    "# pos *= np.sqrt((X_true ** 2).sum()) / np.sqrt((pos ** 2).sum())\n",
    "# npos *= np.sqrt((X_true ** 2).sum()) / np.sqrt((npos ** 2).sum())\n",
    "\n",
    "# Rotate the data\n",
    "clf = PCA(n_components=2)\n",
    "X_true = clf.fit_transform(X_true)\n",
    "\n",
    "pos = clf.fit_transform(pos)\n",
    "npos = clf.fit_transform(npos)\n",
    "\n",
    "fig = plt.figure(1)\n",
    "ax = plt.axes([0., 0., 1., 1.])\n",
    "\n",
    "s = 100\n",
    "plt.scatter(X_true[:, 0], X_true[:, 1], color='navy', s=s, lw=0, label='True Position')\n",
    "plt.scatter(pos[:, 0], pos[:, 1], color='turquoise', s=s, lw=0, label='MDS')\n",
    "plt.scatter(npos[:, 0], npos[:, 1], color='darkorange', s=s, lw=0, label='NMDS')\n",
    "plt.legend(scatterpoints=1, loc='best', shadow=False)\n",
    "similarities = similarities.max() / similarities * 100\n",
    "similarities[np.isinf(similarities)] = 0\n",
    "\n",
    "# Plot the edges\n",
    "start_idx, end_idx = np.where(pos)\n",
    "# a sequence of (*line0*, *line1*, *line2*), where::\n",
    "#            linen = (x0, y0), (x1, y1), ... (xm, ym)\n",
    "segments = [[X_true[i, :], X_true[j, :]]\n",
    "            for i in range(len(pos)) for j in range(len(pos))]\n",
    "values = np.abs(similarities)\n",
    "lc = LineCollection(segments, zorder=0, cmap=plt.cm.Blues, norm=plt.Normalize(0, values.max()))\n",
    "lc.set_array(similarities.flatten())\n",
    "lc.set_linewidths(np.full(len(segments), 0.5))\n",
    "ax.add_collection(lc)\n",
    "\n",
    "plt.show()\n",
    "\n",
    "from Bio.SeqIO import parse\n",
    "dist = []\n",
    "for rec in parse(\"assemblies/final.contigs.fa\",\"fasta\"): dist.append(len(rec.seq))\n",
    "dist = Series(dist)\n",
    "dist.plot.hist();\n",
    "print(dist.describe())\n",
    "\n",
    "dist.plot.bar();\n",
    "\n",
    "from GetOrfs import getOrfs\n",
    "\n",
    "counter = 0\n",
    "nfiles = 1\n",
    "fname = \"contigs2/%i.fasta\" % (counter)\n",
    "fh = open(\"contigs2/%i.fasta\" % (counter),\"w\")\n",
    "for rec in parse(\"/mnt/scratch/howead/glbrc/assembly/final.contigs.fa\",\"fasta\"): \n",
    "    write(rec,fh,\"fasta\")\n",
    "    counter+=1\n",
    "    if (counter % 5000 == 0):\n",
    "        fh.close()\n",
    "        getOrfs(fname)\n",
    "        nfiles+=1\n",
    "        fname = \"contigs2/%i.fasta\" % (counter)\n",
    "        fh = open(\"contigs2/%i.fasta\" % (counter),\"w\")\n",
    "fh.close()\n",
    "#pickle.dump(contigNames,open(\"SeqIDs.p\", \"wb\"))\n",
    "#contigNames = pickle.load(open(\"SeqIDs.p\", \"rb\"))\n",
    "#files = glob(\"bams/*.bam\")\n",
    "print(nfiles)\n",
    "\n",
    "%%bash\n",
    "ls -alh pickles/G5R3_NF_31MAY2016_LD1_counts.p\n",
    "\n",
    "import pickle\n",
    "files = glob(\"stats/*.tsv\")\n",
    "print (\"Number of files:\",len(files))\n",
    "smallFile = open(\"testFile.txt\",\"w\")\n",
    "\n",
    "for statFile in files:\n",
    "    counter = 0\n",
    "    readsFileName = statFile.replace(\"stats/\",\"\").replace(\".tsv\",\"\")\n",
    "    sampleMeta = metadata[metadata.index == readsFileName]\n",
    "    curSampleID = sampleMeta.nucleic_acid_name.values[0]\n",
    "\n",
    "    fname = \"pickles/%s_counts.p\" % (curSampleID)\n",
    "    fh = open(fname,\"rb\")\n",
    "    data = pickle.load(fh)\n",
    "    print(data)\n",
    "    break\n",
    "\n",
    "smallFile.close()\n",
    "\n",
    "from glob import glob\n",
    "from os import path\n",
    "sample_data = {}\n",
    "files = glob(\"stats/*.tsv\")\n",
    "print (\"Number of files:\",len(files))\n",
    "counter = 0\n",
    "for statFile in files:\n",
    "    readsFileName = statFile.replace(\"stats/\",\"\").replace(\".tsv\",\"\")\n",
    "    sampleMeta = metadata[metadata.index == readsFileName]\n",
    "    curSampleID = sampleMeta.nucleic_acid_name.values[0]\n",
    "    sample_data={}\n",
    "    counter+=1\n",
    "    print (\"%i. %s\" % (counter, curSampleID))\n",
    "#     if path.exists(\"pickles/%s_counts.p\" % (curSampleID)):continue#\n",
    "#     for line in open(statFile):\n",
    "#         rec = line.strip().split()\n",
    "#         sample_data[rec[0]] = int(rec[2]) #How can an unmapped read be connected to a contig?\n",
    "#     pickle.dump(sample_data,open(\"pickles/%s_counts.p\" % (curSampleID),\"wb\"))\n",
    "\n",
    "#Dimensional Reduction\n",
    "import numpy as np\n",
    "\n",
    "from matplotlib import pyplot as plt\n",
    "from matplotlib.collections import LineCollection\n",
    "from sklearn import manifold\n",
    "from sklearn.metrics import euclidean_distances\n",
    "from sklearn.decomposition import PCA\n",
    "\n",
    "\n",
    "\n",
    "\n",
    "def checkSkipRead(read,reads):\n",
    "    # 1. Read is unmapped\n",
    "    # 2. Read pair has already been seen \n",
    "    # 3. Read doesn't map well\n",
    "    return read.is_unmapped or read.qname in reads or read.mapping_quality <= 20\n",
    "\n",
    "count = 0\n",
    "\n",
    "for bamFileName in files:\n",
    "    contigCounter = contigNames.copy()\n",
    "    samfile = pysam.AlignmentFile(bamFileName, \"rb\")\n",
    "    readsFileName = bamFileName.replace(\"bams/\",\"\").replace(\".sorted.bam\",\"\")\n",
    "    print readsFileName\n",
    "    sampleMeta = metadata[metadata.index == readsFileName]\n",
    "    nuceID = sampleMeta.nucleic_acid_name.get_values()[0]\n",
    "    countsFile = open(\"counts/%s.txt\" % (nuceID),\"w\")\n",
    "    reads=set()\n",
    "    for read in samfile:\n",
    "        if checkSkipRead(read,reads):continue \n",
    "        reads.add(read.qname)\n",
    "    countsFile.close()\n",
    "    break\n",
    "print coninues\n",
    "\n",
    "print samFileName\n",
    "counter = 0\n",
    "for name in contigCounter:\n",
    "    print name, samfile.count(name)\n",
    "    counter +=1\n",
    "    if counter == 10: break\n",
    "\n",
    "print \"Number of unmapped\",unmapped\n",
    "print coninues-unmapped\n",
    "\n",
    "print read\n",
    "\n",
    "print read.reference_name\n",
    "print samFileName\n",
    "\n",
    "contname = contigNames.keys()[0]\n",
    "\n",
    "files = glob(\"stats/*.tsv\")\n",
    "sampleStats = {}\n",
    "for statFile in files:\n",
    "    sampleFileName = statFile.replace(\"stats/\",\"\").replace(\".tsv\",\"\")\n",
    "    sampleMeta = metadata[metadata.index == sampleFileName]\n",
    "    nuceID = sampleMeta.nucleic_acid_name.get_values()[0]\n",
    "    for line in open(statFile):\n",
    "        rec = line.strip().split()\n",
    "        contigNames[rec[0]] = int(rec[2])\n",
    "    sampleStats[nuceID] = contigNames\n",
    "import pickle\n",
    "pickle.dump(sampleStats,open(\"sampleCounts.p\",\"wb\"))\n",
    "\n",
    "help(samfile.count)\n",
    "\n",
    "counter = 0\n",
    "for id in metadata.index:\n",
    "    if '11505.2.209522.CACCTTA-GTAAGGT.fastq.gz' in id: \n",
    "        counter += 1\n",
    "        print id,\n",
    "        if counter % 2 == 0:print\n",
    "\n",
    "sampleMeta = metadata[metadata.index == readsFileName]\n",
    "sampleMeta.nucleic_acid_name.get_values()[0]\n",
    "\n",
    "samFileName\n",
    "\n",
    "rec.is_qcfail\n",
    "rec.is_read1\n",
    "dir(rec)\n",
    "\n",
    "print 10**(-(ord('3')-33)/10.0)\n",
    "print 10.0**(-(ord('3')-33.0)/10.0)\n",
    "print 10**(-(ord('3')-33)/10)\n",
    "print 10**(-(ord('3')-33.0)/10)\n",
    "\n",
    "%%bash\n",
    "pwd\n",
    "\n",
    "from glob import glob\n",
    "fh=open(\"CombinedStats.tsv\",\"w\")\n",
    "fh.write(\"Contig\")\n",
    "\n",
    "for fname in glob(\"stats/*.tsv\"):\n",
    "    print(fname)\n",
    "    readsFileName = fname.replace(\"stats/\",\"\").replace(\".tsv\",\"\")\n",
    "    sampleMeta = metadata[metadata.index == readsFileName]\n",
    "    curSampleID = sampleMeta.nucleic_acid_name.values[0]\n",
    "    fh.write(\"\\t\"+curSampleID)\n",
    "\n",
    "\n",
    "#Get the column identifier\n",
    "init_fname = \"stats/11425.3.206650.ACGGTCT-AAGACCG.fastq.gz.tsv\"\n",
    "for line in open(init_fname):\n",
    "    rec = line.strip().split()\n",
    "    fh.write(\"\\t\"+rec[0])\n",
    "fh.write(\"\\n\")\n",
    "\n",
    "#Read all the files\n",
    "for fname in glob(\"stats/*.tsv\"):\n",
    "    print(fname)\n",
    "    readsFileName = fname.replace(\"stats/\",\"\").replace(\".tsv\",\"\")\n",
    "    sampleMeta = metadata[metadata.index == readsFileName]\n",
    "    curSampleID = sampleMeta.nucleic_acid_name.values[0]\n",
    "    fh.write(curSampleID)\n",
    "    for line in open(fname):\n",
    "        rec = line.strip().split()\n",
    "        fh.write(\"\\t\"+rec[2])\n",
    "    fh.write(\"\\n\")\n",
    "fh.close()\n",
    "\n",
    "import linecache\n",
    "from glob import glob\n",
    "# fh = open(\"CombinedStats_T.tsv\",\"w\")\n",
    "# fh.write(\"\\t\")\n",
    "fileNames = glob(\"stats/*.tsv\")\n",
    "\n",
    "# #Write the header line\n",
    "# for fname in fileNames:\n",
    "#     readsFileName = fname.replace(\"stats/\",\"\").replace(\".tsv\",\"\")\n",
    "#     sampleMeta = metadata[metadata.index == readsFileName]\n",
    "#     curSampleID = sampleMeta.nucleic_acid_name.values[0]\n",
    "#     fh.write(\"\\t\"+curSampleID)\n",
    "# fh.write(\"\\n\")\n",
    "\n",
    "#get the row starters\n",
    "pres_abs = {}\n",
    "total_count =\n",
    "init_fname = \"stats/11425.3.206650.ACGGTCT-AAGACCG.fastq.gz.tsv\"\n",
    "for line in open(init_fname): rows.append(line.strip().split()[0])\n",
    "print(\"Done getting contig names\")\n",
    "fh = open(\"combined/CombinedStats_T%i.tsv\" % 0 ,\"w\")\n",
    "val={0:\"\"}\n",
    "for i in range(1,12301484):\n",
    "    print(i,end=\" \")\n",
    "    fh.write(rows[i-1])\n",
    "    for fname in fileNames: fh.write(\"\\t\"+linecache.getline(fname, i))\n",
    "    fh.write(\"\\n\")\n",
    "    try:\n",
    "        val[i %  5000] = 1\n",
    "        print(i,end=\" \")\n",
    "        fh.close()\n",
    "        fh = open(\"combined/CombinedStats_T%i.tsv\" % i ,\"w\")\n",
    "    except:pass\n",
    "        \n",
    "print(\"Done\")    \n",
    "\n",
    "# Presence absence\n",
    "\n",
    "from glob import glob\n",
    "import pickle\n",
    "fileNames = glob(\"stats/*.tsv\")\n",
    "presAbs,abundance = {},{}\n",
    "\n",
    "for fname in fileNames:\n",
    "    print(fname)\n",
    "    for line in open(fname): \n",
    "        rec = line.strip().split()\n",
    "        try:presAbs[rec[0]] += int(int(rec[2]) > 0)\n",
    "        except:presAbs[rec[0]] = int(int(rec[2]) > 0)\n",
    "        try:abundance[rec[0]] += int(rec[2])\n",
    "        except:abundance[rec[0]] = int(rec[2])\n",
    "\n",
    "pickle.dump(presAbs,open(\"presence_Absence.p\",\"wb\"))    \n",
    "pickle.dump(abundance,open(\"abundance.p\",\"wb\"))   \n",
    "print(\"Done\")\n",
    "\n",
    "dist.describe()\n",
    "\n",
    "dist_abu = []\n",
    "print(int(len(fileNames)*.7),len(fileNames))\n",
    "numSamples = float(len(fileNames))\n",
    "for contig, count in abundance.items(): dist_abu.append(count/numSamples)\n",
    "    \n",
    "from pandas import Series\n",
    "dist = Series(dist_abu)\n",
    "dist.plot.hist();\n",
    "dist.describe()\n",
    "\n",
    "dist.describe()\n",
    "\n",
    "#Combining Sample Counts\n",
    "\n",
    "allCounts = load(open(\"pickles/allCounts_genes.p\",\"rb\")) \n",
    "\n",
    "combined_abundance = {}\n",
    "for crop in set(metadata.type):\n",
    "    for date in set(metadata.sampling_date):\n",
    "        for treatment in set(metadata.treatment):\n",
    "            sampleGroupMeta = metadata.loc[(metadata.sampling_date==date) & (metadata.treatment==treatment) & (metadata.type == crop)]\n",
    "            groupName = \"%s_%s_%s\" % (crop,treatment.replace(\" \",\"\").replace(\"f\",\"F\"),date)\n",
    "            if len(sampleGroupMeta) == 0: continue\n",
    "            print(groupName)\n",
    "            combined_abundance[groupName]= {}\n",
    "            for sampleName in sampleGroupMeta.nucleic_acid_name:\n",
    "                #print(sampleName,len(allCounts[sampleName]))\n",
    "                for rec,count in allCounts[sampleName].items():\n",
    "                    try:combined_abundance[groupName][rec] += count\n",
    "                    except:combined_abundance[groupName][rec] = count\n",
    "allCounts = DataFrame(combined_abundance)\n",
    "allCounts[\"Average\"] = allCounts.sum(axis=1)/float(len(metadata.index))\n",
    "allCounts[\"Average\"].head()\n",
    "#allCounts.drop(\"Average\",axis=1,inplace=True)\n",
    "\n",
    "\n",
    "for fname in metadata.index:\n",
    "    sampMet = metadata[metadata.index == fname]\n",
    "    sampleID = sampMet.nucleic_acid_name.unique()[0]\n",
    "    #print(\"mv mapping/flagstats/%s.stat mapping/flagstats/%s.stat\" % (fname,sampleID))\n",
    "    \n",
    "    res = os.system(\"mv mapping/flagstats/%s.stat mapping/flagstats/%s.txt\" % (sampleID,sampleID))\n",
    "    print(fname,res)\n",
    "\n",
    "v= MultiqcModule()\n",
    "v = FlagstatReportMixin()\n",
    "v.parse_samtools_flagstats()\n",
    "\n",
    "from __future__ import print_function\n",
    "from collections import OrderedDict\n",
    "import logging\n",
    "import re\n",
    "\n",
    "from multiqc import config\n",
    "from multiqc.plots import bargraph\n",
    "from multiqc.modules.base_module import BaseMultiqcModule\n",
    "# from multiqc.utils import config as mqcConfig\n",
    "# def load_config():\n",
    "#     my_search_patterns = {\n",
    "#         'my_plugin/my_mod': {'fn': '*_somefile.txt'},\n",
    "#         'my_plugin/my_other_mod': {'fn': '*other_file.txt'},\n",
    "#     }\n",
    "#     mqcConfig.update_dict(config.sp, my_search_patterns)\n",
    "\n",
    "\n",
    "# Initialise the logger\n",
    "log = logging.getLogger(__name__)\n",
    "\n",
    "class MultiqcModule(BaseMultiqcModule):\n",
    "    \"\"\" Bowtie 2 module, parses stderr logs. \"\"\"\n",
    "\n",
    "    def __init__(self):\n",
    "\n",
    "        # Initialise the parent object\n",
    "        super(MultiqcModule, self).__init__(name=\"Bowtie 2\", anchor=\"stat\",\n",
    "        href='http://bowtie-bio.sourceforge.net/bowtie2/',\n",
    "        info=\"is an ultrafast and memory-efficient tool for aligning sequencing\"\\\n",
    "                \" reads to long reference sequences.\")\n",
    "\n",
    "        # Find and load any Bowtie 2 reports\n",
    "        self.bowtie2_data = dict()\n",
    "        self.num_se = 0\n",
    "        self.num_pe = 0\n",
    "        print(dir(self.find_log_files))\n",
    "        print(\"\")\n",
    "        print(help(self.find_log_files))\n",
    "        for f in self.find_log_files('mapping/flagstats', filehandles=True):\n",
    "            self.parse_bowtie2_logs(f)\n",
    "\n",
    "        # Filter to strip out ignored sample names\n",
    "        self.bowtie2_data = self.ignore_samples(self.bowtie2_data)\n",
    "\n",
    "        if len(self.bowtie2_data) == 0:\n",
    "            raise UserWarning\n",
    "\n",
    "        log.info(\"Found {} reports\".format(len(self.bowtie2_data)))\n",
    "\n",
    "        # Write parsed report data to a file\n",
    "        self.write_data_file(self.bowtie2_data, 'multiqc_bowtie2')\n",
    "\n",
    "        # Basic Stats Table\n",
    "        # Report table is immutable, so just updating it works\n",
    "        self.bowtie2_general_stats_table()\n",
    "\n",
    "        # Alignment Rate Plot\n",
    "        self.bowtie2_alignment_plot()\n",
    "\n",
    "\n",
    "    def parse_bowtie2_logs(self, f):\n",
    "        \"\"\"\n",
    "        Warning: This function may make you want to stab yourself.\n",
    "        Parse logs from bowtie2. These miss several key bits of information\n",
    "        such as input files, so we try to look for logs from other wrapper tools\n",
    "        that may have logged this info. If not found, we default to using the filename.\n",
    "        Note that concatenated logs only parse if we have the command printed in there.\n",
    "        The bowtie log uses the same strings mulitple times in different contexts to mean\n",
    "        different things, making parsing very messy. Handle with care.\n",
    "        Example single-end output from bowtie2:\n",
    "            Time loading reference: 00:00:08\n",
    "            Time loading forward index: 00:00:16\n",
    "            Time loading mirror index: 00:00:09\n",
    "            [samopen] SAM header is present: 25 sequences.\n",
    "            Multiseed full-index search: 00:58:04\n",
    "            38377305 reads; of these:\n",
    "              38377305 (100.00%) were unpaired; of these:\n",
    "                2525577 (6.58%) aligned 0 times\n",
    "                27593593 (71.90%) aligned exactly 1 time\n",
    "                8258135 (21.52%) aligned >1 times\n",
    "            93.42% overall alignment rate\n",
    "            Time searching: 00:58:37\n",
    "            Overall time: 00:58:37\n",
    "        Example paired-end output from bowtie2:\n",
    "            Time loading reference: 00:01:07\n",
    "            Time loading forward index: 00:00:26\n",
    "            Time loading mirror index: 00:00:09\n",
    "            Multiseed full-index search: 01:32:55\n",
    "            15066949 reads; of these:\n",
    "              15066949 (100.00%) were paired; of these:\n",
    "                516325 (3.43%) aligned concordantly 0 times\n",
    "                11294617 (74.96%) aligned concordantly exactly 1 time\n",
    "                3256007 (21.61%) aligned concordantly >1 times\n",
    "                ----\n",
    "                516325 pairs aligned concordantly 0 times; of these:\n",
    "                  26692 (5.17%) aligned discordantly 1 time\n",
    "                ----\n",
    "                489633 pairs aligned 0 times concordantly or discordantly; of these:\n",
    "                  979266 mates make up the pairs; of these:\n",
    "                    592900 (60.55%) aligned 0 times\n",
    "                    209206 (21.36%) aligned exactly 1 time\n",
    "                    177160 (18.09%) aligned >1 times\n",
    "            98.03% overall alignment rate\n",
    "            Time searching: 01:34:37\n",
    "            Overall time: 01:34:37\n",
    "        \"\"\"\n",
    "\n",
    "        # Regexes\n",
    "        regexes = {\n",
    "            'unpaired': {\n",
    "                'unpaired_aligned_none': r\"(\\d+) \\([\\d\\.]+%\\) aligned 0 times\",\n",
    "                'unpaired_aligned_one': r\"(\\d+) \\([\\d\\.]+%\\) aligned exactly 1 time\",\n",
    "                'unpaired_aligned_multi': r\"(\\d+) \\([\\d\\.]+%\\) aligned >1 times\"\n",
    "            },\n",
    "            'paired': {\n",
    "                'paired_aligned_none': r\"(\\d+) \\([\\d\\.]+%\\) aligned concordantly 0 times\",\n",
    "                'paired_aligned_one': r\"(\\d+) \\([\\d\\.]+%\\) aligned concordantly exactly 1 time\",\n",
    "                'paired_aligned_multi': r\"(\\d+) \\([\\d\\.]+%\\) aligned concordantly >1 times\",\n",
    "                'paired_aligned_discord_one': r\"(\\d+) \\([\\d\\.]+%\\) aligned discordantly 1 time\",\n",
    "                'paired_aligned_discord_multi': r\"(\\d+) \\([\\d\\.]+%\\) aligned discordantly >1 times\",\n",
    "                'paired_aligned_mate_one': r\"(\\d+) \\([\\d\\.]+%\\) aligned exactly 1 time\",\n",
    "                'paired_aligned_mate_multi': r\"(\\d+) \\([\\d\\.]+%\\) aligned >1 times\",\n",
    "                'paired_aligned_mate_none': r\"(\\d+) \\([\\d\\.]+%\\) aligned 0 times\"\n",
    "            }\n",
    "        }\n",
    "\n",
    "        # Go through log file line by line\n",
    "        s_name = f['s_name']\n",
    "        parsed_data = {}\n",
    "\n",
    "        for l in f['f']:\n",
    "            # Attempt in vain to find original bowtie2 command, logged by another program\n",
    "            btcmd = re.search(r\"bowtie2 .+ -[1U] ([^\\s,]+)\", l)\n",
    "            if btcmd:\n",
    "                s_name = self.clean_s_name(btcmd.group(1), f['root'])\n",
    "                log.debug(\"Found a bowtie2 command, updating sample name to '{}'\".format(s_name))\n",
    "\n",
    "            # Total reads\n",
    "            total = re.search(r\"(\\d+) reads; of these:\", l)\n",
    "            if total:\n",
    "                parsed_data['total_reads'] = int(total.group(1))\n",
    "\n",
    "            # Single end reads\n",
    "            unpaired = re.search(r\"(\\d+) \\([\\d\\.]+%\\) were unpaired; of these:\", l)\n",
    "            if unpaired:\n",
    "                parsed_data['unpaired_total'] = int(unpaired.group(1))\n",
    "                self.num_se += 1\n",
    "\n",
    "                # Do nested loop whilst we have this level of indentation\n",
    "                l = f['f'].readline()\n",
    "                while l.startswith('    '):\n",
    "                    for k, r in regexes['unpaired'].items():\n",
    "                        match = re.search(r, l)\n",
    "                        if match:\n",
    "                            parsed_data[k] = int(match.group(1))\n",
    "                    l = f['f'].readline()\n",
    "\n",
    "            # Paired end reads\n",
    "            paired = re.search(r\"(\\d+) \\([\\d\\.]+%\\) were paired; of these:\", l)\n",
    "            if paired:\n",
    "                parsed_data['paired_total'] = int(paired.group(1))\n",
    "                self.num_pe += 1\n",
    "\n",
    "                # Do nested loop whilst we have this level of indentation\n",
    "                l = f['f'].readline()\n",
    "                while l.startswith('    '):\n",
    "                    for k, r in regexes['paired'].items():\n",
    "                        match = re.search(r, l)\n",
    "                        if match:\n",
    "                            parsed_data[k] = int(match.group(1))\n",
    "                    l = f['f'].readline()\n",
    "\n",
    "            # Overall alignment rate\n",
    "            overall = re.search(r\"([\\d\\.]+)% overall alignment rate\", l)\n",
    "            if overall:\n",
    "                parsed_data['overall_alignment_rate'] = float(overall.group(1))\n",
    "\n",
    "                # End of log section\n",
    "                # Save half 'pairs' of mate counts\n",
    "                m_keys = ['paired_aligned_mate_multi', 'paired_aligned_mate_none', 'paired_aligned_mate_one']\n",
    "                for k in m_keys:\n",
    "                    if k in parsed_data:\n",
    "                        parsed_data['{}_halved'.format(k)] = float(parsed_data[k]) / 2.0\n",
    "                # Save parsed data\n",
    "                if s_name in self.bowtie2_data:\n",
    "                    log.debug(\"Duplicate sample name found! Overwriting: {}\".format(s_name))\n",
    "                self.add_data_source(f, s_name)\n",
    "                self.bowtie2_data[s_name] = parsed_data\n",
    "                # Reset in case we find more in this log file\n",
    "                s_name = f['s_name']\n",
    "                parsed_data = {}\n",
    "\n",
    "\n",
    "    def bowtie2_general_stats_table(self):\n",
    "        \"\"\" Take the parsed stats from the Bowtie 2 report and add it to the\n",
    "        basic stats table at the top of the report \"\"\"\n",
    "\n",
    "        headers = OrderedDict()\n",
    "        headers['overall_alignment_rate'] = {\n",
    "            'title': '% Aligned',\n",
    "            'description': 'overall alignment rate',\n",
    "            'max': 100,\n",
    "            'min': 0,\n",
    "            'suffix': '%',\n",
    "            'scale': 'YlGn'\n",
    "        }\n",
    "        self.general_stats_addcols(self.bowtie2_data, headers)\n",
    "\n",
    "    def bowtie2_alignment_plot (self):\n",
    "        \"\"\" Make the HighCharts HTML to plot the alignment rates \"\"\"\n",
    "\n",
    "        half_warning = ''\n",
    "        for s_name in self.bowtie2_data:\n",
    "            if 'paired_aligned_mate_one_halved' in self.bowtie2_data[s_name] or 'paired_aligned_mate_multi_halved' in self.bowtie2_data[s_name] or 'paired_aligned_mate_none_halved' in self.bowtie2_data[s_name]:\n",
    "                half_warning = '<em>Please note that single mate alignment counts are halved to tally with pair counts properly.</em>'\n",
    "        description_text = 'This plot shows the number of reads aligning to the reference in different ways.'\n",
    "\n",
    "        # Config for the plot\n",
    "        config = {\n",
    "            'ylab': '# Reads',\n",
    "            'cpswitch_counts_label': 'Number of Reads'\n",
    "        }\n",
    "\n",
    "        # Two plots, don't mix SE with PE\n",
    "        if self.num_se > 0:\n",
    "            sekeys = OrderedDict()\n",
    "            sekeys['unpaired_aligned_one'] = { 'color': '#20568f', 'name': 'SE mapped uniquely' }\n",
    "            sekeys['unpaired_aligned_multi'] = { 'color': '#f7a35c', 'name': 'SE multimapped' }\n",
    "            sekeys['unpaired_aligned_none'] = { 'color': '#981919', 'name': 'SE not aligned' }\n",
    "            config['id'] = 'bowtie2_se_plot'\n",
    "            config['title'] = 'Bowtie 2: SE Alignment Scores'\n",
    "            self.add_section(\n",
    "                description = description_text,\n",
    "                helptext = '''\n",
    "                There are 3 possible types of alignment:\n",
    "                * **SE Mapped uniquely**: Read has only one occurence in the reference genome.\n",
    "                * **SE Multimapped**: Read has multiple occurence.\n",
    "                * **SE No aligned**: Read has no occurence.\n",
    "                ''',\n",
    "                plot = bargraph.plot(self.bowtie2_data, sekeys, config)\n",
    "            )\n",
    "\n",
    "        if self.num_pe > 0:\n",
    "            pekeys = OrderedDict()\n",
    "            pekeys['paired_aligned_one'] = { 'color': '#20568f', 'name': 'PE mapped uniquely' }\n",
    "            pekeys['paired_aligned_discord_one'] = { 'color': '#5c94ca', 'name': 'PE mapped discordantly uniquely' }\n",
    "            pekeys['paired_aligned_mate_one_halved'] = { 'color': '#95ceff', 'name': 'PE one mate mapped uniquely' }\n",
    "            pekeys['paired_aligned_multi'] = { 'color': '#f7a35c', 'name': 'PE multimapped' }\n",
    "            pekeys['paired_aligned_discord_multi'] = { 'color': '#dce333', 'name': 'PE discordantly multimapped' }\n",
    "            pekeys['paired_aligned_mate_multi_halved'] = { 'color': '#ffeb75', 'name': 'PE one mate multimapped' }\n",
    "            pekeys['paired_aligned_mate_none_halved'] = { 'color': '#981919', 'name': 'PE neither mate aligned' }\n",
    "            config['id'] = 'bowtie2_pe_plot'\n",
    "            config['title'] = 'Bowtie 2: PE Alignment Scores'\n",
    "            self.add_section(\n",
    "                description = \"<br>\".join([description_text,half_warning]),\n",
    "                helptext = '''\n",
    "                There are 6 possible types of alignment:\n",
    "                * **PE mapped uniquely**: Pair has only one occurence in the reference genome.\n",
    "                * **PE mapped discordantly uniquely**: Pair has only one occurence but not in proper pair.\n",
    "                * **PE one mate mapped uniquely**: One read of a pair has one occurence.\n",
    "                * **PE multimapped**: Pair has multiple occurence.\n",
    "                * **PE one mate multimapped**: One read of a pair has multiple occurence.\n",
    "                * **PE neither mate aligned**: Pair has no occurence.\n",
    "                ''',\n",
    "                plot = bargraph.plot(self.bowtie2_data, pekeys, config)\n",
    "            )\n",
    "\n",
    "# fh = open(\"figures/metadata.html\",\"w\")\n",
    "# fh.write(metadata.head(25).to_html())\n",
    "# fh.close()\n",
    "#A custom function to help us find the raw fastq files\n",
    "from glob import glob\n",
    "rawFastqFiles = glob('jgi_transfer/metaT_raw/*/Raw_Data/*')\n",
    "\n",
    "def lookupFSTQ(name,rawFastqFiles):\n",
    "    fastqName = ''\n",
    "    found = False\n",
    "    for fastqName in rawFastqFiles:\n",
    "        if name in fastqName: \n",
    "            found = True\n",
    "            break\n",
    "    if found:\n",
    "        rawFastqFiles.remove(fastqName)\n",
    "        return fastqName -->"
   ]
  }
 ],
 "metadata": {
  "kernelspec": {
   "display_name": "Python 3",
   "language": "python",
   "name": "python3"
  },
  "language_info": {
   "codemirror_mode": {
    "name": "ipython",
    "version": 3
   },
   "file_extension": ".py",
   "mimetype": "text/x-python",
   "name": "python",
   "nbconvert_exporter": "python",
   "pygments_lexer": "ipython3",
   "version": "3.7.4"
  },
  "widgets": {
   "application/vnd.jupyter.widget-state+json": {
    "state": {
     "0cdddcc18bc24249a7150fdec37b2296": {
      "model_module": "@jupyter-widgets/base",
      "model_module_version": "1.2.0",
      "model_name": "LayoutModel",
      "state": {}
     },
     "0db249d93e9943758a503f5db44920d4": {
      "model_module": "@jupyter-widgets/base",
      "model_module_version": "1.2.0",
      "model_name": "LayoutModel",
      "state": {}
     },
     "2d4a3e7bf750499aa0d94b8effab641f": {
      "model_module": "@jupyter-widgets/controls",
      "model_module_version": "1.5.0",
      "model_name": "VBoxModel",
      "state": {
       "_dom_classes": [
        "widget-interact"
       ],
       "children": [
        "IPY_MODEL_d20e8b80f0c144f6bbd941926cd40f7a",
        "IPY_MODEL_89a782cd44e9400da4814ec5c0e2de1f",
        "IPY_MODEL_d43fa669897640c5b85925b3079e432c"
       ],
       "layout": "IPY_MODEL_8386a67142cc40aba0856b65506ef39b"
      }
     },
     "31728ecd2a884bc892b8dd0ed852603e": {
      "model_module": "@jupyter-widgets/base",
      "model_module_version": "1.2.0",
      "model_name": "LayoutModel",
      "state": {}
     },
     "4169e40cfbf546d88653adf284378b3b": {
      "model_module": "@jupyter-widgets/base",
      "model_module_version": "1.2.0",
      "model_name": "LayoutModel",
      "state": {}
     },
     "465e947eddbf4298a5cca474b51c86a0": {
      "model_module": "@jupyter-widgets/controls",
      "model_module_version": "1.5.0",
      "model_name": "DescriptionStyleModel",
      "state": {
       "description_width": ""
      }
     },
     "47758a44585d40d4ad40a51536cc80fc": {
      "model_module": "@jupyter-widgets/controls",
      "model_module_version": "1.5.0",
      "model_name": "DropdownModel",
      "state": {
       "_options_labels": [
        "Switchgrass & Miscanthus",
        "Switchgrass",
        "Miscanthus"
       ],
       "description": "Host_Plant",
       "index": 0,
       "layout": "IPY_MODEL_bd5addfb6f48416b990fc1a825d0f9dc",
       "style": "IPY_MODEL_465e947eddbf4298a5cca474b51c86a0"
      }
     },
     "4b08699cbc8e454aa23d477470854853": {
      "model_module": "@jupyter-widgets/output",
      "model_module_version": "1.0.0",
      "model_name": "OutputModel",
      "state": {
       "layout": "IPY_MODEL_0cdddcc18bc24249a7150fdec37b2296",
       "outputs": [
        {
         "data": {
          "application/vnd.plotly.v1+json": {
           "config": {
            "linkText": "Export to plot.ly",
            "plotlyServerURL": "https://plot.ly",
            "showLink": true
           },
           "data": [
            {
             "line": {
              "color": "rgba(255, 153, 51, 1.0)",
              "dash": "solid",
              "shape": "linear",
              "width": 1.3
             },
             "mode": "lines",
             "name": "G5R1_MAIN",
             "text": "",
             "type": "scatter",
             "x": [
              "2016-05-09",
              "2016-05-31",
              "2016-06-20",
              "2016-07-12",
              "2016-08-01",
              "2016-08-22",
              "2016-09-12",
              "2016-10-03",
              "2016-11-07"
             ],
             "y": [
              73.46,
              87.81,
              77.82,
              88.09,
              82.4,
              73.38,
              42.27,
              19.82,
              ""
             ]
            },
            {
             "line": {
              "color": "rgba(55, 128, 191, 1.0)",
              "dash": "solid",
              "shape": "linear",
              "width": 1.3
             },
             "mode": "lines",
             "name": "G5R1_NF",
             "text": "",
             "type": "scatter",
             "x": [
              "2016-05-09",
              "2016-05-31",
              "2016-06-20",
              "2016-07-12",
              "2016-08-01",
              "2016-08-22",
              "2016-09-12",
              "2016-10-03",
              "2016-11-07"
             ],
             "y": [
              37.16,
              87.65,
              86.61,
              87.65,
              82.15,
              75.96,
              61.53,
              32.84,
              ""
             ]
            },
            {
             "line": {
              "color": "rgba(50, 171, 96, 1.0)",
              "dash": "solid",
              "shape": "linear",
              "width": 1.3
             },
             "mode": "lines",
             "name": "G5R2_MAIN",
             "text": "",
             "type": "scatter",
             "x": [
              "2016-05-09",
              "2016-05-31",
              "2016-06-20",
              "2016-07-12",
              "2016-08-01",
              "2016-08-22",
              "2016-09-12",
              "2016-10-03",
              "2016-11-07"
             ],
             "y": [
              43.02,
              88.29,
              88.04,
              88.65,
              78.43,
              69.45,
              65.95,
              23.52,
              ""
             ]
            },
            {
             "line": {
              "color": "rgba(128, 0, 128, 1.0)",
              "dash": "solid",
              "shape": "linear",
              "width": 1.3
             },
             "mode": "lines",
             "name": "G5R2_NF",
             "text": "",
             "type": "scatter",
             "x": [
              "2016-05-09",
              "2016-05-31",
              "2016-06-20",
              "2016-07-12",
              "2016-08-01",
              "2016-08-22",
              "2016-09-12",
              "2016-10-03",
              "2016-11-07"
             ],
             "y": [
              61.07,
              88.12,
              87.78,
              87.96,
              84.58,
              79.02,
              57.81,
              29.27,
              ""
             ]
            },
            {
             "line": {
              "color": "rgba(219, 64, 82, 1.0)",
              "dash": "solid",
              "shape": "linear",
              "width": 1.3
             },
             "mode": "lines",
             "name": "G5R3_MAIN",
             "text": "",
             "type": "scatter",
             "x": [
              "2016-05-09",
              "2016-05-31",
              "2016-06-20",
              "2016-07-12",
              "2016-08-01",
              "2016-08-22",
              "2016-09-12",
              "2016-10-03",
              "2016-11-07"
             ],
             "y": [
              84.41,
              88.3,
              88.48,
              88.14,
              81.65,
              52,
              55.23,
              16.95,
              ""
             ]
            },
            {
             "line": {
              "color": "rgba(0, 128, 128, 1.0)",
              "dash": "solid",
              "shape": "linear",
              "width": 1.3
             },
             "mode": "lines",
             "name": "G5R3_NF",
             "text": "",
             "type": "scatter",
             "x": [
              "2016-05-09",
              "2016-05-31",
              "2016-06-20",
              "2016-07-12",
              "2016-08-01",
              "2016-08-22",
              "2016-09-12",
              "2016-10-03",
              "2016-11-07"
             ],
             "y": [
              80.7,
              87.5,
              81.38,
              87.92,
              82.23,
              60.95,
              47.96,
              55.85,
              ""
             ]
            },
            {
             "line": {
              "color": "rgba(255, 255, 51, 1.0)",
              "dash": "solid",
              "shape": "linear",
              "width": 1.3
             },
             "mode": "lines",
             "name": "G5R4_MAIN",
             "text": "",
             "type": "scatter",
             "x": [
              "2016-05-09",
              "2016-05-31",
              "2016-06-20",
              "2016-07-12",
              "2016-08-01",
              "2016-08-22",
              "2016-09-12",
              "2016-10-03",
              "2016-11-07"
             ],
             "y": [
              85.16,
              88.47,
              86.83,
              86.08,
              80.67,
              62.04,
              35.27,
              24.99,
              ""
             ]
            },
            {
             "line": {
              "color": "rgba(128, 128, 0, 1.0)",
              "dash": "solid",
              "shape": "linear",
              "width": 1.3
             },
             "mode": "lines",
             "name": "G5R4_NF",
             "text": "",
             "type": "scatter",
             "x": [
              "2016-05-09",
              "2016-05-31",
              "2016-06-20",
              "2016-07-12",
              "2016-08-01",
              "2016-08-22",
              "2016-09-12",
              "2016-10-03",
              "2016-11-07"
             ],
             "y": [
              79.73,
              87.97,
              87.94,
              84.76,
              84.25,
              78.15,
              52.3,
              10.73,
              ""
             ]
            },
            {
             "line": {
              "color": "rgba(251, 128, 114, 1.0)",
              "dash": "solid",
              "shape": "linear",
              "width": 1.3
             },
             "mode": "lines",
             "name": "G6R1_MAIN",
             "text": "",
             "type": "scatter",
             "x": [
              "2016-05-09",
              "2016-05-31",
              "2016-06-20",
              "2016-07-12",
              "2016-08-01",
              "2016-08-22",
              "2016-09-12",
              "2016-10-03",
              "2016-11-07"
             ],
             "y": [
              85.88,
              86,
              86.14,
              83.61,
              82.98,
              80.3,
              77.05,
              82.58,
              18.58
             ]
            },
            {
             "line": {
              "color": "rgba(128, 177, 211, 1.0)",
              "dash": "solid",
              "shape": "linear",
              "width": 1.3
             },
             "mode": "lines",
             "name": "G6R1_NF",
             "text": "",
             "type": "scatter",
             "x": [
              "2016-05-09",
              "2016-05-31",
              "2016-06-20",
              "2016-07-12",
              "2016-08-01",
              "2016-08-22",
              "2016-09-12",
              "2016-10-03",
              "2016-11-07"
             ],
             "y": [
              86.57,
              85.65,
              85.51,
              85.63,
              84.32,
              81.46,
              72.38,
              75.2,
              24.89
             ]
            },
            {
             "line": {
              "color": "rgba(128, 177, 211, 0.8999999999999999)",
              "dash": "solid",
              "shape": "linear",
              "width": 1.3
             },
             "mode": "lines",
             "name": "G6R2_MAIN",
             "text": "",
             "type": "scatter",
             "x": [
              "2016-05-09",
              "2016-05-31",
              "2016-06-20",
              "2016-07-12",
              "2016-08-01",
              "2016-08-22",
              "2016-09-12",
              "2016-10-03",
              "2016-11-07"
             ],
             "y": [
              86.06,
              85.91,
              85.41,
              85.62,
              82.29,
              79.22,
              78.51,
              70.74,
              52.97
             ]
            },
            {
             "line": {
              "color": "rgba(255, 153, 51, 0.8999999999999999)",
              "dash": "solid",
              "shape": "linear",
              "width": 1.3
             },
             "mode": "lines",
             "name": "G6R2_NF",
             "text": "",
             "type": "scatter",
             "x": [
              "2016-05-09",
              "2016-05-31",
              "2016-06-20",
              "2016-07-12",
              "2016-08-01",
              "2016-08-22",
              "2016-09-12",
              "2016-10-03",
              "2016-11-07"
             ],
             "y": [
              86.22,
              86.3,
              85.47,
              85.86,
              83.35,
              80.98,
              80.18,
              75.81,
              28.51
             ]
            },
            {
             "line": {
              "color": "rgba(55, 128, 191, 0.8999999999999999)",
              "dash": "solid",
              "shape": "linear",
              "width": 1.3
             },
             "mode": "lines",
             "name": "G6R3_MAIN",
             "text": "",
             "type": "scatter",
             "x": [
              "2016-05-09",
              "2016-05-31",
              "2016-06-20",
              "2016-07-12",
              "2016-08-01",
              "2016-08-22",
              "2016-09-12",
              "2016-10-03",
              "2016-11-07"
             ],
             "y": [
              86.34,
              85.16,
              85.86,
              86.07,
              84.67,
              79.46,
              73.95,
              77.79,
              51.38
             ]
            },
            {
             "line": {
              "color": "rgba(50, 171, 96, 0.8999999999999999)",
              "dash": "solid",
              "shape": "linear",
              "width": 1.3
             },
             "mode": "lines",
             "name": "G6R3_NF",
             "text": "",
             "type": "scatter",
             "x": [
              "2016-05-09",
              "2016-05-31",
              "2016-06-20",
              "2016-07-12",
              "2016-08-01",
              "2016-08-22",
              "2016-09-12",
              "2016-10-03",
              "2016-11-07"
             ],
             "y": [
              86.58,
              85.55,
              84.6,
              84.78,
              77.96,
              79.41,
              79.43,
              82.11,
              41.43
             ]
            },
            {
             "line": {
              "color": "rgba(128, 0, 128, 0.8999999999999999)",
              "dash": "solid",
              "shape": "linear",
              "width": 1.3
             },
             "mode": "lines",
             "name": "G6R4_MAIN",
             "text": "",
             "type": "scatter",
             "x": [
              "2016-05-09",
              "2016-05-31",
              "2016-06-20",
              "2016-07-12",
              "2016-08-01",
              "2016-08-22",
              "2016-09-12",
              "2016-10-03",
              "2016-11-07"
             ],
             "y": [
              86.36,
              84.24,
              81.91,
              85.15,
              80.62,
              78,
              69.66,
              72.75,
              26.19
             ]
            },
            {
             "line": {
              "color": "rgba(219, 64, 82, 0.8999999999999999)",
              "dash": "solid",
              "shape": "linear",
              "width": 1.3
             },
             "mode": "lines",
             "name": "G6R4_NF",
             "text": "",
             "type": "scatter",
             "x": [
              "2016-05-09",
              "2016-05-31",
              "2016-06-20",
              "2016-07-12",
              "2016-08-01",
              "2016-08-22",
              "2016-09-12",
              "2016-10-03",
              "2016-11-07"
             ],
             "y": [
              86.98,
              85.77,
              83.87,
              85,
              81.26,
              80.3,
              79.05,
              67.6,
              30.18
             ]
            }
           ],
           "layout": {
            "autosize": true,
            "legend": {
             "bgcolor": "#F5F6F9",
             "font": {
              "color": "#4D5663"
             }
            },
            "paper_bgcolor": "#F5F6F9",
            "plot_bgcolor": "#F5F6F9",
            "template": {
             "data": {
              "bar": [
               {
                "error_x": {
                 "color": "#2a3f5f"
                },
                "error_y": {
                 "color": "#2a3f5f"
                },
                "marker": {
                 "line": {
                  "color": "#E5ECF6",
                  "width": 0.5
                 }
                },
                "type": "bar"
               }
              ],
              "barpolar": [
               {
                "marker": {
                 "line": {
                  "color": "#E5ECF6",
                  "width": 0.5
                 }
                },
                "type": "barpolar"
               }
              ],
              "carpet": [
               {
                "aaxis": {
                 "endlinecolor": "#2a3f5f",
                 "gridcolor": "white",
                 "linecolor": "white",
                 "minorgridcolor": "white",
                 "startlinecolor": "#2a3f5f"
                },
                "baxis": {
                 "endlinecolor": "#2a3f5f",
                 "gridcolor": "white",
                 "linecolor": "white",
                 "minorgridcolor": "white",
                 "startlinecolor": "#2a3f5f"
                },
                "type": "carpet"
               }
              ],
              "choropleth": [
               {
                "colorbar": {
                 "outlinewidth": 0,
                 "ticks": ""
                },
                "type": "choropleth"
               }
              ],
              "contour": [
               {
                "colorbar": {
                 "outlinewidth": 0,
                 "ticks": ""
                },
                "colorscale": [
                 [
                  0,
                  "#0d0887"
                 ],
                 [
                  0.1111111111111111,
                  "#46039f"
                 ],
                 [
                  0.2222222222222222,
                  "#7201a8"
                 ],
                 [
                  0.3333333333333333,
                  "#9c179e"
                 ],
                 [
                  0.4444444444444444,
                  "#bd3786"
                 ],
                 [
                  0.5555555555555556,
                  "#d8576b"
                 ],
                 [
                  0.6666666666666666,
                  "#ed7953"
                 ],
                 [
                  0.7777777777777778,
                  "#fb9f3a"
                 ],
                 [
                  0.8888888888888888,
                  "#fdca26"
                 ],
                 [
                  1,
                  "#f0f921"
                 ]
                ],
                "type": "contour"
               }
              ],
              "contourcarpet": [
               {
                "colorbar": {
                 "outlinewidth": 0,
                 "ticks": ""
                },
                "type": "contourcarpet"
               }
              ],
              "heatmap": [
               {
                "colorbar": {
                 "outlinewidth": 0,
                 "ticks": ""
                },
                "colorscale": [
                 [
                  0,
                  "#0d0887"
                 ],
                 [
                  0.1111111111111111,
                  "#46039f"
                 ],
                 [
                  0.2222222222222222,
                  "#7201a8"
                 ],
                 [
                  0.3333333333333333,
                  "#9c179e"
                 ],
                 [
                  0.4444444444444444,
                  "#bd3786"
                 ],
                 [
                  0.5555555555555556,
                  "#d8576b"
                 ],
                 [
                  0.6666666666666666,
                  "#ed7953"
                 ],
                 [
                  0.7777777777777778,
                  "#fb9f3a"
                 ],
                 [
                  0.8888888888888888,
                  "#fdca26"
                 ],
                 [
                  1,
                  "#f0f921"
                 ]
                ],
                "type": "heatmap"
               }
              ],
              "heatmapgl": [
               {
                "colorbar": {
                 "outlinewidth": 0,
                 "ticks": ""
                },
                "colorscale": [
                 [
                  0,
                  "#0d0887"
                 ],
                 [
                  0.1111111111111111,
                  "#46039f"
                 ],
                 [
                  0.2222222222222222,
                  "#7201a8"
                 ],
                 [
                  0.3333333333333333,
                  "#9c179e"
                 ],
                 [
                  0.4444444444444444,
                  "#bd3786"
                 ],
                 [
                  0.5555555555555556,
                  "#d8576b"
                 ],
                 [
                  0.6666666666666666,
                  "#ed7953"
                 ],
                 [
                  0.7777777777777778,
                  "#fb9f3a"
                 ],
                 [
                  0.8888888888888888,
                  "#fdca26"
                 ],
                 [
                  1,
                  "#f0f921"
                 ]
                ],
                "type": "heatmapgl"
               }
              ],
              "histogram": [
               {
                "marker": {
                 "colorbar": {
                  "outlinewidth": 0,
                  "ticks": ""
                 }
                },
                "type": "histogram"
               }
              ],
              "histogram2d": [
               {
                "colorbar": {
                 "outlinewidth": 0,
                 "ticks": ""
                },
                "colorscale": [
                 [
                  0,
                  "#0d0887"
                 ],
                 [
                  0.1111111111111111,
                  "#46039f"
                 ],
                 [
                  0.2222222222222222,
                  "#7201a8"
                 ],
                 [
                  0.3333333333333333,
                  "#9c179e"
                 ],
                 [
                  0.4444444444444444,
                  "#bd3786"
                 ],
                 [
                  0.5555555555555556,
                  "#d8576b"
                 ],
                 [
                  0.6666666666666666,
                  "#ed7953"
                 ],
                 [
                  0.7777777777777778,
                  "#fb9f3a"
                 ],
                 [
                  0.8888888888888888,
                  "#fdca26"
                 ],
                 [
                  1,
                  "#f0f921"
                 ]
                ],
                "type": "histogram2d"
               }
              ],
              "histogram2dcontour": [
               {
                "colorbar": {
                 "outlinewidth": 0,
                 "ticks": ""
                },
                "colorscale": [
                 [
                  0,
                  "#0d0887"
                 ],
                 [
                  0.1111111111111111,
                  "#46039f"
                 ],
                 [
                  0.2222222222222222,
                  "#7201a8"
                 ],
                 [
                  0.3333333333333333,
                  "#9c179e"
                 ],
                 [
                  0.4444444444444444,
                  "#bd3786"
                 ],
                 [
                  0.5555555555555556,
                  "#d8576b"
                 ],
                 [
                  0.6666666666666666,
                  "#ed7953"
                 ],
                 [
                  0.7777777777777778,
                  "#fb9f3a"
                 ],
                 [
                  0.8888888888888888,
                  "#fdca26"
                 ],
                 [
                  1,
                  "#f0f921"
                 ]
                ],
                "type": "histogram2dcontour"
               }
              ],
              "mesh3d": [
               {
                "colorbar": {
                 "outlinewidth": 0,
                 "ticks": ""
                },
                "type": "mesh3d"
               }
              ],
              "parcoords": [
               {
                "line": {
                 "colorbar": {
                  "outlinewidth": 0,
                  "ticks": ""
                 }
                },
                "type": "parcoords"
               }
              ],
              "pie": [
               {
                "automargin": true,
                "type": "pie"
               }
              ],
              "scatter": [
               {
                "marker": {
                 "colorbar": {
                  "outlinewidth": 0,
                  "ticks": ""
                 }
                },
                "type": "scatter"
               }
              ],
              "scatter3d": [
               {
                "line": {
                 "colorbar": {
                  "outlinewidth": 0,
                  "ticks": ""
                 }
                },
                "marker": {
                 "colorbar": {
                  "outlinewidth": 0,
                  "ticks": ""
                 }
                },
                "type": "scatter3d"
               }
              ],
              "scattercarpet": [
               {
                "marker": {
                 "colorbar": {
                  "outlinewidth": 0,
                  "ticks": ""
                 }
                },
                "type": "scattercarpet"
               }
              ],
              "scattergeo": [
               {
                "marker": {
                 "colorbar": {
                  "outlinewidth": 0,
                  "ticks": ""
                 }
                },
                "type": "scattergeo"
               }
              ],
              "scattergl": [
               {
                "marker": {
                 "colorbar": {
                  "outlinewidth": 0,
                  "ticks": ""
                 }
                },
                "type": "scattergl"
               }
              ],
              "scattermapbox": [
               {
                "marker": {
                 "colorbar": {
                  "outlinewidth": 0,
                  "ticks": ""
                 }
                },
                "type": "scattermapbox"
               }
              ],
              "scatterpolar": [
               {
                "marker": {
                 "colorbar": {
                  "outlinewidth": 0,
                  "ticks": ""
                 }
                },
                "type": "scatterpolar"
               }
              ],
              "scatterpolargl": [
               {
                "marker": {
                 "colorbar": {
                  "outlinewidth": 0,
                  "ticks": ""
                 }
                },
                "type": "scatterpolargl"
               }
              ],
              "scatterternary": [
               {
                "marker": {
                 "colorbar": {
                  "outlinewidth": 0,
                  "ticks": ""
                 }
                },
                "type": "scatterternary"
               }
              ],
              "surface": [
               {
                "colorbar": {
                 "outlinewidth": 0,
                 "ticks": ""
                },
                "colorscale": [
                 [
                  0,
                  "#0d0887"
                 ],
                 [
                  0.1111111111111111,
                  "#46039f"
                 ],
                 [
                  0.2222222222222222,
                  "#7201a8"
                 ],
                 [
                  0.3333333333333333,
                  "#9c179e"
                 ],
                 [
                  0.4444444444444444,
                  "#bd3786"
                 ],
                 [
                  0.5555555555555556,
                  "#d8576b"
                 ],
                 [
                  0.6666666666666666,
                  "#ed7953"
                 ],
                 [
                  0.7777777777777778,
                  "#fb9f3a"
                 ],
                 [
                  0.8888888888888888,
                  "#fdca26"
                 ],
                 [
                  1,
                  "#f0f921"
                 ]
                ],
                "type": "surface"
               }
              ],
              "table": [
               {
                "cells": {
                 "fill": {
                  "color": "#EBF0F8"
                 },
                 "line": {
                  "color": "white"
                 }
                },
                "header": {
                 "fill": {
                  "color": "#C8D4E3"
                 },
                 "line": {
                  "color": "white"
                 }
                },
                "type": "table"
               }
              ]
             },
             "layout": {
              "annotationdefaults": {
               "arrowcolor": "#2a3f5f",
               "arrowhead": 0,
               "arrowwidth": 1
              },
              "coloraxis": {
               "colorbar": {
                "outlinewidth": 0,
                "ticks": ""
               }
              },
              "colorscale": {
               "diverging": [
                [
                 0,
                 "#8e0152"
                ],
                [
                 0.1,
                 "#c51b7d"
                ],
                [
                 0.2,
                 "#de77ae"
                ],
                [
                 0.3,
                 "#f1b6da"
                ],
                [
                 0.4,
                 "#fde0ef"
                ],
                [
                 0.5,
                 "#f7f7f7"
                ],
                [
                 0.6,
                 "#e6f5d0"
                ],
                [
                 0.7,
                 "#b8e186"
                ],
                [
                 0.8,
                 "#7fbc41"
                ],
                [
                 0.9,
                 "#4d9221"
                ],
                [
                 1,
                 "#276419"
                ]
               ],
               "sequential": [
                [
                 0,
                 "#0d0887"
                ],
                [
                 0.1111111111111111,
                 "#46039f"
                ],
                [
                 0.2222222222222222,
                 "#7201a8"
                ],
                [
                 0.3333333333333333,
                 "#9c179e"
                ],
                [
                 0.4444444444444444,
                 "#bd3786"
                ],
                [
                 0.5555555555555556,
                 "#d8576b"
                ],
                [
                 0.6666666666666666,
                 "#ed7953"
                ],
                [
                 0.7777777777777778,
                 "#fb9f3a"
                ],
                [
                 0.8888888888888888,
                 "#fdca26"
                ],
                [
                 1,
                 "#f0f921"
                ]
               ],
               "sequentialminus": [
                [
                 0,
                 "#0d0887"
                ],
                [
                 0.1111111111111111,
                 "#46039f"
                ],
                [
                 0.2222222222222222,
                 "#7201a8"
                ],
                [
                 0.3333333333333333,
                 "#9c179e"
                ],
                [
                 0.4444444444444444,
                 "#bd3786"
                ],
                [
                 0.5555555555555556,
                 "#d8576b"
                ],
                [
                 0.6666666666666666,
                 "#ed7953"
                ],
                [
                 0.7777777777777778,
                 "#fb9f3a"
                ],
                [
                 0.8888888888888888,
                 "#fdca26"
                ],
                [
                 1,
                 "#f0f921"
                ]
               ]
              },
              "colorway": [
               "#636efa",
               "#EF553B",
               "#00cc96",
               "#ab63fa",
               "#FFA15A",
               "#19d3f3",
               "#FF6692",
               "#B6E880",
               "#FF97FF",
               "#FECB52"
              ],
              "font": {
               "color": "#2a3f5f"
              },
              "geo": {
               "bgcolor": "white",
               "lakecolor": "white",
               "landcolor": "#E5ECF6",
               "showlakes": true,
               "showland": true,
               "subunitcolor": "white"
              },
              "hoverlabel": {
               "align": "left"
              },
              "hovermode": "closest",
              "mapbox": {
               "style": "light"
              },
              "paper_bgcolor": "white",
              "plot_bgcolor": "#E5ECF6",
              "polar": {
               "angularaxis": {
                "gridcolor": "white",
                "linecolor": "white",
                "ticks": ""
               },
               "bgcolor": "#E5ECF6",
               "radialaxis": {
                "gridcolor": "white",
                "linecolor": "white",
                "ticks": ""
               }
              },
              "scene": {
               "xaxis": {
                "backgroundcolor": "#E5ECF6",
                "gridcolor": "white",
                "gridwidth": 2,
                "linecolor": "white",
                "showbackground": true,
                "ticks": "",
                "zerolinecolor": "white"
               },
               "yaxis": {
                "backgroundcolor": "#E5ECF6",
                "gridcolor": "white",
                "gridwidth": 2,
                "linecolor": "white",
                "showbackground": true,
                "ticks": "",
                "zerolinecolor": "white"
               },
               "zaxis": {
                "backgroundcolor": "#E5ECF6",
                "gridcolor": "white",
                "gridwidth": 2,
                "linecolor": "white",
                "showbackground": true,
                "ticks": "",
                "zerolinecolor": "white"
               }
              },
              "shapedefaults": {
               "line": {
                "color": "#2a3f5f"
               }
              },
              "ternary": {
               "aaxis": {
                "gridcolor": "white",
                "linecolor": "white",
                "ticks": ""
               },
               "baxis": {
                "gridcolor": "white",
                "linecolor": "white",
                "ticks": ""
               },
               "bgcolor": "#E5ECF6",
               "caxis": {
                "gridcolor": "white",
                "linecolor": "white",
                "ticks": ""
               }
              },
              "title": {
               "x": 0.05
              },
              "xaxis": {
               "automargin": true,
               "gridcolor": "white",
               "linecolor": "white",
               "ticks": "",
               "title": {
                "standoff": 15
               },
               "zerolinecolor": "white",
               "zerolinewidth": 2
              },
              "yaxis": {
               "automargin": true,
               "gridcolor": "white",
               "linecolor": "white",
               "ticks": "",
               "title": {
                "standoff": 15
               },
               "zerolinecolor": "white",
               "zerolinewidth": 2
              }
             }
            },
            "title": {
             "font": {
              "color": "#4D5663"
             },
             "text": "% Reads Aligning to Respective Plant Host Assembly G5=Switchgrass G6=Miscanthus"
            },
            "xaxis": {
             "autorange": true,
             "gridcolor": "#E1E5ED",
             "range": [
              "2016-05-09",
              "2016-11-07"
             ],
             "showgrid": true,
             "tickfont": {
              "color": "#4D5663"
             },
             "title": {
              "font": {
               "color": "#4D5663"
              },
              "text": ""
             },
             "type": "date",
             "zerolinecolor": "#E1E5ED"
            },
            "yaxis": {
             "autorange": true,
             "gridcolor": "#E1E5ED",
             "range": [
              6.401111111111112,
              92.97888888888889
             ],
             "showgrid": true,
             "tickfont": {
              "color": "#4D5663"
             },
             "title": {
              "font": {
               "color": "#4D5663"
              },
              "text": ""
             },
             "type": "linear",
             "zerolinecolor": "#E1E5ED"
            }
           }
          },
          "text/html": "<div>\n        \n        \n            <div id=\"59c09250-3b77-46fe-85ea-885ed57e0cc5\" class=\"plotly-graph-div\" style=\"height:525px; width:100%;\"></div>\n            <script type=\"text/javascript\">\n                require([\"plotly\"], function(Plotly) {\n                    window.PLOTLYENV=window.PLOTLYENV || {};\n                    window.PLOTLYENV.BASE_URL='https://plot.ly';\n                    \n                if (document.getElementById(\"59c09250-3b77-46fe-85ea-885ed57e0cc5\")) {\n                    Plotly.newPlot(\n                        '59c09250-3b77-46fe-85ea-885ed57e0cc5',\n                        [{\"line\": {\"color\": \"rgba(255, 153, 51, 1.0)\", \"dash\": \"solid\", \"shape\": \"linear\", \"width\": 1.3}, \"mode\": \"lines\", \"name\": \"G5R1_MAIN\", \"text\": \"\", \"type\": \"scatter\", \"x\": [\"2016-05-09\", \"2016-05-31\", \"2016-06-20\", \"2016-07-12\", \"2016-08-01\", \"2016-08-22\", \"2016-09-12\", \"2016-10-03\", \"2016-11-07\"], \"y\": [73.46, 87.81, 77.82, 88.09, 82.4, 73.38, 42.27, 19.82, \"\"]}, {\"line\": {\"color\": \"rgba(55, 128, 191, 1.0)\", \"dash\": \"solid\", \"shape\": \"linear\", \"width\": 1.3}, \"mode\": \"lines\", \"name\": \"G5R1_NF\", \"text\": \"\", \"type\": \"scatter\", \"x\": [\"2016-05-09\", \"2016-05-31\", \"2016-06-20\", \"2016-07-12\", \"2016-08-01\", \"2016-08-22\", \"2016-09-12\", \"2016-10-03\", \"2016-11-07\"], \"y\": [37.16, 87.65, 86.61, 87.65, 82.15, 75.96, 61.53, 32.84, \"\"]}, {\"line\": {\"color\": \"rgba(50, 171, 96, 1.0)\", \"dash\": \"solid\", \"shape\": \"linear\", \"width\": 1.3}, \"mode\": \"lines\", \"name\": \"G5R2_MAIN\", \"text\": \"\", \"type\": \"scatter\", \"x\": [\"2016-05-09\", \"2016-05-31\", \"2016-06-20\", \"2016-07-12\", \"2016-08-01\", \"2016-08-22\", \"2016-09-12\", \"2016-10-03\", \"2016-11-07\"], \"y\": [43.02, 88.29, 88.04, 88.65, 78.43, 69.45, 65.95, 23.52, \"\"]}, {\"line\": {\"color\": \"rgba(128, 0, 128, 1.0)\", \"dash\": \"solid\", \"shape\": \"linear\", \"width\": 1.3}, \"mode\": \"lines\", \"name\": \"G5R2_NF\", \"text\": \"\", \"type\": \"scatter\", \"x\": [\"2016-05-09\", \"2016-05-31\", \"2016-06-20\", \"2016-07-12\", \"2016-08-01\", \"2016-08-22\", \"2016-09-12\", \"2016-10-03\", \"2016-11-07\"], \"y\": [61.07, 88.12, 87.78, 87.96, 84.58, 79.02, 57.81, 29.27, \"\"]}, {\"line\": {\"color\": \"rgba(219, 64, 82, 1.0)\", \"dash\": \"solid\", \"shape\": \"linear\", \"width\": 1.3}, \"mode\": \"lines\", \"name\": \"G5R3_MAIN\", \"text\": \"\", \"type\": \"scatter\", \"x\": [\"2016-05-09\", \"2016-05-31\", \"2016-06-20\", \"2016-07-12\", \"2016-08-01\", \"2016-08-22\", \"2016-09-12\", \"2016-10-03\", \"2016-11-07\"], \"y\": [84.41, 88.3, 88.48, 88.14, 81.65, 52.0, 55.23, 16.95, \"\"]}, {\"line\": {\"color\": \"rgba(0, 128, 128, 1.0)\", \"dash\": \"solid\", \"shape\": \"linear\", \"width\": 1.3}, \"mode\": \"lines\", \"name\": \"G5R3_NF\", \"text\": \"\", \"type\": \"scatter\", \"x\": [\"2016-05-09\", \"2016-05-31\", \"2016-06-20\", \"2016-07-12\", \"2016-08-01\", \"2016-08-22\", \"2016-09-12\", \"2016-10-03\", \"2016-11-07\"], \"y\": [80.7, 87.5, 81.38, 87.92, 82.23, 60.95, 47.96, 55.85, \"\"]}, {\"line\": {\"color\": \"rgba(255, 255, 51, 1.0)\", \"dash\": \"solid\", \"shape\": \"linear\", \"width\": 1.3}, \"mode\": \"lines\", \"name\": \"G5R4_MAIN\", \"text\": \"\", \"type\": \"scatter\", \"x\": [\"2016-05-09\", \"2016-05-31\", \"2016-06-20\", \"2016-07-12\", \"2016-08-01\", \"2016-08-22\", \"2016-09-12\", \"2016-10-03\", \"2016-11-07\"], \"y\": [85.16, 88.47, 86.83, 86.08, 80.67, 62.04, 35.27, 24.99, \"\"]}, {\"line\": {\"color\": \"rgba(128, 128, 0, 1.0)\", \"dash\": \"solid\", \"shape\": \"linear\", \"width\": 1.3}, \"mode\": \"lines\", \"name\": \"G5R4_NF\", \"text\": \"\", \"type\": \"scatter\", \"x\": [\"2016-05-09\", \"2016-05-31\", \"2016-06-20\", \"2016-07-12\", \"2016-08-01\", \"2016-08-22\", \"2016-09-12\", \"2016-10-03\", \"2016-11-07\"], \"y\": [79.73, 87.97, 87.94, 84.76, 84.25, 78.15, 52.3, 10.73, \"\"]}, {\"line\": {\"color\": \"rgba(251, 128, 114, 1.0)\", \"dash\": \"solid\", \"shape\": \"linear\", \"width\": 1.3}, \"mode\": \"lines\", \"name\": \"G6R1_MAIN\", \"text\": \"\", \"type\": \"scatter\", \"x\": [\"2016-05-09\", \"2016-05-31\", \"2016-06-20\", \"2016-07-12\", \"2016-08-01\", \"2016-08-22\", \"2016-09-12\", \"2016-10-03\", \"2016-11-07\"], \"y\": [85.88, 86.0, 86.14, 83.61, 82.98, 80.3, 77.05, 82.58, 18.58]}, {\"line\": {\"color\": \"rgba(128, 177, 211, 1.0)\", \"dash\": \"solid\", \"shape\": \"linear\", \"width\": 1.3}, \"mode\": \"lines\", \"name\": \"G6R1_NF\", \"text\": \"\", \"type\": \"scatter\", \"x\": [\"2016-05-09\", \"2016-05-31\", \"2016-06-20\", \"2016-07-12\", \"2016-08-01\", \"2016-08-22\", \"2016-09-12\", \"2016-10-03\", \"2016-11-07\"], \"y\": [86.57, 85.65, 85.51, 85.63, 84.32, 81.46, 72.38, 75.2, 24.89]}, {\"line\": {\"color\": \"rgba(128, 177, 211, 0.8999999999999999)\", \"dash\": \"solid\", \"shape\": \"linear\", \"width\": 1.3}, \"mode\": \"lines\", \"name\": \"G6R2_MAIN\", \"text\": \"\", \"type\": \"scatter\", \"x\": [\"2016-05-09\", \"2016-05-31\", \"2016-06-20\", \"2016-07-12\", \"2016-08-01\", \"2016-08-22\", \"2016-09-12\", \"2016-10-03\", \"2016-11-07\"], \"y\": [86.06, 85.91, 85.41, 85.62, 82.29, 79.22, 78.51, 70.74, 52.97]}, {\"line\": {\"color\": \"rgba(255, 153, 51, 0.8999999999999999)\", \"dash\": \"solid\", \"shape\": \"linear\", \"width\": 1.3}, \"mode\": \"lines\", \"name\": \"G6R2_NF\", \"text\": \"\", \"type\": \"scatter\", \"x\": [\"2016-05-09\", \"2016-05-31\", \"2016-06-20\", \"2016-07-12\", \"2016-08-01\", \"2016-08-22\", \"2016-09-12\", \"2016-10-03\", \"2016-11-07\"], \"y\": [86.22, 86.3, 85.47, 85.86, 83.35, 80.98, 80.18, 75.81, 28.51]}, {\"line\": {\"color\": \"rgba(55, 128, 191, 0.8999999999999999)\", \"dash\": \"solid\", \"shape\": \"linear\", \"width\": 1.3}, \"mode\": \"lines\", \"name\": \"G6R3_MAIN\", \"text\": \"\", \"type\": \"scatter\", \"x\": [\"2016-05-09\", \"2016-05-31\", \"2016-06-20\", \"2016-07-12\", \"2016-08-01\", \"2016-08-22\", \"2016-09-12\", \"2016-10-03\", \"2016-11-07\"], \"y\": [86.34, 85.16, 85.86, 86.07, 84.67, 79.46, 73.95, 77.79, 51.38]}, {\"line\": {\"color\": \"rgba(50, 171, 96, 0.8999999999999999)\", \"dash\": \"solid\", \"shape\": \"linear\", \"width\": 1.3}, \"mode\": \"lines\", \"name\": \"G6R3_NF\", \"text\": \"\", \"type\": \"scatter\", \"x\": [\"2016-05-09\", \"2016-05-31\", \"2016-06-20\", \"2016-07-12\", \"2016-08-01\", \"2016-08-22\", \"2016-09-12\", \"2016-10-03\", \"2016-11-07\"], \"y\": [86.58, 85.55, 84.6, 84.78, 77.96, 79.41, 79.43, 82.11, 41.43]}, {\"line\": {\"color\": \"rgba(128, 0, 128, 0.8999999999999999)\", \"dash\": \"solid\", \"shape\": \"linear\", \"width\": 1.3}, \"mode\": \"lines\", \"name\": \"G6R4_MAIN\", \"text\": \"\", \"type\": \"scatter\", \"x\": [\"2016-05-09\", \"2016-05-31\", \"2016-06-20\", \"2016-07-12\", \"2016-08-01\", \"2016-08-22\", \"2016-09-12\", \"2016-10-03\", \"2016-11-07\"], \"y\": [86.36, 84.24, 81.91, 85.15, 80.62, 78.0, 69.66, 72.75, 26.19]}, {\"line\": {\"color\": \"rgba(219, 64, 82, 0.8999999999999999)\", \"dash\": \"solid\", \"shape\": \"linear\", \"width\": 1.3}, \"mode\": \"lines\", \"name\": \"G6R4_NF\", \"text\": \"\", \"type\": \"scatter\", \"x\": [\"2016-05-09\", \"2016-05-31\", \"2016-06-20\", \"2016-07-12\", \"2016-08-01\", \"2016-08-22\", \"2016-09-12\", \"2016-10-03\", \"2016-11-07\"], \"y\": [86.98, 85.77, 83.87, 85.0, 81.26, 80.3, 79.05, 67.6, 30.18]}],\n                        {\"legend\": {\"bgcolor\": \"#F5F6F9\", \"font\": {\"color\": \"#4D5663\"}}, \"paper_bgcolor\": \"#F5F6F9\", \"plot_bgcolor\": \"#F5F6F9\", \"template\": {\"data\": {\"bar\": [{\"error_x\": {\"color\": \"#2a3f5f\"}, \"error_y\": {\"color\": \"#2a3f5f\"}, \"marker\": {\"line\": {\"color\": \"#E5ECF6\", \"width\": 0.5}}, \"type\": \"bar\"}], \"barpolar\": [{\"marker\": {\"line\": {\"color\": \"#E5ECF6\", \"width\": 0.5}}, \"type\": \"barpolar\"}], \"carpet\": [{\"aaxis\": {\"endlinecolor\": \"#2a3f5f\", \"gridcolor\": \"white\", \"linecolor\": \"white\", \"minorgridcolor\": \"white\", \"startlinecolor\": \"#2a3f5f\"}, \"baxis\": {\"endlinecolor\": \"#2a3f5f\", \"gridcolor\": \"white\", \"linecolor\": \"white\", \"minorgridcolor\": \"white\", \"startlinecolor\": \"#2a3f5f\"}, \"type\": \"carpet\"}], \"choropleth\": [{\"colorbar\": {\"outlinewidth\": 0, \"ticks\": \"\"}, \"type\": \"choropleth\"}], \"contour\": [{\"colorbar\": {\"outlinewidth\": 0, \"ticks\": \"\"}, \"colorscale\": [[0.0, \"#0d0887\"], [0.1111111111111111, \"#46039f\"], [0.2222222222222222, \"#7201a8\"], [0.3333333333333333, \"#9c179e\"], [0.4444444444444444, \"#bd3786\"], [0.5555555555555556, \"#d8576b\"], [0.6666666666666666, \"#ed7953\"], [0.7777777777777778, \"#fb9f3a\"], [0.8888888888888888, \"#fdca26\"], [1.0, \"#f0f921\"]], \"type\": \"contour\"}], \"contourcarpet\": [{\"colorbar\": {\"outlinewidth\": 0, \"ticks\": \"\"}, \"type\": \"contourcarpet\"}], \"heatmap\": [{\"colorbar\": {\"outlinewidth\": 0, \"ticks\": \"\"}, \"colorscale\": [[0.0, \"#0d0887\"], [0.1111111111111111, \"#46039f\"], [0.2222222222222222, \"#7201a8\"], [0.3333333333333333, \"#9c179e\"], [0.4444444444444444, \"#bd3786\"], [0.5555555555555556, \"#d8576b\"], [0.6666666666666666, \"#ed7953\"], [0.7777777777777778, \"#fb9f3a\"], [0.8888888888888888, \"#fdca26\"], [1.0, \"#f0f921\"]], \"type\": \"heatmap\"}], \"heatmapgl\": [{\"colorbar\": {\"outlinewidth\": 0, \"ticks\": \"\"}, \"colorscale\": [[0.0, \"#0d0887\"], [0.1111111111111111, \"#46039f\"], [0.2222222222222222, \"#7201a8\"], [0.3333333333333333, \"#9c179e\"], [0.4444444444444444, \"#bd3786\"], [0.5555555555555556, \"#d8576b\"], [0.6666666666666666, \"#ed7953\"], [0.7777777777777778, \"#fb9f3a\"], [0.8888888888888888, \"#fdca26\"], [1.0, \"#f0f921\"]], \"type\": \"heatmapgl\"}], \"histogram\": [{\"marker\": {\"colorbar\": {\"outlinewidth\": 0, \"ticks\": \"\"}}, \"type\": \"histogram\"}], \"histogram2d\": [{\"colorbar\": {\"outlinewidth\": 0, \"ticks\": \"\"}, \"colorscale\": [[0.0, \"#0d0887\"], [0.1111111111111111, \"#46039f\"], [0.2222222222222222, \"#7201a8\"], [0.3333333333333333, \"#9c179e\"], [0.4444444444444444, \"#bd3786\"], [0.5555555555555556, \"#d8576b\"], [0.6666666666666666, \"#ed7953\"], [0.7777777777777778, \"#fb9f3a\"], [0.8888888888888888, \"#fdca26\"], [1.0, \"#f0f921\"]], \"type\": \"histogram2d\"}], \"histogram2dcontour\": [{\"colorbar\": {\"outlinewidth\": 0, \"ticks\": \"\"}, \"colorscale\": [[0.0, \"#0d0887\"], [0.1111111111111111, \"#46039f\"], [0.2222222222222222, \"#7201a8\"], [0.3333333333333333, \"#9c179e\"], [0.4444444444444444, \"#bd3786\"], [0.5555555555555556, \"#d8576b\"], [0.6666666666666666, \"#ed7953\"], [0.7777777777777778, \"#fb9f3a\"], [0.8888888888888888, \"#fdca26\"], [1.0, \"#f0f921\"]], \"type\": \"histogram2dcontour\"}], \"mesh3d\": [{\"colorbar\": {\"outlinewidth\": 0, \"ticks\": \"\"}, \"type\": \"mesh3d\"}], \"parcoords\": [{\"line\": {\"colorbar\": {\"outlinewidth\": 0, \"ticks\": \"\"}}, \"type\": \"parcoords\"}], \"pie\": [{\"automargin\": true, \"type\": \"pie\"}], \"scatter\": [{\"marker\": {\"colorbar\": {\"outlinewidth\": 0, \"ticks\": \"\"}}, \"type\": \"scatter\"}], \"scatter3d\": [{\"line\": {\"colorbar\": {\"outlinewidth\": 0, \"ticks\": \"\"}}, \"marker\": {\"colorbar\": {\"outlinewidth\": 0, \"ticks\": \"\"}}, \"type\": \"scatter3d\"}], \"scattercarpet\": [{\"marker\": {\"colorbar\": {\"outlinewidth\": 0, \"ticks\": \"\"}}, \"type\": \"scattercarpet\"}], \"scattergeo\": [{\"marker\": {\"colorbar\": {\"outlinewidth\": 0, \"ticks\": \"\"}}, \"type\": \"scattergeo\"}], \"scattergl\": [{\"marker\": {\"colorbar\": {\"outlinewidth\": 0, \"ticks\": \"\"}}, \"type\": \"scattergl\"}], \"scattermapbox\": [{\"marker\": {\"colorbar\": {\"outlinewidth\": 0, \"ticks\": \"\"}}, \"type\": \"scattermapbox\"}], \"scatterpolar\": [{\"marker\": {\"colorbar\": {\"outlinewidth\": 0, \"ticks\": \"\"}}, \"type\": \"scatterpolar\"}], \"scatterpolargl\": [{\"marker\": {\"colorbar\": {\"outlinewidth\": 0, \"ticks\": \"\"}}, \"type\": \"scatterpolargl\"}], \"scatterternary\": [{\"marker\": {\"colorbar\": {\"outlinewidth\": 0, \"ticks\": \"\"}}, \"type\": \"scatterternary\"}], \"surface\": [{\"colorbar\": {\"outlinewidth\": 0, \"ticks\": \"\"}, \"colorscale\": [[0.0, \"#0d0887\"], [0.1111111111111111, \"#46039f\"], [0.2222222222222222, \"#7201a8\"], [0.3333333333333333, \"#9c179e\"], [0.4444444444444444, \"#bd3786\"], [0.5555555555555556, \"#d8576b\"], [0.6666666666666666, \"#ed7953\"], [0.7777777777777778, \"#fb9f3a\"], [0.8888888888888888, \"#fdca26\"], [1.0, \"#f0f921\"]], \"type\": \"surface\"}], \"table\": [{\"cells\": {\"fill\": {\"color\": \"#EBF0F8\"}, \"line\": {\"color\": \"white\"}}, \"header\": {\"fill\": {\"color\": \"#C8D4E3\"}, \"line\": {\"color\": \"white\"}}, \"type\": \"table\"}]}, \"layout\": {\"annotationdefaults\": {\"arrowcolor\": \"#2a3f5f\", \"arrowhead\": 0, \"arrowwidth\": 1}, \"coloraxis\": {\"colorbar\": {\"outlinewidth\": 0, \"ticks\": \"\"}}, \"colorscale\": {\"diverging\": [[0, \"#8e0152\"], [0.1, \"#c51b7d\"], [0.2, \"#de77ae\"], [0.3, \"#f1b6da\"], [0.4, \"#fde0ef\"], [0.5, \"#f7f7f7\"], [0.6, \"#e6f5d0\"], [0.7, \"#b8e186\"], [0.8, \"#7fbc41\"], [0.9, \"#4d9221\"], [1, \"#276419\"]], \"sequential\": [[0.0, \"#0d0887\"], [0.1111111111111111, \"#46039f\"], [0.2222222222222222, \"#7201a8\"], [0.3333333333333333, \"#9c179e\"], [0.4444444444444444, \"#bd3786\"], [0.5555555555555556, \"#d8576b\"], [0.6666666666666666, \"#ed7953\"], [0.7777777777777778, \"#fb9f3a\"], [0.8888888888888888, \"#fdca26\"], [1.0, \"#f0f921\"]], \"sequentialminus\": [[0.0, \"#0d0887\"], [0.1111111111111111, \"#46039f\"], [0.2222222222222222, \"#7201a8\"], [0.3333333333333333, \"#9c179e\"], [0.4444444444444444, \"#bd3786\"], [0.5555555555555556, \"#d8576b\"], [0.6666666666666666, \"#ed7953\"], [0.7777777777777778, \"#fb9f3a\"], [0.8888888888888888, \"#fdca26\"], [1.0, \"#f0f921\"]]}, \"colorway\": [\"#636efa\", \"#EF553B\", \"#00cc96\", \"#ab63fa\", \"#FFA15A\", \"#19d3f3\", \"#FF6692\", \"#B6E880\", \"#FF97FF\", \"#FECB52\"], \"font\": {\"color\": \"#2a3f5f\"}, \"geo\": {\"bgcolor\": \"white\", \"lakecolor\": \"white\", \"landcolor\": \"#E5ECF6\", \"showlakes\": true, \"showland\": true, \"subunitcolor\": \"white\"}, \"hoverlabel\": {\"align\": \"left\"}, \"hovermode\": \"closest\", \"mapbox\": {\"style\": \"light\"}, \"paper_bgcolor\": \"white\", \"plot_bgcolor\": \"#E5ECF6\", \"polar\": {\"angularaxis\": {\"gridcolor\": \"white\", \"linecolor\": \"white\", \"ticks\": \"\"}, \"bgcolor\": \"#E5ECF6\", \"radialaxis\": {\"gridcolor\": \"white\", \"linecolor\": \"white\", \"ticks\": \"\"}}, \"scene\": {\"xaxis\": {\"backgroundcolor\": \"#E5ECF6\", \"gridcolor\": \"white\", \"gridwidth\": 2, \"linecolor\": \"white\", \"showbackground\": true, \"ticks\": \"\", \"zerolinecolor\": \"white\"}, \"yaxis\": {\"backgroundcolor\": \"#E5ECF6\", \"gridcolor\": \"white\", \"gridwidth\": 2, \"linecolor\": \"white\", \"showbackground\": true, \"ticks\": \"\", \"zerolinecolor\": \"white\"}, \"zaxis\": {\"backgroundcolor\": \"#E5ECF6\", \"gridcolor\": \"white\", \"gridwidth\": 2, \"linecolor\": \"white\", \"showbackground\": true, \"ticks\": \"\", \"zerolinecolor\": \"white\"}}, \"shapedefaults\": {\"line\": {\"color\": \"#2a3f5f\"}}, \"ternary\": {\"aaxis\": {\"gridcolor\": \"white\", \"linecolor\": \"white\", \"ticks\": \"\"}, \"baxis\": {\"gridcolor\": \"white\", \"linecolor\": \"white\", \"ticks\": \"\"}, \"bgcolor\": \"#E5ECF6\", \"caxis\": {\"gridcolor\": \"white\", \"linecolor\": \"white\", \"ticks\": \"\"}}, \"title\": {\"x\": 0.05}, \"xaxis\": {\"automargin\": true, \"gridcolor\": \"white\", \"linecolor\": \"white\", \"ticks\": \"\", \"title\": {\"standoff\": 15}, \"zerolinecolor\": \"white\", \"zerolinewidth\": 2}, \"yaxis\": {\"automargin\": true, \"gridcolor\": \"white\", \"linecolor\": \"white\", \"ticks\": \"\", \"title\": {\"standoff\": 15}, \"zerolinecolor\": \"white\", \"zerolinewidth\": 2}}}, \"title\": {\"font\": {\"color\": \"#4D5663\"}, \"text\": \"% Reads Aligning to Respective Plant Host Assembly G5=Switchgrass G6=Miscanthus\"}, \"xaxis\": {\"gridcolor\": \"#E1E5ED\", \"showgrid\": true, \"tickfont\": {\"color\": \"#4D5663\"}, \"title\": {\"font\": {\"color\": \"#4D5663\"}, \"text\": \"\"}, \"zerolinecolor\": \"#E1E5ED\"}, \"yaxis\": {\"gridcolor\": \"#E1E5ED\", \"showgrid\": true, \"tickfont\": {\"color\": \"#4D5663\"}, \"title\": {\"font\": {\"color\": \"#4D5663\"}, \"text\": \"\"}, \"zerolinecolor\": \"#E1E5ED\"}},\n                        {\"showLink\": true, \"linkText\": \"Export to plot.ly\", \"plotlyServerURL\": \"https://plot.ly\", \"responsive\": true}\n                    ).then(function(){\n                            \nvar gd = document.getElementById('59c09250-3b77-46fe-85ea-885ed57e0cc5');\nvar x = new MutationObserver(function (mutations, observer) {{\n        var display = window.getComputedStyle(gd).display;\n        if (!display || display === 'none') {{\n            console.log([gd, 'removed!']);\n            Plotly.purge(gd);\n            observer.disconnect();\n        }}\n}});\n\n// Listen for the removal of the full notebook cells\nvar notebookContainer = gd.closest('#notebook-container');\nif (notebookContainer) {{\n    x.observe(notebookContainer, {childList: true});\n}}\n\n// Listen for the clearing of the current output cell\nvar outputEl = gd.closest('.output');\nif (outputEl) {{\n    x.observe(outputEl, {childList: true});\n}}\n\n                        })\n                };\n                });\n            </script>\n        </div>"
         },
         "metadata": {},
         "output_type": "display_data"
        }
       ]
      }
     },
     "5a174d6aba7a43df8b12975c46b569d1": {
      "model_module": "@jupyter-widgets/controls",
      "model_module_version": "1.5.0",
      "model_name": "DropdownModel",
      "state": {
       "_options_labels": [
        "One",
        "Five",
        "Ten"
       ],
       "description": "number",
       "index": 0,
       "layout": "IPY_MODEL_c7038c336e054aed9f4a34d336c34d5f",
       "style": "IPY_MODEL_877eb2a847d0471cae087fa4e8638bdd"
      }
     },
     "7eb85ea55b874ee7aa255b98dc87a0eb": {
      "model_module": "@jupyter-widgets/base",
      "model_module_version": "1.2.0",
      "model_name": "LayoutModel",
      "state": {}
     },
     "8386a67142cc40aba0856b65506ef39b": {
      "model_module": "@jupyter-widgets/base",
      "model_module_version": "1.2.0",
      "model_name": "LayoutModel",
      "state": {}
     },
     "877eb2a847d0471cae087fa4e8638bdd": {
      "model_module": "@jupyter-widgets/controls",
      "model_module_version": "1.5.0",
      "model_name": "DescriptionStyleModel",
      "state": {
       "description_width": ""
      }
     },
     "89a782cd44e9400da4814ec5c0e2de1f": {
      "model_module": "@jupyter-widgets/controls",
      "model_module_version": "1.5.0",
      "model_name": "DropdownModel",
      "state": {
       "_options_labels": [
        "Percentage",
        "Count"
       ],
       "description": "By",
       "index": 0,
       "layout": "IPY_MODEL_7eb85ea55b874ee7aa255b98dc87a0eb",
       "style": "IPY_MODEL_be5c8c847bf34491b698e115eff66fc9"
      }
     },
     "9493bf51ea2347a79f65b164cb4ed34e": {
      "model_module": "@jupyter-widgets/controls",
      "model_module_version": "1.5.0",
      "model_name": "TextModel",
      "state": {
       "description": "name",
       "layout": "IPY_MODEL_ca114ee05603425d99c4b1be33ddd964",
       "style": "IPY_MODEL_cd5a6951674c4143a2b17e1914e13782",
       "value": "Sam"
      }
     },
     "9fecb5369c6d4cfa884e8ed17da6e85a": {
      "model_module": "@jupyter-widgets/output",
      "model_module_version": "1.0.0",
      "model_name": "OutputModel",
      "state": {
       "layout": "IPY_MODEL_b32359ce2ad54b88a75d25f4377e5b7f",
       "outputs": [
        {
         "data": {
          "text/plain": "'Sam has 1 friends!'"
         },
         "metadata": {},
         "output_type": "display_data"
        }
       ]
      }
     },
     "a181d78f023b47418069ed1e29beddc1": {
      "model_module": "@jupyter-widgets/base",
      "model_module_version": "1.2.0",
      "model_name": "LayoutModel",
      "state": {}
     },
     "a53e9f437e7b4b9fbc5c6c2aeffec176": {
      "model_module": "@jupyter-widgets/base",
      "model_module_version": "1.2.0",
      "model_name": "LayoutModel",
      "state": {}
     },
     "ac27cd1b49994643b05dcec973434794": {
      "model_module": "@jupyter-widgets/controls",
      "model_module_version": "1.5.0",
      "model_name": "DropdownModel",
      "state": {
       "_options_labels": [
        "Percentage",
        "Count"
       ],
       "description": "By",
       "index": 0,
       "layout": "IPY_MODEL_4169e40cfbf546d88653adf284378b3b",
       "style": "IPY_MODEL_dc83d3b95d614025b250c1c6a9342f58"
      }
     },
     "ac3d55eb6be6475788dfa0b915fff133": {
      "model_module": "@jupyter-widgets/controls",
      "model_module_version": "1.5.0",
      "model_name": "VBoxModel",
      "state": {
       "_dom_classes": [
        "widget-interact"
       ],
       "children": [
        "IPY_MODEL_9493bf51ea2347a79f65b164cb4ed34e",
        "IPY_MODEL_5a174d6aba7a43df8b12975c46b569d1",
        "IPY_MODEL_9fecb5369c6d4cfa884e8ed17da6e85a"
       ],
       "layout": "IPY_MODEL_a53e9f437e7b4b9fbc5c6c2aeffec176"
      }
     },
     "ae9c60225dac4461911045b60efe122e": {
      "model_module": "@jupyter-widgets/controls",
      "model_module_version": "1.5.0",
      "model_name": "VBoxModel",
      "state": {
       "_dom_classes": [
        "widget-interact"
       ],
       "children": [
        "IPY_MODEL_47758a44585d40d4ad40a51536cc80fc",
        "IPY_MODEL_ac27cd1b49994643b05dcec973434794",
        "IPY_MODEL_4b08699cbc8e454aa23d477470854853"
       ],
       "layout": "IPY_MODEL_a181d78f023b47418069ed1e29beddc1"
      }
     },
     "b32359ce2ad54b88a75d25f4377e5b7f": {
      "model_module": "@jupyter-widgets/base",
      "model_module_version": "1.2.0",
      "model_name": "LayoutModel",
      "state": {}
     },
     "bd5addfb6f48416b990fc1a825d0f9dc": {
      "model_module": "@jupyter-widgets/base",
      "model_module_version": "1.2.0",
      "model_name": "LayoutModel",
      "state": {}
     },
     "be5c8c847bf34491b698e115eff66fc9": {
      "model_module": "@jupyter-widgets/controls",
      "model_module_version": "1.5.0",
      "model_name": "DescriptionStyleModel",
      "state": {
       "description_width": ""
      }
     },
     "c7038c336e054aed9f4a34d336c34d5f": {
      "model_module": "@jupyter-widgets/base",
      "model_module_version": "1.2.0",
      "model_name": "LayoutModel",
      "state": {}
     },
     "ca114ee05603425d99c4b1be33ddd964": {
      "model_module": "@jupyter-widgets/base",
      "model_module_version": "1.2.0",
      "model_name": "LayoutModel",
      "state": {}
     },
     "cd5a6951674c4143a2b17e1914e13782": {
      "model_module": "@jupyter-widgets/controls",
      "model_module_version": "1.5.0",
      "model_name": "DescriptionStyleModel",
      "state": {
       "description_width": ""
      }
     },
     "d20e8b80f0c144f6bbd941926cd40f7a": {
      "model_module": "@jupyter-widgets/controls",
      "model_module_version": "1.5.0",
      "model_name": "DropdownModel",
      "state": {
       "_options_labels": [
        "Switchgrass & Miscanthus",
        "Switchgrass",
        "Miscanthus"
       ],
       "description": "Host_Plant",
       "index": 0,
       "layout": "IPY_MODEL_0db249d93e9943758a503f5db44920d4",
       "style": "IPY_MODEL_e699f102c05d4585b8e894d80dc2946d"
      }
     },
     "d43fa669897640c5b85925b3079e432c": {
      "model_module": "@jupyter-widgets/output",
      "model_module_version": "1.0.0",
      "model_name": "OutputModel",
      "state": {
       "layout": "IPY_MODEL_31728ecd2a884bc892b8dd0ed852603e",
       "outputs": [
        {
         "data": {
          "application/vnd.plotly.v1+json": {
           "config": {
            "linkText": "Export to plot.ly",
            "plotlyServerURL": "https://plot.ly",
            "showLink": true
           },
           "data": [
            {
             "line": {
              "color": "rgba(255, 153, 51, 1.0)",
              "dash": "solid",
              "shape": "linear",
              "width": 1.3
             },
             "mode": "lines",
             "name": "G5R1_MAIN",
             "text": "",
             "type": "scatter",
             "x": [
              "2016-05-09",
              "2016-05-31",
              "2016-06-20",
              "2016-07-12",
              "2016-08-01",
              "2016-08-22",
              "2016-09-12",
              "2016-10-03",
              "2016-11-07"
             ],
             "y": [
              73.46,
              87.81,
              77.82,
              88.09,
              82.4,
              73.38,
              42.27,
              19.82,
              ""
             ]
            },
            {
             "line": {
              "color": "rgba(55, 128, 191, 1.0)",
              "dash": "solid",
              "shape": "linear",
              "width": 1.3
             },
             "mode": "lines",
             "name": "G5R1_NF",
             "text": "",
             "type": "scatter",
             "x": [
              "2016-05-09",
              "2016-05-31",
              "2016-06-20",
              "2016-07-12",
              "2016-08-01",
              "2016-08-22",
              "2016-09-12",
              "2016-10-03",
              "2016-11-07"
             ],
             "y": [
              37.16,
              87.65,
              86.61,
              87.65,
              82.15,
              75.96,
              61.53,
              32.84,
              ""
             ]
            },
            {
             "line": {
              "color": "rgba(50, 171, 96, 1.0)",
              "dash": "solid",
              "shape": "linear",
              "width": 1.3
             },
             "mode": "lines",
             "name": "G5R2_MAIN",
             "text": "",
             "type": "scatter",
             "x": [
              "2016-05-09",
              "2016-05-31",
              "2016-06-20",
              "2016-07-12",
              "2016-08-01",
              "2016-08-22",
              "2016-09-12",
              "2016-10-03",
              "2016-11-07"
             ],
             "y": [
              43.02,
              88.29,
              88.04,
              88.65,
              78.43,
              69.45,
              65.95,
              23.52,
              ""
             ]
            },
            {
             "line": {
              "color": "rgba(128, 0, 128, 1.0)",
              "dash": "solid",
              "shape": "linear",
              "width": 1.3
             },
             "mode": "lines",
             "name": "G5R2_NF",
             "text": "",
             "type": "scatter",
             "x": [
              "2016-05-09",
              "2016-05-31",
              "2016-06-20",
              "2016-07-12",
              "2016-08-01",
              "2016-08-22",
              "2016-09-12",
              "2016-10-03",
              "2016-11-07"
             ],
             "y": [
              61.07,
              88.12,
              87.78,
              87.96,
              84.58,
              79.02,
              57.81,
              29.27,
              ""
             ]
            },
            {
             "line": {
              "color": "rgba(219, 64, 82, 1.0)",
              "dash": "solid",
              "shape": "linear",
              "width": 1.3
             },
             "mode": "lines",
             "name": "G5R3_MAIN",
             "text": "",
             "type": "scatter",
             "x": [
              "2016-05-09",
              "2016-05-31",
              "2016-06-20",
              "2016-07-12",
              "2016-08-01",
              "2016-08-22",
              "2016-09-12",
              "2016-10-03",
              "2016-11-07"
             ],
             "y": [
              84.41,
              88.3,
              88.48,
              88.14,
              81.65,
              52,
              55.23,
              16.95,
              ""
             ]
            },
            {
             "line": {
              "color": "rgba(0, 128, 128, 1.0)",
              "dash": "solid",
              "shape": "linear",
              "width": 1.3
             },
             "mode": "lines",
             "name": "G5R3_NF",
             "text": "",
             "type": "scatter",
             "x": [
              "2016-05-09",
              "2016-05-31",
              "2016-06-20",
              "2016-07-12",
              "2016-08-01",
              "2016-08-22",
              "2016-09-12",
              "2016-10-03",
              "2016-11-07"
             ],
             "y": [
              80.7,
              87.5,
              81.38,
              87.92,
              82.23,
              60.95,
              47.96,
              55.85,
              ""
             ]
            },
            {
             "line": {
              "color": "rgba(255, 255, 51, 1.0)",
              "dash": "solid",
              "shape": "linear",
              "width": 1.3
             },
             "mode": "lines",
             "name": "G5R4_MAIN",
             "text": "",
             "type": "scatter",
             "x": [
              "2016-05-09",
              "2016-05-31",
              "2016-06-20",
              "2016-07-12",
              "2016-08-01",
              "2016-08-22",
              "2016-09-12",
              "2016-10-03",
              "2016-11-07"
             ],
             "y": [
              85.16,
              88.47,
              86.83,
              86.08,
              80.67,
              62.04,
              35.27,
              24.99,
              ""
             ]
            },
            {
             "line": {
              "color": "rgba(128, 128, 0, 1.0)",
              "dash": "solid",
              "shape": "linear",
              "width": 1.3
             },
             "mode": "lines",
             "name": "G5R4_NF",
             "text": "",
             "type": "scatter",
             "x": [
              "2016-05-09",
              "2016-05-31",
              "2016-06-20",
              "2016-07-12",
              "2016-08-01",
              "2016-08-22",
              "2016-09-12",
              "2016-10-03",
              "2016-11-07"
             ],
             "y": [
              79.73,
              87.97,
              87.94,
              84.76,
              84.25,
              78.15,
              52.3,
              10.73,
              ""
             ]
            },
            {
             "line": {
              "color": "rgba(251, 128, 114, 1.0)",
              "dash": "solid",
              "shape": "linear",
              "width": 1.3
             },
             "mode": "lines",
             "name": "G6R1_MAIN",
             "text": "",
             "type": "scatter",
             "x": [
              "2016-05-09",
              "2016-05-31",
              "2016-06-20",
              "2016-07-12",
              "2016-08-01",
              "2016-08-22",
              "2016-09-12",
              "2016-10-03",
              "2016-11-07"
             ],
             "y": [
              85.88,
              86,
              86.14,
              83.61,
              82.98,
              80.3,
              77.05,
              82.58,
              18.58
             ]
            },
            {
             "line": {
              "color": "rgba(128, 177, 211, 1.0)",
              "dash": "solid",
              "shape": "linear",
              "width": 1.3
             },
             "mode": "lines",
             "name": "G6R1_NF",
             "text": "",
             "type": "scatter",
             "x": [
              "2016-05-09",
              "2016-05-31",
              "2016-06-20",
              "2016-07-12",
              "2016-08-01",
              "2016-08-22",
              "2016-09-12",
              "2016-10-03",
              "2016-11-07"
             ],
             "y": [
              86.57,
              85.65,
              85.51,
              85.63,
              84.32,
              81.46,
              72.38,
              75.2,
              24.89
             ]
            },
            {
             "line": {
              "color": "rgba(128, 177, 211, 0.8999999999999999)",
              "dash": "solid",
              "shape": "linear",
              "width": 1.3
             },
             "mode": "lines",
             "name": "G6R2_MAIN",
             "text": "",
             "type": "scatter",
             "x": [
              "2016-05-09",
              "2016-05-31",
              "2016-06-20",
              "2016-07-12",
              "2016-08-01",
              "2016-08-22",
              "2016-09-12",
              "2016-10-03",
              "2016-11-07"
             ],
             "y": [
              86.06,
              85.91,
              85.41,
              85.62,
              82.29,
              79.22,
              78.51,
              70.74,
              52.97
             ]
            },
            {
             "line": {
              "color": "rgba(255, 153, 51, 0.8999999999999999)",
              "dash": "solid",
              "shape": "linear",
              "width": 1.3
             },
             "mode": "lines",
             "name": "G6R2_NF",
             "text": "",
             "type": "scatter",
             "x": [
              "2016-05-09",
              "2016-05-31",
              "2016-06-20",
              "2016-07-12",
              "2016-08-01",
              "2016-08-22",
              "2016-09-12",
              "2016-10-03",
              "2016-11-07"
             ],
             "y": [
              86.22,
              86.3,
              85.47,
              85.86,
              83.35,
              80.98,
              80.18,
              75.81,
              28.51
             ]
            },
            {
             "line": {
              "color": "rgba(55, 128, 191, 0.8999999999999999)",
              "dash": "solid",
              "shape": "linear",
              "width": 1.3
             },
             "mode": "lines",
             "name": "G6R3_MAIN",
             "text": "",
             "type": "scatter",
             "x": [
              "2016-05-09",
              "2016-05-31",
              "2016-06-20",
              "2016-07-12",
              "2016-08-01",
              "2016-08-22",
              "2016-09-12",
              "2016-10-03",
              "2016-11-07"
             ],
             "y": [
              86.34,
              85.16,
              85.86,
              86.07,
              84.67,
              79.46,
              73.95,
              77.79,
              51.38
             ]
            },
            {
             "line": {
              "color": "rgba(50, 171, 96, 0.8999999999999999)",
              "dash": "solid",
              "shape": "linear",
              "width": 1.3
             },
             "mode": "lines",
             "name": "G6R3_NF",
             "text": "",
             "type": "scatter",
             "x": [
              "2016-05-09",
              "2016-05-31",
              "2016-06-20",
              "2016-07-12",
              "2016-08-01",
              "2016-08-22",
              "2016-09-12",
              "2016-10-03",
              "2016-11-07"
             ],
             "y": [
              86.58,
              85.55,
              84.6,
              84.78,
              77.96,
              79.41,
              79.43,
              82.11,
              41.43
             ]
            },
            {
             "line": {
              "color": "rgba(128, 0, 128, 0.8999999999999999)",
              "dash": "solid",
              "shape": "linear",
              "width": 1.3
             },
             "mode": "lines",
             "name": "G6R4_MAIN",
             "text": "",
             "type": "scatter",
             "x": [
              "2016-05-09",
              "2016-05-31",
              "2016-06-20",
              "2016-07-12",
              "2016-08-01",
              "2016-08-22",
              "2016-09-12",
              "2016-10-03",
              "2016-11-07"
             ],
             "y": [
              86.36,
              84.24,
              81.91,
              85.15,
              80.62,
              78,
              69.66,
              72.75,
              26.19
             ]
            },
            {
             "line": {
              "color": "rgba(219, 64, 82, 0.8999999999999999)",
              "dash": "solid",
              "shape": "linear",
              "width": 1.3
             },
             "mode": "lines",
             "name": "G6R4_NF",
             "text": "",
             "type": "scatter",
             "x": [
              "2016-05-09",
              "2016-05-31",
              "2016-06-20",
              "2016-07-12",
              "2016-08-01",
              "2016-08-22",
              "2016-09-12",
              "2016-10-03",
              "2016-11-07"
             ],
             "y": [
              86.98,
              85.77,
              83.87,
              85,
              81.26,
              80.3,
              79.05,
              67.6,
              30.18
             ]
            }
           ],
           "layout": {
            "autosize": true,
            "legend": {
             "bgcolor": "#F5F6F9",
             "font": {
              "color": "#4D5663"
             }
            },
            "paper_bgcolor": "#F5F6F9",
            "plot_bgcolor": "#F5F6F9",
            "template": {
             "data": {
              "bar": [
               {
                "error_x": {
                 "color": "#2a3f5f"
                },
                "error_y": {
                 "color": "#2a3f5f"
                },
                "marker": {
                 "line": {
                  "color": "#E5ECF6",
                  "width": 0.5
                 }
                },
                "type": "bar"
               }
              ],
              "barpolar": [
               {
                "marker": {
                 "line": {
                  "color": "#E5ECF6",
                  "width": 0.5
                 }
                },
                "type": "barpolar"
               }
              ],
              "carpet": [
               {
                "aaxis": {
                 "endlinecolor": "#2a3f5f",
                 "gridcolor": "white",
                 "linecolor": "white",
                 "minorgridcolor": "white",
                 "startlinecolor": "#2a3f5f"
                },
                "baxis": {
                 "endlinecolor": "#2a3f5f",
                 "gridcolor": "white",
                 "linecolor": "white",
                 "minorgridcolor": "white",
                 "startlinecolor": "#2a3f5f"
                },
                "type": "carpet"
               }
              ],
              "choropleth": [
               {
                "colorbar": {
                 "outlinewidth": 0,
                 "ticks": ""
                },
                "type": "choropleth"
               }
              ],
              "contour": [
               {
                "colorbar": {
                 "outlinewidth": 0,
                 "ticks": ""
                },
                "colorscale": [
                 [
                  0,
                  "#0d0887"
                 ],
                 [
                  0.1111111111111111,
                  "#46039f"
                 ],
                 [
                  0.2222222222222222,
                  "#7201a8"
                 ],
                 [
                  0.3333333333333333,
                  "#9c179e"
                 ],
                 [
                  0.4444444444444444,
                  "#bd3786"
                 ],
                 [
                  0.5555555555555556,
                  "#d8576b"
                 ],
                 [
                  0.6666666666666666,
                  "#ed7953"
                 ],
                 [
                  0.7777777777777778,
                  "#fb9f3a"
                 ],
                 [
                  0.8888888888888888,
                  "#fdca26"
                 ],
                 [
                  1,
                  "#f0f921"
                 ]
                ],
                "type": "contour"
               }
              ],
              "contourcarpet": [
               {
                "colorbar": {
                 "outlinewidth": 0,
                 "ticks": ""
                },
                "type": "contourcarpet"
               }
              ],
              "heatmap": [
               {
                "colorbar": {
                 "outlinewidth": 0,
                 "ticks": ""
                },
                "colorscale": [
                 [
                  0,
                  "#0d0887"
                 ],
                 [
                  0.1111111111111111,
                  "#46039f"
                 ],
                 [
                  0.2222222222222222,
                  "#7201a8"
                 ],
                 [
                  0.3333333333333333,
                  "#9c179e"
                 ],
                 [
                  0.4444444444444444,
                  "#bd3786"
                 ],
                 [
                  0.5555555555555556,
                  "#d8576b"
                 ],
                 [
                  0.6666666666666666,
                  "#ed7953"
                 ],
                 [
                  0.7777777777777778,
                  "#fb9f3a"
                 ],
                 [
                  0.8888888888888888,
                  "#fdca26"
                 ],
                 [
                  1,
                  "#f0f921"
                 ]
                ],
                "type": "heatmap"
               }
              ],
              "heatmapgl": [
               {
                "colorbar": {
                 "outlinewidth": 0,
                 "ticks": ""
                },
                "colorscale": [
                 [
                  0,
                  "#0d0887"
                 ],
                 [
                  0.1111111111111111,
                  "#46039f"
                 ],
                 [
                  0.2222222222222222,
                  "#7201a8"
                 ],
                 [
                  0.3333333333333333,
                  "#9c179e"
                 ],
                 [
                  0.4444444444444444,
                  "#bd3786"
                 ],
                 [
                  0.5555555555555556,
                  "#d8576b"
                 ],
                 [
                  0.6666666666666666,
                  "#ed7953"
                 ],
                 [
                  0.7777777777777778,
                  "#fb9f3a"
                 ],
                 [
                  0.8888888888888888,
                  "#fdca26"
                 ],
                 [
                  1,
                  "#f0f921"
                 ]
                ],
                "type": "heatmapgl"
               }
              ],
              "histogram": [
               {
                "marker": {
                 "colorbar": {
                  "outlinewidth": 0,
                  "ticks": ""
                 }
                },
                "type": "histogram"
               }
              ],
              "histogram2d": [
               {
                "colorbar": {
                 "outlinewidth": 0,
                 "ticks": ""
                },
                "colorscale": [
                 [
                  0,
                  "#0d0887"
                 ],
                 [
                  0.1111111111111111,
                  "#46039f"
                 ],
                 [
                  0.2222222222222222,
                  "#7201a8"
                 ],
                 [
                  0.3333333333333333,
                  "#9c179e"
                 ],
                 [
                  0.4444444444444444,
                  "#bd3786"
                 ],
                 [
                  0.5555555555555556,
                  "#d8576b"
                 ],
                 [
                  0.6666666666666666,
                  "#ed7953"
                 ],
                 [
                  0.7777777777777778,
                  "#fb9f3a"
                 ],
                 [
                  0.8888888888888888,
                  "#fdca26"
                 ],
                 [
                  1,
                  "#f0f921"
                 ]
                ],
                "type": "histogram2d"
               }
              ],
              "histogram2dcontour": [
               {
                "colorbar": {
                 "outlinewidth": 0,
                 "ticks": ""
                },
                "colorscale": [
                 [
                  0,
                  "#0d0887"
                 ],
                 [
                  0.1111111111111111,
                  "#46039f"
                 ],
                 [
                  0.2222222222222222,
                  "#7201a8"
                 ],
                 [
                  0.3333333333333333,
                  "#9c179e"
                 ],
                 [
                  0.4444444444444444,
                  "#bd3786"
                 ],
                 [
                  0.5555555555555556,
                  "#d8576b"
                 ],
                 [
                  0.6666666666666666,
                  "#ed7953"
                 ],
                 [
                  0.7777777777777778,
                  "#fb9f3a"
                 ],
                 [
                  0.8888888888888888,
                  "#fdca26"
                 ],
                 [
                  1,
                  "#f0f921"
                 ]
                ],
                "type": "histogram2dcontour"
               }
              ],
              "mesh3d": [
               {
                "colorbar": {
                 "outlinewidth": 0,
                 "ticks": ""
                },
                "type": "mesh3d"
               }
              ],
              "parcoords": [
               {
                "line": {
                 "colorbar": {
                  "outlinewidth": 0,
                  "ticks": ""
                 }
                },
                "type": "parcoords"
               }
              ],
              "pie": [
               {
                "automargin": true,
                "type": "pie"
               }
              ],
              "scatter": [
               {
                "marker": {
                 "colorbar": {
                  "outlinewidth": 0,
                  "ticks": ""
                 }
                },
                "type": "scatter"
               }
              ],
              "scatter3d": [
               {
                "line": {
                 "colorbar": {
                  "outlinewidth": 0,
                  "ticks": ""
                 }
                },
                "marker": {
                 "colorbar": {
                  "outlinewidth": 0,
                  "ticks": ""
                 }
                },
                "type": "scatter3d"
               }
              ],
              "scattercarpet": [
               {
                "marker": {
                 "colorbar": {
                  "outlinewidth": 0,
                  "ticks": ""
                 }
                },
                "type": "scattercarpet"
               }
              ],
              "scattergeo": [
               {
                "marker": {
                 "colorbar": {
                  "outlinewidth": 0,
                  "ticks": ""
                 }
                },
                "type": "scattergeo"
               }
              ],
              "scattergl": [
               {
                "marker": {
                 "colorbar": {
                  "outlinewidth": 0,
                  "ticks": ""
                 }
                },
                "type": "scattergl"
               }
              ],
              "scattermapbox": [
               {
                "marker": {
                 "colorbar": {
                  "outlinewidth": 0,
                  "ticks": ""
                 }
                },
                "type": "scattermapbox"
               }
              ],
              "scatterpolar": [
               {
                "marker": {
                 "colorbar": {
                  "outlinewidth": 0,
                  "ticks": ""
                 }
                },
                "type": "scatterpolar"
               }
              ],
              "scatterpolargl": [
               {
                "marker": {
                 "colorbar": {
                  "outlinewidth": 0,
                  "ticks": ""
                 }
                },
                "type": "scatterpolargl"
               }
              ],
              "scatterternary": [
               {
                "marker": {
                 "colorbar": {
                  "outlinewidth": 0,
                  "ticks": ""
                 }
                },
                "type": "scatterternary"
               }
              ],
              "surface": [
               {
                "colorbar": {
                 "outlinewidth": 0,
                 "ticks": ""
                },
                "colorscale": [
                 [
                  0,
                  "#0d0887"
                 ],
                 [
                  0.1111111111111111,
                  "#46039f"
                 ],
                 [
                  0.2222222222222222,
                  "#7201a8"
                 ],
                 [
                  0.3333333333333333,
                  "#9c179e"
                 ],
                 [
                  0.4444444444444444,
                  "#bd3786"
                 ],
                 [
                  0.5555555555555556,
                  "#d8576b"
                 ],
                 [
                  0.6666666666666666,
                  "#ed7953"
                 ],
                 [
                  0.7777777777777778,
                  "#fb9f3a"
                 ],
                 [
                  0.8888888888888888,
                  "#fdca26"
                 ],
                 [
                  1,
                  "#f0f921"
                 ]
                ],
                "type": "surface"
               }
              ],
              "table": [
               {
                "cells": {
                 "fill": {
                  "color": "#EBF0F8"
                 },
                 "line": {
                  "color": "white"
                 }
                },
                "header": {
                 "fill": {
                  "color": "#C8D4E3"
                 },
                 "line": {
                  "color": "white"
                 }
                },
                "type": "table"
               }
              ]
             },
             "layout": {
              "annotationdefaults": {
               "arrowcolor": "#2a3f5f",
               "arrowhead": 0,
               "arrowwidth": 1
              },
              "coloraxis": {
               "colorbar": {
                "outlinewidth": 0,
                "ticks": ""
               }
              },
              "colorscale": {
               "diverging": [
                [
                 0,
                 "#8e0152"
                ],
                [
                 0.1,
                 "#c51b7d"
                ],
                [
                 0.2,
                 "#de77ae"
                ],
                [
                 0.3,
                 "#f1b6da"
                ],
                [
                 0.4,
                 "#fde0ef"
                ],
                [
                 0.5,
                 "#f7f7f7"
                ],
                [
                 0.6,
                 "#e6f5d0"
                ],
                [
                 0.7,
                 "#b8e186"
                ],
                [
                 0.8,
                 "#7fbc41"
                ],
                [
                 0.9,
                 "#4d9221"
                ],
                [
                 1,
                 "#276419"
                ]
               ],
               "sequential": [
                [
                 0,
                 "#0d0887"
                ],
                [
                 0.1111111111111111,
                 "#46039f"
                ],
                [
                 0.2222222222222222,
                 "#7201a8"
                ],
                [
                 0.3333333333333333,
                 "#9c179e"
                ],
                [
                 0.4444444444444444,
                 "#bd3786"
                ],
                [
                 0.5555555555555556,
                 "#d8576b"
                ],
                [
                 0.6666666666666666,
                 "#ed7953"
                ],
                [
                 0.7777777777777778,
                 "#fb9f3a"
                ],
                [
                 0.8888888888888888,
                 "#fdca26"
                ],
                [
                 1,
                 "#f0f921"
                ]
               ],
               "sequentialminus": [
                [
                 0,
                 "#0d0887"
                ],
                [
                 0.1111111111111111,
                 "#46039f"
                ],
                [
                 0.2222222222222222,
                 "#7201a8"
                ],
                [
                 0.3333333333333333,
                 "#9c179e"
                ],
                [
                 0.4444444444444444,
                 "#bd3786"
                ],
                [
                 0.5555555555555556,
                 "#d8576b"
                ],
                [
                 0.6666666666666666,
                 "#ed7953"
                ],
                [
                 0.7777777777777778,
                 "#fb9f3a"
                ],
                [
                 0.8888888888888888,
                 "#fdca26"
                ],
                [
                 1,
                 "#f0f921"
                ]
               ]
              },
              "colorway": [
               "#636efa",
               "#EF553B",
               "#00cc96",
               "#ab63fa",
               "#FFA15A",
               "#19d3f3",
               "#FF6692",
               "#B6E880",
               "#FF97FF",
               "#FECB52"
              ],
              "font": {
               "color": "#2a3f5f"
              },
              "geo": {
               "bgcolor": "white",
               "lakecolor": "white",
               "landcolor": "#E5ECF6",
               "showlakes": true,
               "showland": true,
               "subunitcolor": "white"
              },
              "hoverlabel": {
               "align": "left"
              },
              "hovermode": "closest",
              "mapbox": {
               "style": "light"
              },
              "paper_bgcolor": "white",
              "plot_bgcolor": "#E5ECF6",
              "polar": {
               "angularaxis": {
                "gridcolor": "white",
                "linecolor": "white",
                "ticks": ""
               },
               "bgcolor": "#E5ECF6",
               "radialaxis": {
                "gridcolor": "white",
                "linecolor": "white",
                "ticks": ""
               }
              },
              "scene": {
               "xaxis": {
                "backgroundcolor": "#E5ECF6",
                "gridcolor": "white",
                "gridwidth": 2,
                "linecolor": "white",
                "showbackground": true,
                "ticks": "",
                "zerolinecolor": "white"
               },
               "yaxis": {
                "backgroundcolor": "#E5ECF6",
                "gridcolor": "white",
                "gridwidth": 2,
                "linecolor": "white",
                "showbackground": true,
                "ticks": "",
                "zerolinecolor": "white"
               },
               "zaxis": {
                "backgroundcolor": "#E5ECF6",
                "gridcolor": "white",
                "gridwidth": 2,
                "linecolor": "white",
                "showbackground": true,
                "ticks": "",
                "zerolinecolor": "white"
               }
              },
              "shapedefaults": {
               "line": {
                "color": "#2a3f5f"
               }
              },
              "ternary": {
               "aaxis": {
                "gridcolor": "white",
                "linecolor": "white",
                "ticks": ""
               },
               "baxis": {
                "gridcolor": "white",
                "linecolor": "white",
                "ticks": ""
               },
               "bgcolor": "#E5ECF6",
               "caxis": {
                "gridcolor": "white",
                "linecolor": "white",
                "ticks": ""
               }
              },
              "title": {
               "x": 0.05
              },
              "xaxis": {
               "automargin": true,
               "gridcolor": "white",
               "linecolor": "white",
               "ticks": "",
               "title": {
                "standoff": 15
               },
               "zerolinecolor": "white",
               "zerolinewidth": 2
              },
              "yaxis": {
               "automargin": true,
               "gridcolor": "white",
               "linecolor": "white",
               "ticks": "",
               "title": {
                "standoff": 15
               },
               "zerolinecolor": "white",
               "zerolinewidth": 2
              }
             }
            },
            "title": {
             "font": {
              "color": "#4D5663"
             },
             "text": "% Reads Aligning to Respective Plant Host Assembly G5=Switchgrass G6=Miscanthus"
            },
            "xaxis": {
             "autorange": true,
             "gridcolor": "#E1E5ED",
             "range": [
              "2016-05-09",
              "2016-11-07"
             ],
             "showgrid": true,
             "tickfont": {
              "color": "#4D5663"
             },
             "title": {
              "font": {
               "color": "#4D5663"
              },
              "text": ""
             },
             "type": "date",
             "zerolinecolor": "#E1E5ED"
            },
            "yaxis": {
             "autorange": true,
             "gridcolor": "#E1E5ED",
             "range": [
              6.401111111111112,
              92.97888888888889
             ],
             "showgrid": true,
             "tickfont": {
              "color": "#4D5663"
             },
             "title": {
              "font": {
               "color": "#4D5663"
              },
              "text": ""
             },
             "type": "linear",
             "zerolinecolor": "#E1E5ED"
            }
           }
          },
          "text/html": "<div>\n        \n        \n            <div id=\"201582d4-fe81-4985-9fa0-9ff2448bbe15\" class=\"plotly-graph-div\" style=\"height:525px; width:100%;\"></div>\n            <script type=\"text/javascript\">\n                require([\"plotly\"], function(Plotly) {\n                    window.PLOTLYENV=window.PLOTLYENV || {};\n                    window.PLOTLYENV.BASE_URL='https://plot.ly';\n                    \n                if (document.getElementById(\"201582d4-fe81-4985-9fa0-9ff2448bbe15\")) {\n                    Plotly.newPlot(\n                        '201582d4-fe81-4985-9fa0-9ff2448bbe15',\n                        [{\"line\": {\"color\": \"rgba(255, 153, 51, 1.0)\", \"dash\": \"solid\", \"shape\": \"linear\", \"width\": 1.3}, \"mode\": \"lines\", \"name\": \"G5R1_MAIN\", \"text\": \"\", \"type\": \"scatter\", \"x\": [\"2016-05-09\", \"2016-05-31\", \"2016-06-20\", \"2016-07-12\", \"2016-08-01\", \"2016-08-22\", \"2016-09-12\", \"2016-10-03\", \"2016-11-07\"], \"y\": [73.46, 87.81, 77.82, 88.09, 82.4, 73.38, 42.27, 19.82, \"\"]}, {\"line\": {\"color\": \"rgba(55, 128, 191, 1.0)\", \"dash\": \"solid\", \"shape\": \"linear\", \"width\": 1.3}, \"mode\": \"lines\", \"name\": \"G5R1_NF\", \"text\": \"\", \"type\": \"scatter\", \"x\": [\"2016-05-09\", \"2016-05-31\", \"2016-06-20\", \"2016-07-12\", \"2016-08-01\", \"2016-08-22\", \"2016-09-12\", \"2016-10-03\", \"2016-11-07\"], \"y\": [37.16, 87.65, 86.61, 87.65, 82.15, 75.96, 61.53, 32.84, \"\"]}, {\"line\": {\"color\": \"rgba(50, 171, 96, 1.0)\", \"dash\": \"solid\", \"shape\": \"linear\", \"width\": 1.3}, \"mode\": \"lines\", \"name\": \"G5R2_MAIN\", \"text\": \"\", \"type\": \"scatter\", \"x\": [\"2016-05-09\", \"2016-05-31\", \"2016-06-20\", \"2016-07-12\", \"2016-08-01\", \"2016-08-22\", \"2016-09-12\", \"2016-10-03\", \"2016-11-07\"], \"y\": [43.02, 88.29, 88.04, 88.65, 78.43, 69.45, 65.95, 23.52, \"\"]}, {\"line\": {\"color\": \"rgba(128, 0, 128, 1.0)\", \"dash\": \"solid\", \"shape\": \"linear\", \"width\": 1.3}, \"mode\": \"lines\", \"name\": \"G5R2_NF\", \"text\": \"\", \"type\": \"scatter\", \"x\": [\"2016-05-09\", \"2016-05-31\", \"2016-06-20\", \"2016-07-12\", \"2016-08-01\", \"2016-08-22\", \"2016-09-12\", \"2016-10-03\", \"2016-11-07\"], \"y\": [61.07, 88.12, 87.78, 87.96, 84.58, 79.02, 57.81, 29.27, \"\"]}, {\"line\": {\"color\": \"rgba(219, 64, 82, 1.0)\", \"dash\": \"solid\", \"shape\": \"linear\", \"width\": 1.3}, \"mode\": \"lines\", \"name\": \"G5R3_MAIN\", \"text\": \"\", \"type\": \"scatter\", \"x\": [\"2016-05-09\", \"2016-05-31\", \"2016-06-20\", \"2016-07-12\", \"2016-08-01\", \"2016-08-22\", \"2016-09-12\", \"2016-10-03\", \"2016-11-07\"], \"y\": [84.41, 88.3, 88.48, 88.14, 81.65, 52.0, 55.23, 16.95, \"\"]}, {\"line\": {\"color\": \"rgba(0, 128, 128, 1.0)\", \"dash\": \"solid\", \"shape\": \"linear\", \"width\": 1.3}, \"mode\": \"lines\", \"name\": \"G5R3_NF\", \"text\": \"\", \"type\": \"scatter\", \"x\": [\"2016-05-09\", \"2016-05-31\", \"2016-06-20\", \"2016-07-12\", \"2016-08-01\", \"2016-08-22\", \"2016-09-12\", \"2016-10-03\", \"2016-11-07\"], \"y\": [80.7, 87.5, 81.38, 87.92, 82.23, 60.95, 47.96, 55.85, \"\"]}, {\"line\": {\"color\": \"rgba(255, 255, 51, 1.0)\", \"dash\": \"solid\", \"shape\": \"linear\", \"width\": 1.3}, \"mode\": \"lines\", \"name\": \"G5R4_MAIN\", \"text\": \"\", \"type\": \"scatter\", \"x\": [\"2016-05-09\", \"2016-05-31\", \"2016-06-20\", \"2016-07-12\", \"2016-08-01\", \"2016-08-22\", \"2016-09-12\", \"2016-10-03\", \"2016-11-07\"], \"y\": [85.16, 88.47, 86.83, 86.08, 80.67, 62.04, 35.27, 24.99, \"\"]}, {\"line\": {\"color\": \"rgba(128, 128, 0, 1.0)\", \"dash\": \"solid\", \"shape\": \"linear\", \"width\": 1.3}, \"mode\": \"lines\", \"name\": \"G5R4_NF\", \"text\": \"\", \"type\": \"scatter\", \"x\": [\"2016-05-09\", \"2016-05-31\", \"2016-06-20\", \"2016-07-12\", \"2016-08-01\", \"2016-08-22\", \"2016-09-12\", \"2016-10-03\", \"2016-11-07\"], \"y\": [79.73, 87.97, 87.94, 84.76, 84.25, 78.15, 52.3, 10.73, \"\"]}, {\"line\": {\"color\": \"rgba(251, 128, 114, 1.0)\", \"dash\": \"solid\", \"shape\": \"linear\", \"width\": 1.3}, \"mode\": \"lines\", \"name\": \"G6R1_MAIN\", \"text\": \"\", \"type\": \"scatter\", \"x\": [\"2016-05-09\", \"2016-05-31\", \"2016-06-20\", \"2016-07-12\", \"2016-08-01\", \"2016-08-22\", \"2016-09-12\", \"2016-10-03\", \"2016-11-07\"], \"y\": [85.88, 86.0, 86.14, 83.61, 82.98, 80.3, 77.05, 82.58, 18.58]}, {\"line\": {\"color\": \"rgba(128, 177, 211, 1.0)\", \"dash\": \"solid\", \"shape\": \"linear\", \"width\": 1.3}, \"mode\": \"lines\", \"name\": \"G6R1_NF\", \"text\": \"\", \"type\": \"scatter\", \"x\": [\"2016-05-09\", \"2016-05-31\", \"2016-06-20\", \"2016-07-12\", \"2016-08-01\", \"2016-08-22\", \"2016-09-12\", \"2016-10-03\", \"2016-11-07\"], \"y\": [86.57, 85.65, 85.51, 85.63, 84.32, 81.46, 72.38, 75.2, 24.89]}, {\"line\": {\"color\": \"rgba(128, 177, 211, 0.8999999999999999)\", \"dash\": \"solid\", \"shape\": \"linear\", \"width\": 1.3}, \"mode\": \"lines\", \"name\": \"G6R2_MAIN\", \"text\": \"\", \"type\": \"scatter\", \"x\": [\"2016-05-09\", \"2016-05-31\", \"2016-06-20\", \"2016-07-12\", \"2016-08-01\", \"2016-08-22\", \"2016-09-12\", \"2016-10-03\", \"2016-11-07\"], \"y\": [86.06, 85.91, 85.41, 85.62, 82.29, 79.22, 78.51, 70.74, 52.97]}, {\"line\": {\"color\": \"rgba(255, 153, 51, 0.8999999999999999)\", \"dash\": \"solid\", \"shape\": \"linear\", \"width\": 1.3}, \"mode\": \"lines\", \"name\": \"G6R2_NF\", \"text\": \"\", \"type\": \"scatter\", \"x\": [\"2016-05-09\", \"2016-05-31\", \"2016-06-20\", \"2016-07-12\", \"2016-08-01\", \"2016-08-22\", \"2016-09-12\", \"2016-10-03\", \"2016-11-07\"], \"y\": [86.22, 86.3, 85.47, 85.86, 83.35, 80.98, 80.18, 75.81, 28.51]}, {\"line\": {\"color\": \"rgba(55, 128, 191, 0.8999999999999999)\", \"dash\": \"solid\", \"shape\": \"linear\", \"width\": 1.3}, \"mode\": \"lines\", \"name\": \"G6R3_MAIN\", \"text\": \"\", \"type\": \"scatter\", \"x\": [\"2016-05-09\", \"2016-05-31\", \"2016-06-20\", \"2016-07-12\", \"2016-08-01\", \"2016-08-22\", \"2016-09-12\", \"2016-10-03\", \"2016-11-07\"], \"y\": [86.34, 85.16, 85.86, 86.07, 84.67, 79.46, 73.95, 77.79, 51.38]}, {\"line\": {\"color\": \"rgba(50, 171, 96, 0.8999999999999999)\", \"dash\": \"solid\", \"shape\": \"linear\", \"width\": 1.3}, \"mode\": \"lines\", \"name\": \"G6R3_NF\", \"text\": \"\", \"type\": \"scatter\", \"x\": [\"2016-05-09\", \"2016-05-31\", \"2016-06-20\", \"2016-07-12\", \"2016-08-01\", \"2016-08-22\", \"2016-09-12\", \"2016-10-03\", \"2016-11-07\"], \"y\": [86.58, 85.55, 84.6, 84.78, 77.96, 79.41, 79.43, 82.11, 41.43]}, {\"line\": {\"color\": \"rgba(128, 0, 128, 0.8999999999999999)\", \"dash\": \"solid\", \"shape\": \"linear\", \"width\": 1.3}, \"mode\": \"lines\", \"name\": \"G6R4_MAIN\", \"text\": \"\", \"type\": \"scatter\", \"x\": [\"2016-05-09\", \"2016-05-31\", \"2016-06-20\", \"2016-07-12\", \"2016-08-01\", \"2016-08-22\", \"2016-09-12\", \"2016-10-03\", \"2016-11-07\"], \"y\": [86.36, 84.24, 81.91, 85.15, 80.62, 78.0, 69.66, 72.75, 26.19]}, {\"line\": {\"color\": \"rgba(219, 64, 82, 0.8999999999999999)\", \"dash\": \"solid\", \"shape\": \"linear\", \"width\": 1.3}, \"mode\": \"lines\", \"name\": \"G6R4_NF\", \"text\": \"\", \"type\": \"scatter\", \"x\": [\"2016-05-09\", \"2016-05-31\", \"2016-06-20\", \"2016-07-12\", \"2016-08-01\", \"2016-08-22\", \"2016-09-12\", \"2016-10-03\", \"2016-11-07\"], \"y\": [86.98, 85.77, 83.87, 85.0, 81.26, 80.3, 79.05, 67.6, 30.18]}],\n                        {\"legend\": {\"bgcolor\": \"#F5F6F9\", \"font\": {\"color\": \"#4D5663\"}}, \"paper_bgcolor\": \"#F5F6F9\", \"plot_bgcolor\": \"#F5F6F9\", \"template\": {\"data\": {\"bar\": [{\"error_x\": {\"color\": \"#2a3f5f\"}, \"error_y\": {\"color\": \"#2a3f5f\"}, \"marker\": {\"line\": {\"color\": \"#E5ECF6\", \"width\": 0.5}}, \"type\": \"bar\"}], \"barpolar\": [{\"marker\": {\"line\": {\"color\": \"#E5ECF6\", \"width\": 0.5}}, \"type\": \"barpolar\"}], \"carpet\": [{\"aaxis\": {\"endlinecolor\": \"#2a3f5f\", \"gridcolor\": \"white\", \"linecolor\": \"white\", \"minorgridcolor\": \"white\", \"startlinecolor\": \"#2a3f5f\"}, \"baxis\": {\"endlinecolor\": \"#2a3f5f\", \"gridcolor\": \"white\", \"linecolor\": \"white\", \"minorgridcolor\": \"white\", \"startlinecolor\": \"#2a3f5f\"}, \"type\": \"carpet\"}], \"choropleth\": [{\"colorbar\": {\"outlinewidth\": 0, \"ticks\": \"\"}, \"type\": \"choropleth\"}], \"contour\": [{\"colorbar\": {\"outlinewidth\": 0, \"ticks\": \"\"}, \"colorscale\": [[0.0, \"#0d0887\"], [0.1111111111111111, \"#46039f\"], [0.2222222222222222, \"#7201a8\"], [0.3333333333333333, \"#9c179e\"], [0.4444444444444444, \"#bd3786\"], [0.5555555555555556, \"#d8576b\"], [0.6666666666666666, \"#ed7953\"], [0.7777777777777778, \"#fb9f3a\"], [0.8888888888888888, \"#fdca26\"], [1.0, \"#f0f921\"]], \"type\": \"contour\"}], \"contourcarpet\": [{\"colorbar\": {\"outlinewidth\": 0, \"ticks\": \"\"}, \"type\": \"contourcarpet\"}], \"heatmap\": [{\"colorbar\": {\"outlinewidth\": 0, \"ticks\": \"\"}, \"colorscale\": [[0.0, \"#0d0887\"], [0.1111111111111111, \"#46039f\"], [0.2222222222222222, \"#7201a8\"], [0.3333333333333333, \"#9c179e\"], [0.4444444444444444, \"#bd3786\"], [0.5555555555555556, \"#d8576b\"], [0.6666666666666666, \"#ed7953\"], [0.7777777777777778, \"#fb9f3a\"], [0.8888888888888888, \"#fdca26\"], [1.0, \"#f0f921\"]], \"type\": \"heatmap\"}], \"heatmapgl\": [{\"colorbar\": {\"outlinewidth\": 0, \"ticks\": \"\"}, \"colorscale\": [[0.0, \"#0d0887\"], [0.1111111111111111, \"#46039f\"], [0.2222222222222222, \"#7201a8\"], [0.3333333333333333, \"#9c179e\"], [0.4444444444444444, \"#bd3786\"], [0.5555555555555556, \"#d8576b\"], [0.6666666666666666, \"#ed7953\"], [0.7777777777777778, \"#fb9f3a\"], [0.8888888888888888, \"#fdca26\"], [1.0, \"#f0f921\"]], \"type\": \"heatmapgl\"}], \"histogram\": [{\"marker\": {\"colorbar\": {\"outlinewidth\": 0, \"ticks\": \"\"}}, \"type\": \"histogram\"}], \"histogram2d\": [{\"colorbar\": {\"outlinewidth\": 0, \"ticks\": \"\"}, \"colorscale\": [[0.0, \"#0d0887\"], [0.1111111111111111, \"#46039f\"], [0.2222222222222222, \"#7201a8\"], [0.3333333333333333, \"#9c179e\"], [0.4444444444444444, \"#bd3786\"], [0.5555555555555556, \"#d8576b\"], [0.6666666666666666, \"#ed7953\"], [0.7777777777777778, \"#fb9f3a\"], [0.8888888888888888, \"#fdca26\"], [1.0, \"#f0f921\"]], \"type\": \"histogram2d\"}], \"histogram2dcontour\": [{\"colorbar\": {\"outlinewidth\": 0, \"ticks\": \"\"}, \"colorscale\": [[0.0, \"#0d0887\"], [0.1111111111111111, \"#46039f\"], [0.2222222222222222, \"#7201a8\"], [0.3333333333333333, \"#9c179e\"], [0.4444444444444444, \"#bd3786\"], [0.5555555555555556, \"#d8576b\"], [0.6666666666666666, \"#ed7953\"], [0.7777777777777778, \"#fb9f3a\"], [0.8888888888888888, \"#fdca26\"], [1.0, \"#f0f921\"]], \"type\": \"histogram2dcontour\"}], \"mesh3d\": [{\"colorbar\": {\"outlinewidth\": 0, \"ticks\": \"\"}, \"type\": \"mesh3d\"}], \"parcoords\": [{\"line\": {\"colorbar\": {\"outlinewidth\": 0, \"ticks\": \"\"}}, \"type\": \"parcoords\"}], \"pie\": [{\"automargin\": true, \"type\": \"pie\"}], \"scatter\": [{\"marker\": {\"colorbar\": {\"outlinewidth\": 0, \"ticks\": \"\"}}, \"type\": \"scatter\"}], \"scatter3d\": [{\"line\": {\"colorbar\": {\"outlinewidth\": 0, \"ticks\": \"\"}}, \"marker\": {\"colorbar\": {\"outlinewidth\": 0, \"ticks\": \"\"}}, \"type\": \"scatter3d\"}], \"scattercarpet\": [{\"marker\": {\"colorbar\": {\"outlinewidth\": 0, \"ticks\": \"\"}}, \"type\": \"scattercarpet\"}], \"scattergeo\": [{\"marker\": {\"colorbar\": {\"outlinewidth\": 0, \"ticks\": \"\"}}, \"type\": \"scattergeo\"}], \"scattergl\": [{\"marker\": {\"colorbar\": {\"outlinewidth\": 0, \"ticks\": \"\"}}, \"type\": \"scattergl\"}], \"scattermapbox\": [{\"marker\": {\"colorbar\": {\"outlinewidth\": 0, \"ticks\": \"\"}}, \"type\": \"scattermapbox\"}], \"scatterpolar\": [{\"marker\": {\"colorbar\": {\"outlinewidth\": 0, \"ticks\": \"\"}}, \"type\": \"scatterpolar\"}], \"scatterpolargl\": [{\"marker\": {\"colorbar\": {\"outlinewidth\": 0, \"ticks\": \"\"}}, \"type\": \"scatterpolargl\"}], \"scatterternary\": [{\"marker\": {\"colorbar\": {\"outlinewidth\": 0, \"ticks\": \"\"}}, \"type\": \"scatterternary\"}], \"surface\": [{\"colorbar\": {\"outlinewidth\": 0, \"ticks\": \"\"}, \"colorscale\": [[0.0, \"#0d0887\"], [0.1111111111111111, \"#46039f\"], [0.2222222222222222, \"#7201a8\"], [0.3333333333333333, \"#9c179e\"], [0.4444444444444444, \"#bd3786\"], [0.5555555555555556, \"#d8576b\"], [0.6666666666666666, \"#ed7953\"], [0.7777777777777778, \"#fb9f3a\"], [0.8888888888888888, \"#fdca26\"], [1.0, \"#f0f921\"]], \"type\": \"surface\"}], \"table\": [{\"cells\": {\"fill\": {\"color\": \"#EBF0F8\"}, \"line\": {\"color\": \"white\"}}, \"header\": {\"fill\": {\"color\": \"#C8D4E3\"}, \"line\": {\"color\": \"white\"}}, \"type\": \"table\"}]}, \"layout\": {\"annotationdefaults\": {\"arrowcolor\": \"#2a3f5f\", \"arrowhead\": 0, \"arrowwidth\": 1}, \"coloraxis\": {\"colorbar\": {\"outlinewidth\": 0, \"ticks\": \"\"}}, \"colorscale\": {\"diverging\": [[0, \"#8e0152\"], [0.1, \"#c51b7d\"], [0.2, \"#de77ae\"], [0.3, \"#f1b6da\"], [0.4, \"#fde0ef\"], [0.5, \"#f7f7f7\"], [0.6, \"#e6f5d0\"], [0.7, \"#b8e186\"], [0.8, \"#7fbc41\"], [0.9, \"#4d9221\"], [1, \"#276419\"]], \"sequential\": [[0.0, \"#0d0887\"], [0.1111111111111111, \"#46039f\"], [0.2222222222222222, \"#7201a8\"], [0.3333333333333333, \"#9c179e\"], [0.4444444444444444, \"#bd3786\"], [0.5555555555555556, \"#d8576b\"], [0.6666666666666666, \"#ed7953\"], [0.7777777777777778, \"#fb9f3a\"], [0.8888888888888888, \"#fdca26\"], [1.0, \"#f0f921\"]], \"sequentialminus\": [[0.0, \"#0d0887\"], [0.1111111111111111, \"#46039f\"], [0.2222222222222222, \"#7201a8\"], [0.3333333333333333, \"#9c179e\"], [0.4444444444444444, \"#bd3786\"], [0.5555555555555556, \"#d8576b\"], [0.6666666666666666, \"#ed7953\"], [0.7777777777777778, \"#fb9f3a\"], [0.8888888888888888, \"#fdca26\"], [1.0, \"#f0f921\"]]}, \"colorway\": [\"#636efa\", \"#EF553B\", \"#00cc96\", \"#ab63fa\", \"#FFA15A\", \"#19d3f3\", \"#FF6692\", \"#B6E880\", \"#FF97FF\", \"#FECB52\"], \"font\": {\"color\": \"#2a3f5f\"}, \"geo\": {\"bgcolor\": \"white\", \"lakecolor\": \"white\", \"landcolor\": \"#E5ECF6\", \"showlakes\": true, \"showland\": true, \"subunitcolor\": \"white\"}, \"hoverlabel\": {\"align\": \"left\"}, \"hovermode\": \"closest\", \"mapbox\": {\"style\": \"light\"}, \"paper_bgcolor\": \"white\", \"plot_bgcolor\": \"#E5ECF6\", \"polar\": {\"angularaxis\": {\"gridcolor\": \"white\", \"linecolor\": \"white\", \"ticks\": \"\"}, \"bgcolor\": \"#E5ECF6\", \"radialaxis\": {\"gridcolor\": \"white\", \"linecolor\": \"white\", \"ticks\": \"\"}}, \"scene\": {\"xaxis\": {\"backgroundcolor\": \"#E5ECF6\", \"gridcolor\": \"white\", \"gridwidth\": 2, \"linecolor\": \"white\", \"showbackground\": true, \"ticks\": \"\", \"zerolinecolor\": \"white\"}, \"yaxis\": {\"backgroundcolor\": \"#E5ECF6\", \"gridcolor\": \"white\", \"gridwidth\": 2, \"linecolor\": \"white\", \"showbackground\": true, \"ticks\": \"\", \"zerolinecolor\": \"white\"}, \"zaxis\": {\"backgroundcolor\": \"#E5ECF6\", \"gridcolor\": \"white\", \"gridwidth\": 2, \"linecolor\": \"white\", \"showbackground\": true, \"ticks\": \"\", \"zerolinecolor\": \"white\"}}, \"shapedefaults\": {\"line\": {\"color\": \"#2a3f5f\"}}, \"ternary\": {\"aaxis\": {\"gridcolor\": \"white\", \"linecolor\": \"white\", \"ticks\": \"\"}, \"baxis\": {\"gridcolor\": \"white\", \"linecolor\": \"white\", \"ticks\": \"\"}, \"bgcolor\": \"#E5ECF6\", \"caxis\": {\"gridcolor\": \"white\", \"linecolor\": \"white\", \"ticks\": \"\"}}, \"title\": {\"x\": 0.05}, \"xaxis\": {\"automargin\": true, \"gridcolor\": \"white\", \"linecolor\": \"white\", \"ticks\": \"\", \"title\": {\"standoff\": 15}, \"zerolinecolor\": \"white\", \"zerolinewidth\": 2}, \"yaxis\": {\"automargin\": true, \"gridcolor\": \"white\", \"linecolor\": \"white\", \"ticks\": \"\", \"title\": {\"standoff\": 15}, \"zerolinecolor\": \"white\", \"zerolinewidth\": 2}}}, \"title\": {\"font\": {\"color\": \"#4D5663\"}, \"text\": \"% Reads Aligning to Respective Plant Host Assembly G5=Switchgrass G6=Miscanthus\"}, \"xaxis\": {\"gridcolor\": \"#E1E5ED\", \"showgrid\": true, \"tickfont\": {\"color\": \"#4D5663\"}, \"title\": {\"font\": {\"color\": \"#4D5663\"}, \"text\": \"\"}, \"zerolinecolor\": \"#E1E5ED\"}, \"yaxis\": {\"gridcolor\": \"#E1E5ED\", \"showgrid\": true, \"tickfont\": {\"color\": \"#4D5663\"}, \"title\": {\"font\": {\"color\": \"#4D5663\"}, \"text\": \"\"}, \"zerolinecolor\": \"#E1E5ED\"}},\n                        {\"showLink\": true, \"linkText\": \"Export to plot.ly\", \"plotlyServerURL\": \"https://plot.ly\", \"responsive\": true}\n                    ).then(function(){\n                            \nvar gd = document.getElementById('201582d4-fe81-4985-9fa0-9ff2448bbe15');\nvar x = new MutationObserver(function (mutations, observer) {{\n        var display = window.getComputedStyle(gd).display;\n        if (!display || display === 'none') {{\n            console.log([gd, 'removed!']);\n            Plotly.purge(gd);\n            observer.disconnect();\n        }}\n}});\n\n// Listen for the removal of the full notebook cells\nvar notebookContainer = gd.closest('#notebook-container');\nif (notebookContainer) {{\n    x.observe(notebookContainer, {childList: true});\n}}\n\n// Listen for the clearing of the current output cell\nvar outputEl = gd.closest('.output');\nif (outputEl) {{\n    x.observe(outputEl, {childList: true});\n}}\n\n                        })\n                };\n                });\n            </script>\n        </div>"
         },
         "metadata": {},
         "output_type": "display_data"
        }
       ]
      }
     },
     "dc83d3b95d614025b250c1c6a9342f58": {
      "model_module": "@jupyter-widgets/controls",
      "model_module_version": "1.5.0",
      "model_name": "DescriptionStyleModel",
      "state": {
       "description_width": ""
      }
     },
     "e699f102c05d4585b8e894d80dc2946d": {
      "model_module": "@jupyter-widgets/controls",
      "model_module_version": "1.5.0",
      "model_name": "DescriptionStyleModel",
      "state": {
       "description_width": ""
      }
     }
    },
    "version_major": 2,
    "version_minor": 0
   }
  }
 },
 "nbformat": 4,
 "nbformat_minor": 4
}
