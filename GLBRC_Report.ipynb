{
 "cells": [
  {
   "cell_type": "markdown",
   "metadata": {},
   "source": [
    "<h1><a id='outline'>Project Outline</a></h1>\n",
    "\n",
    "* [Sequencing Summaries](#seqSums)\n",
    "    *  [Adapter Trimming and QC (Trimmomatic) Report](#readbd)\n",
    "    *  [Host Plant Alignment Report](#pAlign)\n",
    "    *  [Switchgrass Fungal Alignments](#swAlign)\n",
    "    *  [Alignment Conclusions](#aConc)\n",
    "* [Annotation Report](#anno)   \n",
    "\n",
    "\n",
    "* [NMDS of annotated contigs](#nmds)\n",
    "  *  [All Crops](#anmds)\n",
    "  *  [Switchgrass](#sgnmds)\n",
    "  *  [Miscanthus](#msnmds)\n",
    "*  [Function Analysis](#metaT)"
   ]
  },
  {
   "cell_type": "code",
   "execution_count": 1,
   "metadata": {},
   "outputs": [
    {
     "data": {
      "application/vnd.jupyter.widget-view+json": {
       "model_id": "dcfdeb04ea43480baf3418354132c8ce",
       "version_major": 2,
       "version_minor": 0
      },
      "text/plain": [
       "Dropdown(description='Reads by:', options=('Percentage', 'Count'), value='Percentage')"
      ]
     },
     "metadata": {},
     "output_type": "display_data"
    },
    {
     "data": {
      "application/vnd.jupyter.widget-view+json": {
       "model_id": "2b47956a468748b1a8734a7f8beb50d4",
       "version_major": 2,
       "version_minor": 0
      },
      "text/plain": [
       "Output()"
      ]
     },
     "metadata": {},
     "output_type": "display_data"
    }
   ],
   "source": [
    "from ipywidgets import Text, Dropdown, Output, AppLayout, interact  # If not already imported\n",
    "\n",
    "output_radio_selected = Text() # Used to take the user input and access it when needed\n",
    "displayType = Dropdown(\n",
    "    options=[\"Percentage\",\"Count\"],\n",
    "    value='Percentage',\n",
    "    description='Reads by:',\n",
    "    disabled=False,\n",
    ")\n",
    "# radio_input = widgets.RadioButtons(options=['Option 1', 'Option 2']) # Declare the set of radio buttons and provide options\n",
    "output = Output()\n",
    "\n",
    "@output.capture()\n",
    "def on_change_displayType(sender): # Connect the input from the user to the output so we can access it\n",
    "    output.clear_output()\n",
    "#     print(sender)\n",
    "    global selected_option # Global variable to hold the user input for reuse in your code\n",
    "    output_radio_selected.value = displayType.value\n",
    "    selected_option = output_radio_selected.value # Example variable assigned the selected value\n",
    "    print('Selected option set to: ' + selected_option) # For test purposes\n",
    "\n",
    "displayType.observe(on_change_displayType, names=['value']) # Run the bind... function when the radio button is changed\n",
    "displayType # Display the radio buttons to the user\n",
    "display(displayType)\n",
    "display(output)"
   ]
  },
  {
   "cell_type": "code",
   "execution_count": 5,
   "metadata": {},
   "outputs": [
    {
     "data": {
      "application/vnd.jupyter.widget-view+json": {
       "model_id": "964392396b0f4d358e2965a4eecf6b41",
       "version_major": 2,
       "version_minor": 0
      },
      "text/plain": [
       "interactive(children=(IntSlider(value=50, description='x', step=10), Output()), _dom_classes=('widget-interact…"
      ]
     },
     "metadata": {},
     "output_type": "display_data"
    }
   ],
   "source": [
    "\n",
    "def square(x):\n",
    "    return x * x\n",
    "interact(square, x=(0, 100, 10));"
   ]
  },
  {
   "cell_type": "code",
   "execution_count": 1,
   "metadata": {},
   "outputs": [
    {
     "data": {
      "text/html": [
       "<script>\n",
       "code_show=true; \n",
       "function code_toggle() {\n",
       " if (code_show){\n",
       " $('div.input').hide();\n",
       " } else {\n",
       " $('div.input').show();\n",
       " }\n",
       " code_show = !code_show\n",
       "} \n",
       "$( document ).ready(code_toggle);\n",
       "</script>\n",
       "<form action=\"javascript:code_toggle()\"><input type=\"submit\" value=\"Click here to toggle on/off the raw code.\"></form>"
      ],
      "text/plain": [
       "<IPython.core.display.HTML object>"
      ]
     },
     "execution_count": 1,
     "metadata": {},
     "output_type": "execute_result"
    }
   ],
   "source": [
    "from IPython.display import HTML\n",
    "\n",
    "HTML('''<script>\n",
    "code_show=true; \n",
    "function code_toggle() {\n",
    " if (code_show){\n",
    " $('div.input').hide();\n",
    " } else {\n",
    " $('div.input').show();\n",
    " }\n",
    " code_show = !code_show\n",
    "} \n",
    "$( document ).ready(code_toggle);\n",
    "</script>\n",
    "<form action=\"javascript:code_toggle()\"><input type=\"submit\" value=\"Click here to toggle on/off the raw code.\"></form>''')"
   ]
  },
  {
   "cell_type": "code",
   "execution_count": 2,
   "metadata": {},
   "outputs": [
    {
     "data": {
      "application/vnd.jupyter.widget-view+json": {
       "model_id": "70022fd0efcd4243a6cfa39660affc67",
       "version_major": 2,
       "version_minor": 0
      },
      "text/plain": [
       "Dropdown(description='Reads by:', options=('Percentage', 'Count'), value='Percentage')"
      ]
     },
     "metadata": {},
     "output_type": "display_data"
    },
    {
     "data": {
      "application/vnd.jupyter.widget-view+json": {
       "model_id": "69ccc5c2e79d4ab790dc83d350fb2a6a",
       "version_major": 2,
       "version_minor": 0
      },
      "text/plain": [
       "Output()"
      ]
     },
     "metadata": {},
     "output_type": "display_data"
    }
   ],
   "source": [
    "# @hidden_cell\n",
    "# %matplotlib inline\n",
    "from ipywidgets import AppLayout, Button, Output, Dropdown\n",
    "from IPython.display import display\n",
    "# top = Button(description=\"Top\")\n",
    "\n",
    "top = Dropdown(\n",
    "    options=[\"Percentage\",\"Count\"],\n",
    "    value='Percentage',\n",
    "    description='Reads by:',\n",
    "    disabled=False,\n",
    ")\n",
    "# bottom = Button(description=\"Bottom\")\n",
    "# l = AppLayout(header=top, footer=bottom )\n",
    "display(top)\n",
    "\n",
    "output = Output()\n",
    "\n",
    "@output.capture()\n",
    "def helloWorld(button):\n",
    "    print(dir(button))\n",
    "    output.clear_output();\n",
    "    print(\"Hello World\")\n",
    "    if button.new == \"Count\":\n",
    "        print(\"Count\")\n",
    "    else:\n",
    "        print(\"Percentage\")\n",
    "#     print(button.variables[button][:])\n",
    "#     print(dir(button))\n",
    "#     print(button)\n",
    "#     print(button.new)\n",
    "\n",
    "top.observe(helloWorld)\n",
    "\n",
    "display(output)\n"
   ]
  },
  {
   "cell_type": "code",
   "execution_count": null,
   "metadata": {},
   "outputs": [],
   "source": [
    "from ipywidgets import interact\n",
    "languages = {\"perc\":\"tage\",'count':'the reads'}\n",
    "def my_function(x):\n",
    "    return x\n",
    "l = interact(my_function, x=languages,description=\"Language\")\n",
    "display(l)"
   ]
  },
  {
   "cell_type": "code",
   "execution_count": null,
   "metadata": {},
   "outputs": [],
   "source": [
    "languages = [('Python', 'Rocks!'), ('C++', 'is hard!')]\n",
    "interact(my_function, x=languages)"
   ]
  },
  {
   "cell_type": "code",
   "execution_count": null,
   "metadata": {},
   "outputs": [],
   "source": [
    "top.on_trait_change"
   ]
  },
  {
   "cell_type": "code",
   "execution_count": null,
   "metadata": {},
   "outputs": [],
   "source": [
    "from IPython.display import display\n",
    "from ipywidgets import widgets\n",
    "button = widgets.Button(description=\"Click Me!\")\n",
    "display(button)\n",
    "\n",
    "output = widgets.Output()\n",
    "\n",
    "@output.capture()\n",
    "def on_button_clicked(b):\n",
    "    print(\"Button clicked.\")\n",
    "\n",
    "button.on_click(on_button_clicked)\n",
    "display(output)"
   ]
  },
  {
   "cell_type": "code",
   "execution_count": null,
   "metadata": {},
   "outputs": [],
   "source": [
    "l"
   ]
  },
  {
   "cell_type": "code",
   "execution_count": null,
   "metadata": {},
   "outputs": [],
   "source": [
    "\n",
    "from IPython.display import display\n",
    "display(l)"
   ]
  },
  {
   "cell_type": "markdown",
   "metadata": {},
   "source": [
    "<h2><a id=\"seqSums\">Sequencing Summaries</a></h2>\n",
    "<h4><a id=\"readbd\">Adapter Trimming and QC (Trimmomatic) Report</a></h4>"
   ]
  },
  {
   "cell_type": "markdown",
   "metadata": {},
   "source": [
    "![alt text](images/TrimReport.png \"Title\")"
   ]
  },
  {
   "cell_type": "markdown",
   "metadata": {},
   "source": [
    "<h4><a id=\"pAlign\">Alignments</a></h4>\n",
    "\n",
    "![alt text](images/PlantAlignedReads.png \"Plant Aligned Reads\")\n"
   ]
  },
  {
   "cell_type": "markdown",
   "metadata": {},
   "source": [
    "<h4><a id=\"swAlign\">Switchgrass Fungal alignment</a></h4>\n",
    "\n",
    "![alt text](images/SwitchgrassFungalAlign.png \"Title\")\n"
   ]
  },
  {
   "cell_type": "markdown",
   "metadata": {},
   "source": [
    "<h4><a id=\"aConc\">Annotation Report</a></h4>\n",
    "<p>Annotations were preformed using PROKKA annotations with gene identifiers mapped to KEGG Pathways. Exact annotation steps explained <a href='scripts/hpc_scripts/AnnotationPreprossesing.sh'>here</a>. The mapping and extraction of annotation counts can be found <a href='scripts/hpc_scripts/NGS_Mapping.sh'>here</a>.</p>"
   ]
  },
  {
   "cell_type": "code",
   "execution_count": null,
   "metadata": {},
   "outputs": [],
   "source": []
  },
  {
   "cell_type": "markdown",
   "metadata": {},
   "source": [
    "<h4><a id=\"aConc\">Alignment &amp; Annotation Observations</a></h4>\n",
    "<ol>\n",
    "    <li>The percentage of plant reads sequenced is high thoughout the season and tapers off towards the end of the season. This may be do to senescence of plant cells.</li>\n",
    "    <li>Alignment to the 6 selected fungal assemblies is low, but picks up during the warmer months. Overall, reads aligning to the combined fungal assembly were &lt;10% of the non-plant reads.</li>\n",
    "    <li>The overlap between which contigs have both a prokaryotic and a eukaryotic annotation suggest either shared gene similarity or eukarotic contamination.</li>\n",
    "</ol>"
   ]
  },
  {
   "cell_type": "markdown",
   "metadata": {},
   "source": [
    "<h4>Is there a seasonal pattern of functional selection?</h4>"
   ]
  },
  {
   "cell_type": "code",
   "execution_count": null,
   "metadata": {},
   "outputs": [],
   "source": [
    "%%bash\n",
    "ls images"
   ]
  }
 ],
 "metadata": {
  "kernelspec": {
   "display_name": "Python 3",
   "language": "python",
   "name": "python3"
  },
  "language_info": {
   "codemirror_mode": {
    "name": "ipython",
    "version": 3
   },
   "file_extension": ".py",
   "mimetype": "text/x-python",
   "name": "python",
   "nbconvert_exporter": "python",
   "pygments_lexer": "ipython3",
   "version": "3.7.4"
  }
 },
 "nbformat": 4,
 "nbformat_minor": 4
}
