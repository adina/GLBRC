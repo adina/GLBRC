{
 "cells": [
  {
   "cell_type": "markdown",
   "metadata": {},
   "source": [
    "<h1><a id='outline'>Project Outline</a></h1>\n",
    "\n",
    "* [Sequencing Summaries](#seqSums)\n",
    "    *  [Adapter Trimming and QC (Trimmomatic) Report](#readbd)\n",
    "    *  [Host Plant Alignment Report](#pAlign)\n",
    "    *  [Switchgrass Fungal Alignments](#swAlign)\n",
    "    *  [Alignment Conclusions](#aConc)\n",
    "* [Annotation Report](#anno)   \n",
    "\n",
    "\n",
    "* [NMDS of annotated contigs](#nmds)\n",
    "  *  [All Crops](#anmds)\n",
    "  *  [Switchgrass](#sgnmds)\n",
    "  *  [Miscanthus](#msnmds)\n",
    "*  [Function Analysis](#metaT)"
   ]
  },
  {
   "cell_type": "code",
   "execution_count": 1,
   "metadata": {},
   "outputs": [
    {
     "name": "stdout",
     "output_type": "stream",
     "text": [
      "(136, 3)\n"
     ]
    },
    {
     "data": {
      "application/vnd.jupyter.widget-view+json": {
       "model_id": "d0075c58b5904f6699937bc9c59d7ee0",
       "version_major": 2,
       "version_minor": 0
      },
      "text/plain": [
       "interactive(children=(Dropdown(description='column', options=('total_reads', 'paired_total', 'paired_aligned_n…"
      ]
     },
     "metadata": {},
     "output_type": "display_data"
    }
   ],
   "source": [
    "#HIDDEN\n",
    "%matplotlib inline\n",
    "from glob import glob\n",
    "from ipywidgets import Text, Dropdown, Output, interact\n",
    "from IPython.display import Audio\n",
    "from pandas import DataFrame, merge, read_csv, Series, to_datetime\n",
    "from pickle import dump, load\n",
    "from matplotlib import pyplot as plt\n",
    "from matplotlib.collections import LineCollection\n",
    "from random import randint \n",
    "from sklearn import manifold\n",
    "from sklearn.metrics import euclidean_distances\n",
    "import numpy as np\n",
    "import warnings\n",
    "\n",
    "done = Audio('done.wav',autoplay=True)\n",
    "warnings.simplefilter(action='ignore', category=FutureWarning)\n",
    "def comma(number): return \"{:,}\".format(number)\n",
    "def scolor(i,n,pickColor): \n",
    "    scalar = 255 - int((i/float(n))*120) \n",
    "    if pickColor: return '#%02X%02X%02X' % (128,scalar,128)\n",
    "    return '#%02X%02X%02X' % (75,scalar,200)\n",
    "global metadataG\n",
    "# For metaG\n",
    "metadataG = read_csv(\"metadata/GLBRC_MetaG_Metadata.tsv\",sep='\\t')\n",
    "metadataG.set_index(\"nucleic_acid_name\",inplace=True)\n",
    "metadataG.drop([\"source\",\"sampling ID\",\"sequencing_type\",\"height_mean_cm\",\"air_temp_c\",\"rep\",\"Sampling Time\",\"reads_file_name\",\"treatment\"],axis=1,inplace=True) \n",
    "\n",
    "for id in metadataG.index: metadataG.loc[id,\"type\"] = metadataG[metadataG.index == id].plot_name[0][0:2]\n",
    "metadataG['Date'] = to_datetime(metadataG.sampling_date)\n",
    "metadataG=metadataG.sort_values(by=[\"type\",\"Date\"])\n",
    "metadataG.drop([\"sampling_date\"],axis=1,inplace=True)\n",
    "print(metadataG.shape)\n",
    "\n",
    "metaG_Reads = read_csv(\"mapping/metaG/hostRemovalFlagstats/multiqc_data/multiqc_bowtie2.txt\",sep=\"\\t\")\n",
    "for id in metaG_Reads.index: metaG_Reads.at[id,\"Sample\"] = metaG_Reads.at[id,\"Sample\"].replace(\".stat\",\"\")\n",
    "metaG_Reads.set_index(\"Sample\",inplace=True)\n",
    "metadataG = merge(metadataG,metaG_Reads,left_index=True,right_index=True)\n",
    "metadataG.sort_values(\"Date\",inplace=True)\n",
    "\n",
    "# metadataG.head(3)\n",
    "@interact\n",
    "def show_articles_more_than(column=['total_reads', 'paired_total', 'paired_aligned_none', 'paired_aligned_one'], \n",
    "                            x=(0, 20000000, 50000)):\n",
    "    return metadataG.loc[metadataG[column] > x]"
   ]
  },
  {
   "cell_type": "code",
   "execution_count": 2,
   "metadata": {},
   "outputs": [
    {
     "data": {
      "application/vnd.jupyter.widget-view+json": {
       "model_id": "fe2d51c141b04618a86f7ac8c55b27b8",
       "version_major": 2,
       "version_minor": 0
      },
      "text/plain": [
       "Dropdown(description='Reads by:', options=('Percentage', 'Count'), value='Percentage')"
      ]
     },
     "metadata": {},
     "output_type": "display_data"
    },
    {
     "data": {
      "application/vnd.jupyter.widget-view+json": {
       "model_id": "e4b43916b00f4dc8b1b97653a09222e9",
       "version_major": 2,
       "version_minor": 0
      },
      "text/plain": [
       "Output()"
      ]
     },
     "metadata": {},
     "output_type": "display_data"
    }
   ],
   "source": [
    "# nbi:hide_in\n",
    "import ipywidgets\n",
    "from ipywidgets import Text, Dropdown, Output, interact  # If not already imported\n",
    "#AppLayout\n",
    "output_radio_selected = Text() # Used to take the user input and access it when needed\n",
    "displayType = Dropdown(\n",
    "    options=[\"Percentage\",\"Count\"],\n",
    "    value='Percentage',\n",
    "    description='Reads by:',\n",
    "    disabled=False,\n",
    ") # nbid:hide_ind remove ds\n",
    "# radio_input = widgets.RadioButtons(options=['Option 1', 'Option 2']) # Declare the set of radio buttons and provide options\n",
    "output = Output()\n",
    "\n",
    "@output.capture()\n",
    "def on_change_displayType(sender): # Connect the input from the user to the output so we can access it\n",
    "    output.clear_output()\n",
    "#     print(sender)\n",
    "    global selected_option # Global variable to hold the user input for reuse in your code\n",
    "    output_radio_selected.value = displayType.value\n",
    "    selected_option = output_radio_selected.value # Example variable assigned the selected value\n",
    "    print('Selected option set to: ' + selected_option) # For test purposes\n",
    "\n",
    "displayType.observe(on_change_displayType, names=['value']) # Run the bind... function when the radio button is changed\n",
    "displayType # Display the radio buttons to the user\n",
    "display(displayType)\n",
    "display(output)"
   ]
  },
  {
   "cell_type": "code",
   "execution_count": 3,
   "metadata": {},
   "outputs": [
    {
     "data": {
      "application/vnd.jupyter.widget-view+json": {
       "model_id": "7c1eff6678f24077b7a285861779635c",
       "version_major": 2,
       "version_minor": 0
      },
      "text/plain": [
       "interactive(children=(IntSlider(value=50, description='x', step=10), Output()), _dom_classes=('widget-interact…"
      ]
     },
     "metadata": {},
     "output_type": "display_data"
    }
   ],
   "source": [
    "#HIDDEN\n",
    "def square(x):\n",
    "    return x * x\n",
    "interact(square, x=(0, 100, 10));"
   ]
  },
  {
   "cell_type": "markdown",
   "metadata": {},
   "source": [
    "# Hello world2"
   ]
  },
  {
   "cell_type": "markdown",
   "metadata": {},
   "source": [
    "<h1><a id=\"seqSums\">Sequencing Summaries</a></h1>\n",
    "\n",
    "### What is the quality of the WGS metagenomic reads?\n",
    "\n",
    "<h4><a id=\"readbd\">Adapter Trimming and QC (Trimmomatic) Report</a></h4>"
   ]
  },
  {
   "cell_type": "markdown",
   "metadata": {},
   "source": [
    "![alt text](images/TrimReport.png \"Title\")"
   ]
  },
  {
   "cell_type": "markdown",
   "metadata": {},
   "source": [
    "<h4><a id=\"pAlign\">Alignments</a></h4>\n",
    "\n",
    "![alt text](images/PlantAlignedReads.png \"Plant Aligned Reads\")\n"
   ]
  },
  {
   "cell_type": "markdown",
   "metadata": {},
   "source": [
    "<h4><a id=\"swAlign\">Switchgrass Fungal alignment</a></h4>\n",
    "\n",
    "![alt text](images/SwitchgrassFungalAlign.png \"Title\")\n"
   ]
  },
  {
   "cell_type": "markdown",
   "metadata": {},
   "source": [
    "<h4><a id=\"aConc\">Annotation Report</a></h4>\n",
    "<p>Annotations were preformed using PROKKA annotations with gene identifiers mapped to KEGG Pathways. Exact annotation steps explained <a href='scripts/hpc_scripts/AnnotationPreprossesing.sh'>here</a>. The mapping and extraction of annotation counts can be found <a href='scripts/hpc_scripts/NGS_Mapping.sh'>here</a>.</p>"
   ]
  },
  {
   "cell_type": "code",
   "execution_count": null,
   "metadata": {},
   "outputs": [],
   "source": []
  },
  {
   "cell_type": "markdown",
   "metadata": {},
   "source": [
    "<h4><a id=\"aConc\">Alignment &amp; Annotation Observations</a></h4>\n",
    "<ol>\n",
    "    <li>The percentage of plant reads sequenced is high thoughout the season and tapers off towards the end of the season. This may be do to senescence of plant cells.</li>\n",
    "    <li>Alignment to the 6 selected fungal assemblies is low, but picks up during the warmer months. Overall, reads aligning to the combined fungal assembly were &lt;10% of the non-plant reads.</li>\n",
    "    <li>The overlap between which contigs have both a prokaryotic and a eukaryotic annotation suggest either shared gene similarity or eukarotic contamination.</li>\n",
    "</ol>"
   ]
  },
  {
   "cell_type": "markdown",
   "metadata": {},
   "source": [
    "<h4>Is there a seasonal pattern of functional selection?</h4>"
   ]
  }
 ],
 "metadata": {
  "kernelspec": {
   "display_name": "Python 3",
   "language": "python",
   "name": "python3"
  },
  "language_info": {
   "codemirror_mode": {
    "name": "ipython",
    "version": 3
   },
   "file_extension": ".py",
   "mimetype": "text/x-python",
   "name": "python",
   "nbconvert_exporter": "python",
   "pygments_lexer": "ipython3",
   "version": "3.7.4"
  }
 },
 "nbformat": 4,
 "nbformat_minor": 4
}
